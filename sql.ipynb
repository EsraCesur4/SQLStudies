{
 "cells": [
  {
   "cell_type": "markdown",
   "id": "f1bee62e",
   "metadata": {},
   "source": [
    "Kullanılan Kütüphaneler"
   ]
  },
  {
   "cell_type": "code",
   "execution_count": 133,
   "id": "1b7b581d",
   "metadata": {},
   "outputs": [],
   "source": [
    "import pandas as pd\n",
    "import sqlite3\n",
    "import requests\n",
    "import matplotlib.pyplot as plt"
   ]
  },
  {
   "cell_type": "markdown",
   "id": "fd246039",
   "metadata": {},
   "source": [
    "#### Veri tabanı nedir?\n",
    "Veritabanı uygulamalarımızda , websitelerimizde veya en genel anlamda programlarımızda gerekli olan bilgileri depoladığımız bir yapıdır."
   ]
  },
  {
   "attachments": {
    "sql-server-2016.png": {
     "image/png": "[encoded data removed]"
    }
   },
   "cell_type": "markdown",
   "id": "adba7cb0",
   "metadata": {},
   "source": [
    "![sql-server-2016.png](attachment:sql-server-2016.png)"
   ]
  },
  {
   "cell_type": "markdown",
   "id": "fe0ee1b3",
   "metadata": {},
   "source": [
    "Resim = https://learn.microsoft.com/en-us/sql/sql-server/what-s-new-in-sql-server-2016?view=sql-server-ver16 'den alınmıştır."
   ]
  },
  {
   "cell_type": "markdown",
   "id": "d0eaa82e",
   "metadata": {},
   "source": [
    "\n"
   ]
  },
  {
   "cell_type": "markdown",
   "id": "da200554",
   "metadata": {},
   "source": [
    "###### SQL nedir ? \n",
    "Structured Query Language kelimelerinin kısaltılmışı olan SQL bir veri tabanı uygulamasıdır. Türkçe karşılığı Yapılandırılmış Sorgu Dili anlamına gelmektedir.\n",
    "Birçok veriyi farklı boyutlarda ve farklı fonksiyonlarda barındıran veri tabanlarını yönetim sistemine verilen isimdir. SQL ile bu verilerin yönetimi, silinmesi, aktif edilmesi ve üzerinde çalışılması mümkündür.\n",
    "\n",
    "SQL ile;\n",
    "\n",
    "Veri tabanında var olan verileri kaydedebilirsiniz\n",
    "\n",
    "Veri tabanına yeni veriler çekebilirsiniz\n",
    "\n",
    "Veri tabanındaki verilerin tamamını güncelleyebilirsiniz\n",
    "\n",
    "Milyonlarca veri üzerinden sorgulama ve arama yapabilirsiniz\n",
    "\n",
    "Verileri silebilir, veri kayıtlarını yeniden oluşturarak yeni bir veri tabanı kurabilirsiniz\n",
    "\n",
    "Veri tabanına ait yeni tablolar üretebilirsiniz"
   ]
  },
  {
   "cell_type": "markdown",
   "id": "050fc20d",
   "metadata": {},
   "source": [
    "\n"
   ]
  },
  {
   "cell_type": "markdown",
   "id": "ae5f9b44",
   "metadata": {},
   "source": [
    "#                                                            SQLITE3"
   ]
  },
  {
   "cell_type": "markdown",
   "id": "9ab15bde",
   "metadata": {},
   "source": [
    "###### Sqlite3'te Syntax Kuralları\n",
    "Küçük ve Büyük harf duyarlılığı yoktır.\n",
    "GLOBAL = global\n"
   ]
  },
  {
   "cell_type": "markdown",
   "id": "9cacc531",
   "metadata": {},
   "source": [
    "##### SQLITE Veri tabanlarına bağlantı kurma"
   ]
  },
  {
   "cell_type": "code",
   "execution_count": 2,
   "id": "0677e805",
   "metadata": {},
   "outputs": [],
   "source": [
    "#Eğer yoksa ülkeverileri.db adında yeni bir veritabanı oluşturulur, eğer mevcut ise bu veritabanına bağlantı yapılır:\n",
    "\n",
    "sqlConn = sqlite3.connect('ülke_verileri.db')\n",
    "\n",
    "# connect() fonksiyonu veri tabanlarına bağlantı kurulumunda kullanılan methoddur."
   ]
  },
  {
   "cell_type": "code",
   "execution_count": 6,
   "id": "afc32b7f",
   "metadata": {},
   "outputs": [
    {
     "data": {
      "text/plain": [
       "sqlite3.Connection"
      ]
     },
     "execution_count": 6,
     "metadata": {},
     "output_type": "execute_result"
    }
   ],
   "source": [
    "type(sqlConn)"
   ]
  },
  {
   "cell_type": "markdown",
   "id": "f4630c0b",
   "metadata": {},
   "source": [
    "###### İşaretçi (imleç) tanımlama;"
   ]
  },
  {
   "cell_type": "code",
   "execution_count": 3,
   "id": "dd9a1955",
   "metadata": {},
   "outputs": [],
   "source": [
    "# Veritabanı dosyası üzerinde işlemler yapılabilmesi için bir işaretçi (imleç) tanımlanır.\n",
    "\n",
    "imlec = sqlConn.cursor()\n",
    "\n",
    "# imleç olmadan fonksiyonlardan sonuç almak mümkün değildir."
   ]
  },
  {
   "cell_type": "code",
   "execution_count": 5,
   "id": "b45c32d1",
   "metadata": {},
   "outputs": [
    {
     "data": {
      "text/plain": [
       "sqlite3.Cursor"
      ]
     },
     "execution_count": 5,
     "metadata": {},
     "output_type": "execute_result"
    }
   ],
   "source": [
    "type(imlec)"
   ]
  },
  {
   "cell_type": "markdown",
   "id": "77aa2aae",
   "metadata": {},
   "source": [
    "\n"
   ]
  },
  {
   "cell_type": "markdown",
   "id": "5cd9c3e0",
   "metadata": {},
   "source": [
    "## CRUD İŞLEMLERİ\n",
    "(create, read, update, delete)"
   ]
  },
  {
   "cell_type": "markdown",
   "id": "d94b8fa9",
   "metadata": {},
   "source": [
    "##### 1.Create"
   ]
  },
  {
   "cell_type": "markdown",
   "id": "c59a7767",
   "metadata": {},
   "source": [
    "Sqlite'da veritabanları tablolardan oluşur. Her bir tablo veritabanında gruplanmış verileri tutar.\n",
    "Sqlite'da bir tablo oluşturma örneği ile başlayalım ->"
   ]
  },
  {
   "cell_type": "code",
   "execution_count": 106,
   "id": "55b867db",
   "metadata": {
    "scrolled": false
   },
   "outputs": [
    {
     "data": {
      "text/plain": [
       "<sqlite3.Cursor at 0x1660f2489d0>"
      ]
     },
     "execution_count": 106,
     "metadata": {},
     "output_type": "execute_result"
    }
   ],
   "source": [
    "# Tablo oluşturmak için işaretçi, execute() methodu ile birlikte kullanılır.\n",
    "\n",
    "imlec.execute(\"\"\"CREATE TABLE IF NOT EXISTS veriler(Country TEXT,CountryCodes INT,Population INT, Area INT)\"\"\")\n",
    "\n",
    "# imlec.execute(\"\"\"CREATE TABLE veriler(Country TEXT,CountryCodes INT,Population INT, Area INT)\"\"\")"
   ]
  },
  {
   "cell_type": "markdown",
   "id": "aea4ce12",
   "metadata": {},
   "source": [
    "Veritabanlarını kolay görüntüleyebilmek için DataBase Browserlar kullanılır. Veritabanları Pandas \n",
    "ile de görüntülenebilir."
   ]
  },
  {
   "cell_type": "markdown",
   "id": "2580e469",
   "metadata": {},
   "source": [
    "Oluşturduğumuz boş veriler tablosunun DB Browser for SQLite'da görüntüsü:"
   ]
  },
  {
   "attachments": {
    "Ekran%20g%C3%B6r%C3%BCnt%C3%BCs%C3%BC%202023-01-01%20171831.png": {
     "image/png": "[encoded data removed]"
    }
   },
   "cell_type": "markdown",
   "id": "70dd0600",
   "metadata": {},
   "source": [
    "![Ekran%20g%C3%B6r%C3%BCnt%C3%BCs%C3%BC%202023-01-01%20171831.png](attachment:Ekran%20g%C3%B6r%C3%BCnt%C3%BCs%C3%BC%202023-01-01%20171831.png)"
   ]
  },
  {
   "attachments": {
    "Ekran%20g%C3%B6r%C3%BCnt%C3%BCs%C3%BC%202023-01-01%20165456.png": {
     "image/png": "[encoded data removed]"
    }
   },
   "cell_type": "markdown",
   "id": "1b7b6843",
   "metadata": {},
   "source": [
    "![Ekran%20g%C3%B6r%C3%BCnt%C3%BCs%C3%BC%202023-01-01%20165456.png](attachment:Ekran%20g%C3%B6r%C3%BCnt%C3%BCs%C3%BC%202023-01-01%20165456.png)"
   ]
  },
  {
   "cell_type": "markdown",
   "id": "c5e994d9",
   "metadata": {},
   "source": [
    "\n"
   ]
  },
  {
   "cell_type": "markdown",
   "id": "bb12a052",
   "metadata": {},
   "source": [
    "###### Tablolara değerler ekleme:"
   ]
  },
  {
   "cell_type": "markdown",
   "id": "09253c57",
   "metadata": {},
   "source": [
    "Bilgilerin alındığı site = https://countrycode.org/"
   ]
  },
  {
   "cell_type": "markdown",
   "id": "a32f6479",
   "metadata": {},
   "source": [
    "\n"
   ]
  },
  {
   "cell_type": "code",
   "execution_count": 107,
   "id": "b95cb343",
   "metadata": {},
   "outputs": [
    {
     "data": {
      "text/plain": [
       "<sqlite3.Cursor at 0x1660f2489d0>"
      ]
     },
     "execution_count": 107,
     "metadata": {},
     "output_type": "execute_result"
    }
   ],
   "source": [
    "imlec.execute(\"INSERT INTO veriler VALUES ('Australia', 61 , 21515754, 7686850) \")"
   ]
  },
  {
   "attachments": {
    "11.png": {
     "image/png": "[encoded data removed]"
    }
   },
   "cell_type": "markdown",
   "id": "4c979787",
   "metadata": {},
   "source": [
    "![11.png](attachment:11.png)"
   ]
  },
  {
   "cell_type": "code",
   "execution_count": 108,
   "id": "2a255bee",
   "metadata": {},
   "outputs": [
    {
     "data": {
      "text/plain": [
       "<sqlite3.Cursor at 0x1660f2489d0>"
      ]
     },
     "execution_count": 108,
     "metadata": {},
     "output_type": "execute_result"
    }
   ],
   "source": [
    "imlec.execute(\"INSERT INTO veriler VALUES ('Belgium', 32 , 10403000, 30510) \")\n",
    "imlec.execute(\"INSERT INTO veriler VALUES ('Canada', 1 , 33679000, 9984670) \")\n",
    "imlec.execute(\"INSERT INTO veriler VALUES ('China', 86, 1330044000, 9596960) \")\n",
    "imlec.execute(\"INSERT INTO veriler VALUES ('Fiji', 679 , 875983, 18270) \")\n",
    "imlec.execute(\"INSERT INTO veriler VALUES ('Luxembourg', 352 , 497538, 2586) \")\n",
    "imlec.execute(\"INSERT INTO veriler VALUES ('Peru', 51 , 29907003, 1285220) \")\n",
    "imlec.execute(\"INSERT INTO veriler VALUES ('Turkey', 90 , 77804122, 780580) \")\n",
    "imlec.execute(\"INSERT INTO veriler VALUES ('United Kingdom', 44 , 62348447, 244820) \")\n",
    "imlec.execute(\"INSERT INTO veriler VALUES ('United States', 1 , 310232863, 9629091) \")"
   ]
  },
  {
   "attachments": {
    "Ekran%20g%C3%B6r%C3%BCnt%C3%BCs%C3%BC%202023-01-01%20190428.png": {
     "image/png": "[encoded data removed]"
    }
   },
   "cell_type": "markdown",
   "id": "1cca2d4b",
   "metadata": {},
   "source": [
    "![Ekran%20g%C3%B6r%C3%BCnt%C3%BCs%C3%BC%202023-01-01%20190428.png](attachment:Ekran%20g%C3%B6r%C3%BCnt%C3%BCs%C3%BC%202023-01-01%20190428.png)"
   ]
  },
  {
   "cell_type": "markdown",
   "id": "04b7aaee",
   "metadata": {},
   "source": [
    "\n"
   ]
  },
  {
   "cell_type": "markdown",
   "id": "411ba93e",
   "metadata": {},
   "source": [
    "##### 2. Read"
   ]
  },
  {
   "cell_type": "markdown",
   "id": "77d944e2",
   "metadata": {},
   "source": [
    "###### cursor.fetchall()"
   ]
  },
  {
   "cell_type": "markdown",
   "id": "8d4e2b7a",
   "metadata": {},
   "source": [
    "Tablodaki şeçilen tüm verileri okur ve bu verileri bir tuple listesi olarak döndürür."
   ]
  },
  {
   "cell_type": "code",
   "execution_count": 263,
   "id": "d8d72c04",
   "metadata": {
    "scrolled": true
   },
   "outputs": [
    {
     "name": "stdout",
     "output_type": "stream",
     "text": [
      "('Australia', 61, 21515754, 7686850)\n",
      "('Belgium', 32, 10403000, 30510)\n",
      "('Canada', 1, 33679000, 9984670)\n",
      "('China', 86, 1330044000, 9596960)\n",
      "('Fiji', 679, 875983, 18270)\n",
      "('Luxembourg', 352, 497538, 2586)\n",
      "('Peru', 51, 29907003, 1285220)\n",
      "('Turkey', 90, 77804122, 780580)\n",
      "('United Kingdom', 44, 62348447, 244820)\n",
      "('United States', 1, 310232863, 9629091)\n"
     ]
    }
   ],
   "source": [
    "imlec.execute(\"\"\"SELECT * FROM veriler\"\"\")\n",
    "all_data = imlec.fetchall()\n",
    "for data in all_data:\n",
    "    print(data)"
   ]
  },
  {
   "cell_type": "code",
   "execution_count": 42,
   "id": "2a1ec639",
   "metadata": {},
   "outputs": [
    {
     "data": {
      "text/plain": [
       "tuple"
      ]
     },
     "execution_count": 42,
     "metadata": {},
     "output_type": "execute_result"
    }
   ],
   "source": [
    "type(all_data)"
   ]
  },
  {
   "cell_type": "code",
   "execution_count": 7,
   "id": "56d84393",
   "metadata": {},
   "outputs": [
    {
     "name": "stdout",
     "output_type": "stream",
     "text": [
      "('Australia', 61, 21515754, 7686850)\n"
     ]
    }
   ],
   "source": [
    "imlec.execute(\"SELECT * FROM veriler\")\n",
    "f_data = imlec.fetchone()\n",
    "print(f_data)"
   ]
  },
  {
   "cell_type": "code",
   "execution_count": 44,
   "id": "83a81dcd",
   "metadata": {
    "scrolled": true
   },
   "outputs": [
    {
     "name": "stdout",
     "output_type": "stream",
     "text": [
      "(61,)\n",
      "(32,)\n",
      "(1,)\n",
      "(86,)\n",
      "(679,)\n",
      "(352,)\n",
      "(51,)\n",
      "(90,)\n",
      "(44,)\n",
      "(1,)\n"
     ]
    }
   ],
   "source": [
    "imlec.execute(\"SELECT CountryCodes FROM veriler\")\n",
    "CC_data = imlec.fetchall()\n",
    "for data in CC_data:\n",
    "    print(data)"
   ]
  },
  {
   "cell_type": "code",
   "execution_count": 45,
   "id": "be1c2457",
   "metadata": {},
   "outputs": [
    {
     "data": {
      "text/plain": [
       "list"
      ]
     },
     "execution_count": 45,
     "metadata": {},
     "output_type": "execute_result"
    }
   ],
   "source": [
    "type(CC_data)"
   ]
  },
  {
   "cell_type": "markdown",
   "id": "4b89515c",
   "metadata": {},
   "source": [
    "\n"
   ]
  },
  {
   "cell_type": "markdown",
   "id": "d9909ecb",
   "metadata": {},
   "source": [
    "###### Bir koşula bağlı olarak sütun seçme."
   ]
  },
  {
   "cell_type": "code",
   "execution_count": 265,
   "id": "eb017993",
   "metadata": {
    "scrolled": false
   },
   "outputs": [
    {
     "name": "stdout",
     "output_type": "stream",
     "text": [
      "('Canada', 1, 33679000, 9984670)\n",
      "('United States', 1, 310232863, 9629091)\n"
     ]
    }
   ],
   "source": [
    "imlec.execute(\"SELECT * FROM veriler WHERE CountryCodes = 1\")\n",
    "d_data = imlec.fetchall()\n",
    "for data in d_data:\n",
    "    print(data)"
   ]
  },
  {
   "cell_type": "markdown",
   "id": "3d049af4",
   "metadata": {},
   "source": [
    "\n",
    "\n"
   ]
  },
  {
   "cell_type": "markdown",
   "id": "b861a327",
   "metadata": {},
   "source": [
    "###### Artan - Azalan Sıralama"
   ]
  },
  {
   "cell_type": "code",
   "execution_count": 266,
   "id": "f65ad4cd",
   "metadata": {
    "scrolled": false
   },
   "outputs": [
    {
     "name": "stdout",
     "output_type": "stream",
     "text": [
      "('Luxembourg', 352, 497538, 2586)\n",
      "('Fiji', 679, 875983, 18270)\n",
      "('Belgium', 32, 10403000, 30510)\n",
      "('Australia', 61, 21515754, 7686850)\n",
      "('Peru', 51, 29907003, 1285220)\n",
      "('Canada', 1, 33679000, 9984670)\n",
      "('United Kingdom', 44, 62348447, 244820)\n",
      "('Turkey', 90, 77804122, 780580)\n",
      "('United States', 1, 310232863, 9629091)\n",
      "('China', 86, 1330044000, 9596960)\n"
     ]
    }
   ],
   "source": [
    "imlec.execute(\"SELECT * FROM veriler ORDER BY Population ASC\")\n",
    "x_data = imlec.fetchall()\n",
    "for data4 in x_data:\n",
    "    print(data4)"
   ]
  },
  {
   "cell_type": "code",
   "execution_count": 81,
   "id": "76bddb38",
   "metadata": {
    "scrolled": false
   },
   "outputs": [
    {
     "name": "stdout",
     "output_type": "stream",
     "text": [
      "('China', 86, 1330044000, 9596960)\n",
      "('United States', 1, 310232863, 9629091)\n",
      "('Turkey', 90, 77804122, 780580)\n",
      "('United Kingdom', 44, 62348447, 244820)\n",
      "('Canada', 1, 33679000, 9984670)\n",
      "('Peru', 51, 29907003, 1285220)\n",
      "('Australia', 61, 21515754, 7686850)\n",
      "('Belgium', 32, 10403000, 30510)\n",
      "('Fiji', 679, 875983, 18270)\n",
      "('Luxembourg', 352, 497538, 2586)\n"
     ]
    }
   ],
   "source": [
    "imlec.execute(\"SELECT * FROM veriler ORDER BY Population DESC\")\n",
    "x_data = imlec.fetchall()\n",
    "for data4 in x_data:\n",
    "    print(data4)"
   ]
  },
  {
   "cell_type": "markdown",
   "id": "ec206446",
   "metadata": {},
   "source": [
    "\n"
   ]
  },
  {
   "cell_type": "markdown",
   "id": "3a7f0cff",
   "metadata": {},
   "source": [
    "###### Unique değerleri alma."
   ]
  },
  {
   "cell_type": "markdown",
   "id": "0d1ac9a3",
   "metadata": {},
   "source": [
    "Distinct = Farklı"
   ]
  },
  {
   "cell_type": "code",
   "execution_count": 11,
   "id": "e969a9da",
   "metadata": {
    "scrolled": true
   },
   "outputs": [
    {
     "name": "stdout",
     "output_type": "stream",
     "text": [
      "(61,)\n",
      "(32,)\n",
      "(1,)\n",
      "(86,)\n",
      "(679,)\n",
      "(352,)\n",
      "(51,)\n",
      "(90,)\n",
      "(44,)\n"
     ]
    }
   ],
   "source": [
    "imlec.execute(\"SELECT DISTINCT CountryCodes FROM veriler\")\n",
    "z_data = imlec.fetchall()\n",
    "for data4 in z_data:\n",
    "    print(data4)"
   ]
  },
  {
   "cell_type": "markdown",
   "id": "6360c242",
   "metadata": {},
   "source": [
    "\n"
   ]
  },
  {
   "cell_type": "markdown",
   "id": "2d4447c3",
   "metadata": {},
   "source": [
    "###### Alfabetik Sıralama"
   ]
  },
  {
   "cell_type": "code",
   "execution_count": 10,
   "id": "1d443a72",
   "metadata": {
    "scrolled": false
   },
   "outputs": [
    {
     "name": "stdout",
     "output_type": "stream",
     "text": [
      "('Australia', 61, 21515754, 7686850)\n",
      "('Belgium', 32, 10403000, 30510)\n",
      "('Canada', 1, 33679000, 9984670)\n",
      "('China', 86, 1330044000, 9596960)\n",
      "('Fiji', 679, 875983, 18270)\n",
      "('Luxembourg', 352, 497538, 2586)\n",
      "('Peru', 51, 29907003, 1285220)\n",
      "('Turkey', 90, 77804122, 780580)\n",
      "('United Kingdom', 44, 62348447, 244820)\n",
      "('United States', 1, 310232863, 9629091)\n"
     ]
    }
   ],
   "source": [
    "imlec.execute(\"SELECT * FROM veriler ORDER BY Country\")\n",
    "y_data = imlec.fetchall()\n",
    "for data2 in y_data:\n",
    "    print(data2)"
   ]
  },
  {
   "cell_type": "markdown",
   "id": "bb6d32d7",
   "metadata": {},
   "source": [
    "\n"
   ]
  },
  {
   "cell_type": "markdown",
   "id": "22697677",
   "metadata": {},
   "source": [
    "###### MAX & MIN değerler"
   ]
  },
  {
   "cell_type": "markdown",
   "id": "1d7af377",
   "metadata": {},
   "source": [
    "En büyük yüzölçümü:"
   ]
  },
  {
   "cell_type": "code",
   "execution_count": 13,
   "id": "47727446",
   "metadata": {
    "scrolled": true
   },
   "outputs": [
    {
     "name": "stdout",
     "output_type": "stream",
     "text": [
      "[(9984670,)]\n"
     ]
    }
   ],
   "source": [
    "imlec.execute(\"SELECT MAX(Area) FROM veriler\")\n",
    "max_area = imlec.fetchall()\n",
    "print(max_area)"
   ]
  },
  {
   "cell_type": "code",
   "execution_count": 46,
   "id": "17442e6f",
   "metadata": {},
   "outputs": [
    {
     "data": {
      "text/plain": [
       "list"
      ]
     },
     "execution_count": 46,
     "metadata": {},
     "output_type": "execute_result"
    }
   ],
   "source": [
    "type(max_area)"
   ]
  },
  {
   "cell_type": "code",
   "execution_count": 14,
   "id": "15234079",
   "metadata": {},
   "outputs": [
    {
     "name": "stdout",
     "output_type": "stream",
     "text": [
      "[(2586,)]\n"
     ]
    }
   ],
   "source": [
    "imlec.execute(\"SELECT MIN(Area) FROM veriler\")\n",
    "min_area = imlec.fetchall()\n",
    "print(min_area)"
   ]
  },
  {
   "cell_type": "code",
   "execution_count": 47,
   "id": "e4dc8a5b",
   "metadata": {},
   "outputs": [
    {
     "name": "stdout",
     "output_type": "stream",
     "text": [
      "[(9984670, 497538)]\n"
     ]
    }
   ],
   "source": [
    "imlec.execute(\"SELECT MAX(Area), MIN(Population) FROM veriler\")\n",
    "mm_area = imlec.fetchall()\n",
    "print(mm_area)"
   ]
  },
  {
   "cell_type": "code",
   "execution_count": 48,
   "id": "62b7d1ee",
   "metadata": {},
   "outputs": [
    {
     "data": {
      "text/plain": [
       "list"
      ]
     },
     "execution_count": 48,
     "metadata": {},
     "output_type": "execute_result"
    }
   ],
   "source": [
    "type(mm_area)"
   ]
  },
  {
   "cell_type": "markdown",
   "id": "9712d345",
   "metadata": {},
   "source": [
    "\n"
   ]
  },
  {
   "cell_type": "markdown",
   "id": "81b1fa89",
   "metadata": {},
   "source": [
    "###### Ortalama"
   ]
  },
  {
   "cell_type": "code",
   "execution_count": 16,
   "id": "c53618f8",
   "metadata": {},
   "outputs": [
    {
     "name": "stdout",
     "output_type": "stream",
     "text": [
      "[(187730771.0,)]\n"
     ]
    }
   ],
   "source": [
    "imlec.execute(\"SELECT AVG(Population) FROM veriler\")\n",
    "avg_pop = imlec.fetchall()\n",
    "print(avg_pop)"
   ]
  },
  {
   "cell_type": "markdown",
   "id": "3b72e01c",
   "metadata": {},
   "source": [
    "###### Count\n",
    "Bu tabloda kaç ülke vardır?"
   ]
  },
  {
   "cell_type": "code",
   "execution_count": 17,
   "id": "1cc22cd3",
   "metadata": {
    "scrolled": true
   },
   "outputs": [
    {
     "name": "stdout",
     "output_type": "stream",
     "text": [
      "[(10,)]\n"
     ]
    }
   ],
   "source": [
    "imlec.execute(\"SELECT COUNT(*) FROM veriler\")\n",
    "cnt_country = imlec.fetchall()\n",
    "print(cnt_country)"
   ]
  },
  {
   "cell_type": "markdown",
   "id": "a634cdc8",
   "metadata": {},
   "source": [
    "\n"
   ]
  },
  {
   "cell_type": "markdown",
   "id": "6734064c",
   "metadata": {},
   "source": [
    "#### String İşlemleri"
   ]
  },
  {
   "cell_type": "markdown",
   "id": "746204cf",
   "metadata": {},
   "source": [
    "###### Upper ve Lower\n",
    "Verilerin büyük ve küçük harfe dönüştürülmesi."
   ]
  },
  {
   "cell_type": "code",
   "execution_count": 19,
   "id": "825e29e9",
   "metadata": {
    "scrolled": true
   },
   "outputs": [
    {
     "name": "stdout",
     "output_type": "stream",
     "text": [
      "('AUSTRALIA',)\n",
      "('BELGIUM',)\n",
      "('CANADA',)\n",
      "('CHINA',)\n",
      "('FIJI',)\n",
      "('LUXEMBOURG',)\n",
      "('PERU',)\n",
      "('TURKEY',)\n",
      "('UNITED KINGDOM',)\n",
      "('UNITED STATES',)\n"
     ]
    }
   ],
   "source": [
    "imlec.execute(\"SELECT UPPER(Country) FROM veriler\")\n",
    "upr_country = imlec.fetchall()\n",
    "for data5 in upr_country:\n",
    "    print(data5)"
   ]
  },
  {
   "cell_type": "code",
   "execution_count": 20,
   "id": "cbc34ffa",
   "metadata": {},
   "outputs": [
    {
     "name": "stdout",
     "output_type": "stream",
     "text": [
      "('australia',)\n",
      "('belgium',)\n",
      "('canada',)\n",
      "('china',)\n",
      "('fiji',)\n",
      "('luxembourg',)\n",
      "('peru',)\n",
      "('turkey',)\n",
      "('united kingdom',)\n",
      "('united states',)\n"
     ]
    }
   ],
   "source": [
    "imlec.execute(\"SELECT LOWER(Country) FROM veriler\")\n",
    "lwr_country = imlec.fetchall()\n",
    "for data6 in lwr_country:\n",
    "    print(data6)"
   ]
  },
  {
   "cell_type": "markdown",
   "id": "db8f28ad",
   "metadata": {},
   "source": [
    "###### Substring\n",
    "Belli sayıda harf alma.\n",
    "Substring belli karakterleri string'den ayırmaya yarar."
   ]
  },
  {
   "cell_type": "code",
   "execution_count": 32,
   "id": "dd5a804c",
   "metadata": {
    "scrolled": true
   },
   "outputs": [
    {
     "name": "stdout",
     "output_type": "stream",
     "text": [
      "('Aus',)\n",
      "('Bel',)\n",
      "('Can',)\n",
      "('Chi',)\n",
      "('Fij',)\n",
      "('Lux',)\n",
      "('Per',)\n",
      "('Tur',)\n",
      "('Uni',)\n",
      "('Uni',)\n"
     ]
    }
   ],
   "source": [
    "imlec.execute(\"SELECT SUBSTRING(Country,1,3) FROM veriler\")\n",
    "num_country = imlec.fetchall()\n",
    "for data7 in num_country:\n",
    "    print(data7)"
   ]
  },
  {
   "cell_type": "code",
   "execution_count": 33,
   "id": "9300a12e",
   "metadata": {},
   "outputs": [
    {
     "name": "stdout",
     "output_type": "stream",
     "text": [
      "('us',)\n",
      "('el',)\n",
      "('an',)\n",
      "('hi',)\n",
      "('ij',)\n",
      "('ux',)\n",
      "('er',)\n",
      "('ur',)\n",
      "('ni',)\n",
      "('ni',)\n"
     ]
    }
   ],
   "source": [
    "imlec.execute(\"SELECT SUBSTRING(Country,2,2) FROM veriler\")\n",
    "num0_country = imlec.fetchall()\n",
    "for data7 in num0_country:\n",
    "    print(data7)"
   ]
  },
  {
   "cell_type": "markdown",
   "id": "3f3a0193",
   "metadata": {},
   "source": [
    "###### String uzunluğu."
   ]
  },
  {
   "cell_type": "code",
   "execution_count": 34,
   "id": "cc32d08c",
   "metadata": {},
   "outputs": [
    {
     "name": "stdout",
     "output_type": "stream",
     "text": [
      "('Australia', 9)\n",
      "('Belgium', 7)\n",
      "('Canada', 6)\n",
      "('China', 5)\n",
      "('Fiji', 4)\n",
      "('Luxembourg', 10)\n",
      "('Peru', 4)\n",
      "('Turkey', 6)\n",
      "('United Kingdom', 14)\n",
      "('United States', 13)\n"
     ]
    }
   ],
   "source": [
    "imlec.execute(\"SELECT Country, LENGTH(Country) FROM veriler\")\n",
    "str_country = imlec.fetchall()\n",
    "for data8 in str_country:\n",
    "    print(data8)"
   ]
  },
  {
   "cell_type": "markdown",
   "id": "34508202",
   "metadata": {},
   "source": [
    "###### Örnek 1 :\n",
    "Tabloda istenilen sayıda satır alma."
   ]
  },
  {
   "cell_type": "code",
   "execution_count": 36,
   "id": "4bf0b65b",
   "metadata": {
    "scrolled": true
   },
   "outputs": [
    {
     "name": "stdout",
     "output_type": "stream",
     "text": [
      "('Australia', 61, 21515754, 7686850)\n",
      "('Belgium', 32, 10403000, 30510)\n",
      "('Canada', 1, 33679000, 9984670)\n",
      "('China', 86, 1330044000, 9596960)\n",
      "('Fiji', 679, 875983, 18270)\n"
     ]
    }
   ],
   "source": [
    "imlec.execute(\"SELECT * FROM veriler LIMIT 5\")\n",
    "tablo5 = imlec.fetchall()\n",
    "for data9 in tablo5:\n",
    "    print(data9)"
   ]
  },
  {
   "cell_type": "markdown",
   "id": "f1ea7de6",
   "metadata": {},
   "source": [
    "###### Örnek 2:\n",
    "Belli sayılar arasındaki değerleri alma:"
   ]
  },
  {
   "cell_type": "code",
   "execution_count": 39,
   "id": "5d949192",
   "metadata": {
    "scrolled": true
   },
   "outputs": [
    {
     "name": "stdout",
     "output_type": "stream",
     "text": [
      "('Australia', 61, 21515754, 7686850)\n",
      "('China', 86, 1330044000, 9596960)\n",
      "('Luxembourg', 352, 497538, 2586)\n",
      "('Peru', 51, 29907003, 1285220)\n",
      "('Turkey', 90, 77804122, 780580)\n"
     ]
    }
   ],
   "source": [
    "imlec.execute(\"SELECT * FROM veriler WHERE CountryCodes BETWEEN 50 AND 400\")\n",
    "btw_veri = imlec.fetchall()\n",
    "for data10 in btw_veri:\n",
    "    print(data10)"
   ]
  },
  {
   "cell_type": "code",
   "execution_count": 40,
   "id": "1b52a6a7",
   "metadata": {
    "scrolled": false
   },
   "outputs": [
    {
     "name": "stdout",
     "output_type": "stream",
     "text": [
      "('Belgium', 32, 10403000, 30510)\n",
      "('Canada', 1, 33679000, 9984670)\n",
      "('Fiji', 679, 875983, 18270)\n",
      "('United Kingdom', 44, 62348447, 244820)\n",
      "('United States', 1, 310232863, 9629091)\n"
     ]
    }
   ],
   "source": [
    "imlec.execute(\"SELECT * FROM veriler WHERE CountryCodes NOT BETWEEN 50 AND 400\")\n",
    "btw1_veri = imlec.fetchall()\n",
    "for data10 in btw1_veri:\n",
    "    print(data10)"
   ]
  },
  {
   "cell_type": "markdown",
   "id": "559c6716",
   "metadata": {},
   "source": [
    "###### Like:\n",
    "İsminde 'e' harfi bulunan ülkeleri yazma: (% operatörü)"
   ]
  },
  {
   "cell_type": "code",
   "execution_count": 49,
   "id": "3af0b7e8",
   "metadata": {
    "scrolled": true
   },
   "outputs": [
    {
     "name": "stdout",
     "output_type": "stream",
     "text": [
      "('Belgium', 32, 10403000, 30510)\n",
      "('Luxembourg', 352, 497538, 2586)\n",
      "('Peru', 51, 29907003, 1285220)\n",
      "('Turkey', 90, 77804122, 780580)\n",
      "('United Kingdom', 44, 62348447, 244820)\n",
      "('United States', 1, 310232863, 9629091)\n"
     ]
    }
   ],
   "source": [
    "imlec.execute(\"SELECT * FROM veriler WHERE Country LIKE '%e%'\")\n",
    "e_veri = imlec.fetchall()\n",
    "for data10 in e_veri:\n",
    "    print(data10)"
   ]
  },
  {
   "cell_type": "markdown",
   "id": "5ed72c74",
   "metadata": {},
   "source": [
    "Referans = https://www.w3schools.com/sql/sql_like.asp\n",
    "1. 'a%' = a ile başlayan\n",
    "2. '%a%' = a bulunduran\n",
    "3. 'a__%'= a ile başlayan ve en az 3 karakter uzunluğunda olan (örnek = and)\n",
    "4. '%o' = o ile biten\n",
    "5. 'a%o' = a ile başlayan o ile biten"
   ]
  },
  {
   "cell_type": "markdown",
   "id": "8128af02",
   "metadata": {},
   "source": [
    "###### Toplama İşlemi"
   ]
  },
  {
   "cell_type": "code",
   "execution_count": 51,
   "id": "f7d17a71",
   "metadata": {},
   "outputs": [
    {
     "name": "stdout",
     "output_type": "stream",
     "text": [
      "(78,)\n"
     ]
    }
   ],
   "source": [
    "imlec.execute(\"SELECT SUM(LENGTH(Country)) FROM veriler\")\n",
    "sum_country = imlec.fetchall()\n",
    "for data14 in sum_country:\n",
    "    print(data14)"
   ]
  },
  {
   "cell_type": "markdown",
   "id": "d18c0cdb",
   "metadata": {},
   "source": [
    "\n"
   ]
  },
  {
   "cell_type": "markdown",
   "id": "22828a79",
   "metadata": {},
   "source": [
    "##### 3. Update"
   ]
  },
  {
   "cell_type": "markdown",
   "id": "007fd82b",
   "metadata": {},
   "source": [
    "Tablolardaki verileri güncelleme:"
   ]
  },
  {
   "cell_type": "code",
   "execution_count": 267,
   "id": "b42c6746",
   "metadata": {},
   "outputs": [
    {
     "data": {
      "text/plain": [
       "<sqlite3.Cursor at 0x21960539650>"
      ]
     },
     "execution_count": 267,
     "metadata": {},
     "output_type": "execute_result"
    }
   ],
   "source": [
    "imlec.execute(\"UPDATE veriler SET CountryCodes = 0 WHERE CountryCodes = 1\")"
   ]
  },
  {
   "cell_type": "code",
   "execution_count": 268,
   "id": "ddb96af5",
   "metadata": {
    "scrolled": true
   },
   "outputs": [
    {
     "name": "stdout",
     "output_type": "stream",
     "text": [
      "('Australia', 61, 21515754, 7686850)\n",
      "('Belgium', 32, 10403000, 30510)\n",
      "('Canada', 0, 33679000, 9984670)\n",
      "('China', 86, 1330044000, 9596960)\n",
      "('Fiji', 679, 875983, 18270)\n",
      "('Luxembourg', 352, 497538, 2586)\n",
      "('Peru', 51, 29907003, 1285220)\n",
      "('Turkey', 90, 77804122, 780580)\n",
      "('United Kingdom', 44, 62348447, 244820)\n",
      "('United States', 0, 310232863, 9629091)\n"
     ]
    }
   ],
   "source": [
    "imlec.execute(\"SELECT * FROM veriler\")\n",
    "all_data1 = imlec.fetchall()\n",
    "for data in all_data1:\n",
    "    print(data)"
   ]
  },
  {
   "cell_type": "markdown",
   "id": "36d011ee",
   "metadata": {},
   "source": [
    "###### Örnek:\n",
    "Popülasyonun 2037 yılına kadar %50 artacağı söyleniyor. 2037 yılında ülke popülasyonları nasıl görünür?"
   ]
  },
  {
   "cell_type": "code",
   "execution_count": 6,
   "id": "1e80c056",
   "metadata": {
    "scrolled": false
   },
   "outputs": [
    {
     "name": "stdout",
     "output_type": "stream",
     "text": [
      "('Australia', 21515754, 32273631)\n",
      "('Belgium', 10403000, 15604500)\n",
      "('Canada', 33679000, 50518500)\n",
      "('China', 1330044000, 1995066000)\n",
      "('Fiji', 875983, 1313974)\n",
      "('Luxembourg', 497538, 746307)\n",
      "('Peru', 29907003, 44860504)\n",
      "('Turkey', 77804122, 116706183)\n",
      "('United Kingdom', 62348447, 93522670)\n",
      "('United States', 310232863, 465349294)\n"
     ]
    }
   ],
   "source": [
    "imlec.execute(\"SELECT Country, Population, (Population + (Population / 2)) FROM veriler\")\n",
    "all_data1 = imlec.fetchall()\n",
    "for data in all_data1:\n",
    "    print(data)"
   ]
  },
  {
   "cell_type": "code",
   "execution_count": 7,
   "id": "c029c0bf",
   "metadata": {},
   "outputs": [
    {
     "data": {
      "text/plain": [
       "<sqlite3.Cursor at 0x2e0c3f510a0>"
      ]
     },
     "execution_count": 7,
     "metadata": {},
     "output_type": "execute_result"
    }
   ],
   "source": [
    "imlec.execute(\"\"\"UPDATE veriler SET Population = (Population + (Population / 2))\"\"\")"
   ]
  },
  {
   "cell_type": "code",
   "execution_count": 8,
   "id": "223cc21b",
   "metadata": {},
   "outputs": [
    {
     "name": "stdout",
     "output_type": "stream",
     "text": [
      "('Australia', 32273631)\n",
      "('Belgium', 15604500)\n",
      "('Canada', 50518500)\n",
      "('China', 1995066000)\n",
      "('Fiji', 1313974)\n",
      "('Luxembourg', 746307)\n",
      "('Peru', 44860504)\n",
      "('Turkey', 116706183)\n",
      "('United Kingdom', 93522670)\n",
      "('United States', 465349294)\n"
     ]
    }
   ],
   "source": [
    "imlec.execute(\"SELECT Country, Population FROM veriler\")\n",
    "all_data1 = imlec.fetchall()\n",
    "for data in all_data1:\n",
    "    print(data)"
   ]
  },
  {
   "cell_type": "markdown",
   "id": "4cf8effd",
   "metadata": {},
   "source": [
    "###### Sütun değerlerini boş yapma."
   ]
  },
  {
   "cell_type": "code",
   "execution_count": 8,
   "id": "2b3dface",
   "metadata": {
    "scrolled": true
   },
   "outputs": [
    {
     "data": {
      "text/plain": [
       "<sqlite3.Cursor at 0x1660ecd5a40>"
      ]
     },
     "execution_count": 8,
     "metadata": {},
     "output_type": "execute_result"
    }
   ],
   "source": [
    "imlec.execute(\"UPDATE veriler SET Population = NULL\")"
   ]
  },
  {
   "cell_type": "code",
   "execution_count": 9,
   "id": "b833127b",
   "metadata": {
    "scrolled": true
   },
   "outputs": [
    {
     "name": "stdout",
     "output_type": "stream",
     "text": [
      "('Australia', 61, None, 7686850)\n",
      "('Belgium', 32, None, 30510)\n",
      "('Canada', 1, None, 9984670)\n",
      "('China', 86, None, 9596960)\n",
      "('Fiji', 679, None, 18270)\n",
      "('Luxembourg', 352, None, 2586)\n",
      "('Peru', 51, None, 1285220)\n",
      "('Turkey', 90, None, 780580)\n",
      "('United Kingdom', 44, None, 244820)\n",
      "('United States', 1, None, 9629091)\n"
     ]
    }
   ],
   "source": [
    "imlec.execute(\"SELECT * FROM veriler\")\n",
    "null_data1 = imlec.fetchall()\n",
    "for data in null_data1:\n",
    "    print(data)"
   ]
  },
  {
   "attachments": {
    "Ekran%20g%C3%B6r%C3%BCnt%C3%BCs%C3%BC%202023-01-03%20220820.png": {
     "image/png": "[encoded data removed]"
    }
   },
   "cell_type": "markdown",
   "id": "3dcc6929",
   "metadata": {},
   "source": [
    "![Ekran%20g%C3%B6r%C3%BCnt%C3%BCs%C3%BC%202023-01-03%20220820.png](attachment:Ekran%20g%C3%B6r%C3%BCnt%C3%BCs%C3%BC%202023-01-03%20220820.png)"
   ]
  },
  {
   "cell_type": "markdown",
   "id": "49053531",
   "metadata": {},
   "source": [
    "\n"
   ]
  },
  {
   "cell_type": "markdown",
   "id": "66565e05",
   "metadata": {},
   "source": [
    "##### 4. Delete"
   ]
  },
  {
   "cell_type": "markdown",
   "id": "8436f3a0",
   "metadata": {},
   "source": [
    "Tablolardan satır silme:"
   ]
  },
  {
   "cell_type": "code",
   "execution_count": 269,
   "id": "02543233",
   "metadata": {},
   "outputs": [
    {
     "data": {
      "text/plain": [
       "<sqlite3.Cursor at 0x21960539650>"
      ]
     },
     "execution_count": 269,
     "metadata": {},
     "output_type": "execute_result"
    }
   ],
   "source": [
    "imlec.execute(\"DELETE FROM veriler WHERE CountryCodes = 0\")"
   ]
  },
  {
   "cell_type": "markdown",
   "id": "9e9096bf",
   "metadata": {},
   "source": [
    "#### Pandas ile Database görüntüleme:"
   ]
  },
  {
   "cell_type": "markdown",
   "id": "c4cd9586",
   "metadata": {},
   "source": [
    "Tablolar Data Frame'lere dönüştürülerek Pandas Tablosu şeklinde görüntülebilir."
   ]
  },
  {
   "cell_type": "code",
   "execution_count": 272,
   "id": "0a6f20ba",
   "metadata": {
    "scrolled": true
   },
   "outputs": [],
   "source": [
    "country_df = pd.read_sql_query(\"SELECT * from veriler\", con=sqlConn)"
   ]
  },
  {
   "cell_type": "code",
   "execution_count": 273,
   "id": "27b25bed",
   "metadata": {
    "scrolled": false
   },
   "outputs": [
    {
     "data": {
      "text/html": [
       "<div>\n",
       "<style scoped>\n",
       "    .dataframe tbody tr th:only-of-type {\n",
       "        vertical-align: middle;\n",
       "    }\n",
       "\n",
       "    .dataframe tbody tr th {\n",
       "        vertical-align: top;\n",
       "    }\n",
       "\n",
       "    .dataframe thead th {\n",
       "        text-align: right;\n",
       "    }\n",
       "</style>\n",
       "<table border=\"1\" class=\"dataframe\">\n",
       "  <thead>\n",
       "    <tr style=\"text-align: right;\">\n",
       "      <th></th>\n",
       "      <th>Country</th>\n",
       "      <th>CountryCodes</th>\n",
       "      <th>Population</th>\n",
       "      <th>Area</th>\n",
       "    </tr>\n",
       "  </thead>\n",
       "  <tbody>\n",
       "    <tr>\n",
       "      <th>0</th>\n",
       "      <td>Australia</td>\n",
       "      <td>61</td>\n",
       "      <td>21515754</td>\n",
       "      <td>7686850</td>\n",
       "    </tr>\n",
       "    <tr>\n",
       "      <th>1</th>\n",
       "      <td>Belgium</td>\n",
       "      <td>32</td>\n",
       "      <td>10403000</td>\n",
       "      <td>30510</td>\n",
       "    </tr>\n",
       "    <tr>\n",
       "      <th>2</th>\n",
       "      <td>China</td>\n",
       "      <td>86</td>\n",
       "      <td>1330044000</td>\n",
       "      <td>9596960</td>\n",
       "    </tr>\n",
       "    <tr>\n",
       "      <th>3</th>\n",
       "      <td>Fiji</td>\n",
       "      <td>679</td>\n",
       "      <td>875983</td>\n",
       "      <td>18270</td>\n",
       "    </tr>\n",
       "    <tr>\n",
       "      <th>4</th>\n",
       "      <td>Luxembourg</td>\n",
       "      <td>352</td>\n",
       "      <td>497538</td>\n",
       "      <td>2586</td>\n",
       "    </tr>\n",
       "    <tr>\n",
       "      <th>5</th>\n",
       "      <td>Peru</td>\n",
       "      <td>51</td>\n",
       "      <td>29907003</td>\n",
       "      <td>1285220</td>\n",
       "    </tr>\n",
       "    <tr>\n",
       "      <th>6</th>\n",
       "      <td>Turkey</td>\n",
       "      <td>90</td>\n",
       "      <td>77804122</td>\n",
       "      <td>780580</td>\n",
       "    </tr>\n",
       "    <tr>\n",
       "      <th>7</th>\n",
       "      <td>United Kingdom</td>\n",
       "      <td>44</td>\n",
       "      <td>62348447</td>\n",
       "      <td>244820</td>\n",
       "    </tr>\n",
       "  </tbody>\n",
       "</table>\n",
       "</div>"
      ],
      "text/plain": [
       "          Country  CountryCodes  Population     Area\n",
       "0       Australia            61    21515754  7686850\n",
       "1         Belgium            32    10403000    30510\n",
       "2           China            86  1330044000  9596960\n",
       "3            Fiji           679      875983    18270\n",
       "4      Luxembourg           352      497538     2586\n",
       "5            Peru            51    29907003  1285220\n",
       "6          Turkey            90    77804122   780580\n",
       "7  United Kingdom            44    62348447   244820"
      ]
     },
     "execution_count": 273,
     "metadata": {},
     "output_type": "execute_result"
    }
   ],
   "source": [
    "country_df"
   ]
  },
  {
   "cell_type": "markdown",
   "id": "8c47967a",
   "metadata": {},
   "source": [
    "##### Tablo Silme"
   ]
  },
  {
   "cell_type": "markdown",
   "id": "c8b0df82",
   "metadata": {},
   "source": [
    "2. Tablonun oluşturulması."
   ]
  },
  {
   "cell_type": "code",
   "execution_count": 89,
   "id": "520c8bc9",
   "metadata": {},
   "outputs": [
    {
     "data": {
      "text/plain": [
       "<sqlite3.Cursor at 0x1660ecd5a40>"
      ]
     },
     "execution_count": 89,
     "metadata": {},
     "output_type": "execute_result"
    }
   ],
   "source": [
    "imlec.execute(\"\"\"CREATE TABLE IF NOT EXISTS veriler2(Country TEXT,CountryCodes INT,Population INT, Area INT)\"\"\")"
   ]
  },
  {
   "attachments": {
    "Ekran%20g%C3%B6r%C3%BCnt%C3%BCs%C3%BC%202023-01-01%20171831.png": {
     "image/png": "[encoded data removed]"
    }
   },
   "cell_type": "markdown",
   "id": "f5111c39",
   "metadata": {},
   "source": [
    "![Ekran%20g%C3%B6r%C3%BCnt%C3%BCs%C3%BC%202023-01-01%20171831.png](attachment:Ekran%20g%C3%B6r%C3%BCnt%C3%BCs%C3%BC%202023-01-01%20171831.png)"
   ]
  },
  {
   "attachments": {
    "Ekran%20g%C3%B6r%C3%BCnt%C3%BCs%C3%BC%202023-01-03%20213703.png": {
     "image/png": "[encoded data removed]"
    }
   },
   "cell_type": "markdown",
   "id": "70ad4299",
   "metadata": {},
   "source": [
    "![Ekran%20g%C3%B6r%C3%BCnt%C3%BCs%C3%BC%202023-01-03%20213703.png](attachment:Ekran%20g%C3%B6r%C3%BCnt%C3%BCs%C3%BC%202023-01-03%20213703.png)"
   ]
  },
  {
   "cell_type": "markdown",
   "id": "d58ed2cd",
   "metadata": {},
   "source": [
    "Tablo Silme."
   ]
  },
  {
   "cell_type": "code",
   "execution_count": 90,
   "id": "cc0e31af",
   "metadata": {
    "scrolled": true
   },
   "outputs": [
    {
     "data": {
      "text/plain": [
       "<sqlite3.Cursor at 0x1660ecd5a40>"
      ]
     },
     "execution_count": 90,
     "metadata": {},
     "output_type": "execute_result"
    }
   ],
   "source": [
    "imlec.execute(\"DROP TABLE veriler2\")"
   ]
  },
  {
   "attachments": {
    "Ekran%20g%C3%B6r%C3%BCnt%C3%BCs%C3%BC%202023-01-03%20213820.png": {
     "image/png": "[encoded data removed]"
    }
   },
   "cell_type": "markdown",
   "id": "fe953fef",
   "metadata": {},
   "source": [
    "![Ekran%20g%C3%B6r%C3%BCnt%C3%BCs%C3%BC%202023-01-03%20213820.png](attachment:Ekran%20g%C3%B6r%C3%BCnt%C3%BCs%C3%BC%202023-01-03%20213820.png)"
   ]
  },
  {
   "cell_type": "markdown",
   "id": "b0729699",
   "metadata": {},
   "source": [
    "## Tüm değişimleri kaydetme"
   ]
  },
  {
   "cell_type": "markdown",
   "id": "459db390",
   "metadata": {},
   "source": [
    "###### con.commit()"
   ]
  },
  {
   "cell_type": "markdown",
   "id": "c1246f30",
   "metadata": {},
   "source": [
    "Yukarıdaki yapılan değişikliklerin veritabanı üzerinde uygulanabilmesi için bir onaya ihtiyaç vardır.\n",
    "Eğer .commit() fonksiyonu kullanılmazsa yapılan güncel değişiklikler veritabanında uygulanmaz."
   ]
  },
  {
   "cell_type": "code",
   "execution_count": 111,
   "id": "08386f08",
   "metadata": {},
   "outputs": [],
   "source": [
    "sqlConn.commit()"
   ]
  },
  {
   "cell_type": "markdown",
   "id": "cf9976e3",
   "metadata": {},
   "source": [
    "# Örnek"
   ]
  },
  {
   "cell_type": "markdown",
   "id": "4f6fffd0",
   "metadata": {},
   "source": [
    "##### Text veya csv dosyalarını Veritabanı'na Pandas ile dönüştürme:\n"
   ]
  },
  {
   "cell_type": "markdown",
   "id": "4f018787",
   "metadata": {},
   "source": [
    "Dataframe'in Database'e dönüştürülmesi"
   ]
  },
  {
   "cell_type": "code",
   "execution_count": 56,
   "id": "5409b0a7",
   "metadata": {},
   "outputs": [],
   "source": [
    "link = \"https://gist.githubusercontent.com/FanYang715/b3e61d85ec47366d0ba0b1c7625b32c3/raw/2f86c7a64058730442281a622640056e1ad9aece/pokemon.csv\"\n",
    "r = requests.get(link, allow_redirects=True)\n",
    "with open(\"pokemon_data.txt\", \"wb\") as file:\n",
    "    file.write(r.content)"
   ]
  },
  {
   "cell_type": "markdown",
   "id": "98782f47",
   "metadata": {},
   "source": [
    "\n"
   ]
  },
  {
   "cell_type": "markdown",
   "id": "867642a3",
   "metadata": {},
   "source": [
    "Link = https://gist.githubusercontent.com/FanYang715/b3e61d85ec47366d0ba0b1c7625b32c3/raw/2f86c7a64058730442281a622640056e1ad9aece/pokemon.csv"
   ]
  },
  {
   "attachments": {
    "Ekran%20g%C3%B6r%C3%BCnt%C3%BCs%C3%BC%202023-01-02%20213406.png": {
     "image/png": "[encoded data removed]"
    }
   },
   "cell_type": "markdown",
   "id": "2d7922f7",
   "metadata": {},
   "source": [
    "![Ekran%20g%C3%B6r%C3%BCnt%C3%BCs%C3%BC%202023-01-02%20213406.png](attachment:Ekran%20g%C3%B6r%C3%BCnt%C3%BCs%C3%BC%202023-01-02%20213406.png)"
   ]
  },
  {
   "cell_type": "markdown",
   "id": "0ccb85e7",
   "metadata": {},
   "source": [
    "Verilerin Pandas ile okunması:"
   ]
  },
  {
   "cell_type": "code",
   "execution_count": 11,
   "id": "c95cb97a",
   "metadata": {},
   "outputs": [],
   "source": [
    "pokemon_data = pd.read_csv(\"pokemon_data.txt\")\n",
    "pokemon_df = pd.DataFrame(pokemon_data)"
   ]
  },
  {
   "cell_type": "code",
   "execution_count": 13,
   "id": "65390eec",
   "metadata": {},
   "outputs": [
    {
     "data": {
      "text/plain": [
       "pandas.core.frame.DataFrame"
      ]
     },
     "execution_count": 13,
     "metadata": {},
     "output_type": "execute_result"
    }
   ],
   "source": [
    "type(pokemon_data)"
   ]
  },
  {
   "cell_type": "code",
   "execution_count": 14,
   "id": "0f5abd56",
   "metadata": {},
   "outputs": [
    {
     "data": {
      "text/plain": [
       "pandas.core.frame.DataFrame"
      ]
     },
     "execution_count": 14,
     "metadata": {},
     "output_type": "execute_result"
    }
   ],
   "source": [
    "type(pokemon_df)"
   ]
  },
  {
   "cell_type": "markdown",
   "id": "5e433287",
   "metadata": {},
   "source": [
    "Tablo olarak;"
   ]
  },
  {
   "cell_type": "code",
   "execution_count": 17,
   "id": "4d6a7afa",
   "metadata": {
    "scrolled": true
   },
   "outputs": [
    {
     "data": {
      "text/html": [
       "<div>\n",
       "<style scoped>\n",
       "    .dataframe tbody tr th:only-of-type {\n",
       "        vertical-align: middle;\n",
       "    }\n",
       "\n",
       "    .dataframe tbody tr th {\n",
       "        vertical-align: top;\n",
       "    }\n",
       "\n",
       "    .dataframe thead th {\n",
       "        text-align: right;\n",
       "    }\n",
       "</style>\n",
       "<table border=\"1\" class=\"dataframe\">\n",
       "  <thead>\n",
       "    <tr style=\"text-align: right;\">\n",
       "      <th></th>\n",
       "      <th>id</th>\n",
       "      <th>ndex</th>\n",
       "      <th>species</th>\n",
       "      <th>forme</th>\n",
       "      <th>type1</th>\n",
       "      <th>type2</th>\n",
       "      <th>ability1</th>\n",
       "      <th>ability2</th>\n",
       "      <th>abilityH</th>\n",
       "      <th>hp</th>\n",
       "      <th>...</th>\n",
       "      <th>weight</th>\n",
       "      <th>height</th>\n",
       "      <th>dex1</th>\n",
       "      <th>dex2</th>\n",
       "      <th>class</th>\n",
       "      <th>percent-male</th>\n",
       "      <th>percent-female</th>\n",
       "      <th>pre-evolution</th>\n",
       "      <th>egg-group1</th>\n",
       "      <th>egg-group2</th>\n",
       "    </tr>\n",
       "  </thead>\n",
       "  <tbody>\n",
       "    <tr>\n",
       "      <th>0</th>\n",
       "      <td>1</td>\n",
       "      <td>1</td>\n",
       "      <td>Bulbasaur</td>\n",
       "      <td>Bulbasaur</td>\n",
       "      <td>Grass</td>\n",
       "      <td>Poison</td>\n",
       "      <td>Overgrow</td>\n",
       "      <td>NaN</td>\n",
       "      <td>Chlorophyll</td>\n",
       "      <td>45</td>\n",
       "      <td>...</td>\n",
       "      <td>15.2 lbs.</td>\n",
       "      <td>2'04\"</td>\n",
       "      <td>NaN</td>\n",
       "      <td>NaN</td>\n",
       "      <td>Seed Pokémon</td>\n",
       "      <td>0.875</td>\n",
       "      <td>0.125</td>\n",
       "      <td>NaN</td>\n",
       "      <td>Monster</td>\n",
       "      <td>Grass</td>\n",
       "    </tr>\n",
       "    <tr>\n",
       "      <th>1</th>\n",
       "      <td>2</td>\n",
       "      <td>2</td>\n",
       "      <td>Ivysaur</td>\n",
       "      <td>Ivysaur</td>\n",
       "      <td>Grass</td>\n",
       "      <td>Poison</td>\n",
       "      <td>Overgrow</td>\n",
       "      <td>NaN</td>\n",
       "      <td>Chlorophyll</td>\n",
       "      <td>60</td>\n",
       "      <td>...</td>\n",
       "      <td>28.7 lbs.</td>\n",
       "      <td>3'03\"</td>\n",
       "      <td>NaN</td>\n",
       "      <td>NaN</td>\n",
       "      <td>Seed Pokémon</td>\n",
       "      <td>0.875</td>\n",
       "      <td>0.125</td>\n",
       "      <td>Bulbasaur</td>\n",
       "      <td>Monster</td>\n",
       "      <td>Grass</td>\n",
       "    </tr>\n",
       "    <tr>\n",
       "      <th>2</th>\n",
       "      <td>3</td>\n",
       "      <td>3</td>\n",
       "      <td>Venusaur</td>\n",
       "      <td>Venusaur</td>\n",
       "      <td>Grass</td>\n",
       "      <td>Poison</td>\n",
       "      <td>Overgrow</td>\n",
       "      <td>NaN</td>\n",
       "      <td>Chlorophyll</td>\n",
       "      <td>80</td>\n",
       "      <td>...</td>\n",
       "      <td>220.5 lbs.</td>\n",
       "      <td>6'07\"</td>\n",
       "      <td>NaN</td>\n",
       "      <td>NaN</td>\n",
       "      <td>Seed Pokémon</td>\n",
       "      <td>0.875</td>\n",
       "      <td>0.125</td>\n",
       "      <td>Ivysaur</td>\n",
       "      <td>Monster</td>\n",
       "      <td>Grass</td>\n",
       "    </tr>\n",
       "    <tr>\n",
       "      <th>3</th>\n",
       "      <td>4</td>\n",
       "      <td>4</td>\n",
       "      <td>Charmander</td>\n",
       "      <td>Charmander</td>\n",
       "      <td>Fire</td>\n",
       "      <td>NaN</td>\n",
       "      <td>Blaze</td>\n",
       "      <td>NaN</td>\n",
       "      <td>Solar Power</td>\n",
       "      <td>39</td>\n",
       "      <td>...</td>\n",
       "      <td>18.7 lbs.</td>\n",
       "      <td>2'00\"</td>\n",
       "      <td>NaN</td>\n",
       "      <td>NaN</td>\n",
       "      <td>Lizard Pokémon</td>\n",
       "      <td>0.875</td>\n",
       "      <td>0.125</td>\n",
       "      <td>NaN</td>\n",
       "      <td>Monster</td>\n",
       "      <td>Dragon</td>\n",
       "    </tr>\n",
       "    <tr>\n",
       "      <th>4</th>\n",
       "      <td>5</td>\n",
       "      <td>5</td>\n",
       "      <td>Charmeleon</td>\n",
       "      <td>Charmeleon</td>\n",
       "      <td>Fire</td>\n",
       "      <td>NaN</td>\n",
       "      <td>Blaze</td>\n",
       "      <td>NaN</td>\n",
       "      <td>Solar Power</td>\n",
       "      <td>58</td>\n",
       "      <td>...</td>\n",
       "      <td>41.9 lbs.</td>\n",
       "      <td>3'07\"</td>\n",
       "      <td>NaN</td>\n",
       "      <td>NaN</td>\n",
       "      <td>Flame Pokémon</td>\n",
       "      <td>0.875</td>\n",
       "      <td>0.125</td>\n",
       "      <td>Charmander</td>\n",
       "      <td>Monster</td>\n",
       "      <td>Dragon</td>\n",
       "    </tr>\n",
       "  </tbody>\n",
       "</table>\n",
       "<p>5 rows × 26 columns</p>\n",
       "</div>"
      ],
      "text/plain": [
       "   id  ndex     species       forme  type1   type2  ability1 ability2  \\\n",
       "0   1     1   Bulbasaur   Bulbasaur  Grass  Poison  Overgrow      NaN   \n",
       "1   2     2     Ivysaur     Ivysaur  Grass  Poison  Overgrow      NaN   \n",
       "2   3     3    Venusaur    Venusaur  Grass  Poison  Overgrow      NaN   \n",
       "3   4     4  Charmander  Charmander   Fire     NaN     Blaze      NaN   \n",
       "4   5     5  Charmeleon  Charmeleon   Fire     NaN     Blaze      NaN   \n",
       "\n",
       "      abilityH  hp  ...      weight  height  dex1  dex2           class  \\\n",
       "0  Chlorophyll  45  ...   15.2 lbs.   2'04\"   NaN   NaN    Seed Pokémon   \n",
       "1  Chlorophyll  60  ...   28.7 lbs.   3'03\"   NaN   NaN    Seed Pokémon   \n",
       "2  Chlorophyll  80  ...  220.5 lbs.   6'07\"   NaN   NaN    Seed Pokémon   \n",
       "3  Solar Power  39  ...   18.7 lbs.   2'00\"   NaN   NaN  Lizard Pokémon   \n",
       "4  Solar Power  58  ...   41.9 lbs.   3'07\"   NaN   NaN   Flame Pokémon   \n",
       "\n",
       "   percent-male percent-female pre-evolution egg-group1 egg-group2  \n",
       "0         0.875          0.125           NaN    Monster      Grass  \n",
       "1         0.875          0.125     Bulbasaur    Monster      Grass  \n",
       "2         0.875          0.125       Ivysaur    Monster      Grass  \n",
       "3         0.875          0.125           NaN    Monster     Dragon  \n",
       "4         0.875          0.125    Charmander    Monster     Dragon  \n",
       "\n",
       "[5 rows x 26 columns]"
      ]
     },
     "execution_count": 17,
     "metadata": {},
     "output_type": "execute_result"
    }
   ],
   "source": [
    "pokemon_data.head()"
   ]
  },
  {
   "cell_type": "markdown",
   "id": "37b63d79",
   "metadata": {},
   "source": [
    "Database oluşturma"
   ]
  },
  {
   "cell_type": "code",
   "execution_count": 10,
   "id": "12a76c7a",
   "metadata": {},
   "outputs": [],
   "source": [
    "conn = sqlite3.connect('pokemons.db')\n",
    "Cursor = conn.cursor()"
   ]
  },
  {
   "cell_type": "code",
   "execution_count": 20,
   "id": "d52cd45a",
   "metadata": {
    "scrolled": true
   },
   "outputs": [
    {
     "data": {
      "text/plain": [
       "1061"
      ]
     },
     "execution_count": 20,
     "metadata": {},
     "output_type": "execute_result"
    }
   ],
   "source": [
    "pokemon_data.to_sql('pokemondata', conn, if_exists='replace', index = False)"
   ]
  },
  {
   "cell_type": "code",
   "execution_count": 39,
   "id": "2395376d",
   "metadata": {
    "scrolled": false
   },
   "outputs": [
    {
     "name": "stdout",
     "output_type": "stream",
     "text": [
      "(1, 1, 'Bulbasaur', 'Bulbasaur', 'Grass', 'Poison', 'Overgrow', None, 'Chlorophyll', 45, 49, 49, 65, 65, 45, 318, '15.2 lbs.', '2\\'04\"', None, None, 'Seed Pokémon', 0.875, 0.125, None, 'Monster', 'Grass')\n",
      "(2, 2, 'Ivysaur', 'Ivysaur', 'Grass', 'Poison', 'Overgrow', None, 'Chlorophyll', 60, 62, 63, 80, 80, 60, 405, '28.7 lbs.', '3\\'03\"', None, None, 'Seed Pokémon', 0.875, 0.125, 'Bulbasaur', 'Monster', 'Grass')\n",
      "(3, 3, 'Venusaur', 'Venusaur', 'Grass', 'Poison', 'Overgrow', None, 'Chlorophyll', 80, 82, 83, 100, 100, 80, 525, '220.5 lbs.', '6\\'07\"', None, None, 'Seed Pokémon', 0.875, 0.125, 'Ivysaur', 'Monster', 'Grass')\n",
      "(4, 4, 'Charmander', 'Charmander', 'Fire', None, 'Blaze', None, 'Solar Power', 39, 52, 43, 60, 50, 65, 309, '18.7 lbs.', '2\\'00\"', None, None, 'Lizard Pokémon', 0.875, 0.125, None, 'Monster', 'Dragon')\n",
      "(5, 5, 'Charmeleon', 'Charmeleon', 'Fire', None, 'Blaze', None, 'Solar Power', 58, 64, 58, 80, 65, 80, 405, '41.9 lbs.', '3\\'07\"', None, None, 'Flame Pokémon', 0.875, 0.125, 'Charmander', 'Monster', 'Dragon')\n",
      "(6, 6, 'Charizard', 'Charizard', 'Fire', 'Flying', 'Blaze', None, 'Solar Power', 78, 84, 78, 109, 85, 100, 534, '199.5 lbs.', '5\\'07\"', None, None, 'Flame Pokémon', 0.875, 0.125, 'Charmeleon', 'Monster', 'Dragon')\n"
     ]
    }
   ],
   "source": [
    "Cursor.execute('''SELECT * FROM pokemondata''')\n",
    "x = 0\n",
    "for row in Cursor.fetchall():\n",
    "    if x < 6:\n",
    "        print (row)\n",
    "        x += 1"
   ]
  },
  {
   "cell_type": "markdown",
   "id": "bd3b506d",
   "metadata": {},
   "source": [
    "### DataBase Browser'da Veritabanının açılması;"
   ]
  },
  {
   "attachments": {
    "Ekran%20g%C3%B6r%C3%BCnt%C3%BCs%C3%BC%202023-01-01%20154729.png": {
     "image/png": "[encoded data removed]"
    }
   },
   "cell_type": "markdown",
   "id": "b4574b1f",
   "metadata": {},
   "source": [
    "![Ekran%20g%C3%B6r%C3%BCnt%C3%BCs%C3%BC%202023-01-01%20154729.png](attachment:Ekran%20g%C3%B6r%C3%BCnt%C3%BCs%C3%BC%202023-01-01%20154729.png)"
   ]
  },
  {
   "attachments": {
    "Ekran%20g%C3%B6r%C3%BCnt%C3%BCs%C3%BC%202023-01-01%20192904.png": {
     "image/png": "[encoded data removed]"
    }
   },
   "cell_type": "markdown",
   "id": "70c38bf5",
   "metadata": {},
   "source": [
    "![Ekran%20g%C3%B6r%C3%BCnt%C3%BCs%C3%BC%202023-01-01%20192904.png](attachment:Ekran%20g%C3%B6r%C3%BCnt%C3%BCs%C3%BC%202023-01-01%20192904.png)"
   ]
  },
  {
   "cell_type": "markdown",
   "id": "fe5e738c",
   "metadata": {},
   "source": [
    "#### Veritabanı tablosunun Dataframe'e dönüştürülmesi"
   ]
  },
  {
   "cell_type": "code",
   "execution_count": 68,
   "id": "2b6fea17",
   "metadata": {},
   "outputs": [],
   "source": [
    "d_f = pd.read_sql_table('pokemondata', 'sqlite:///pokemons.db')"
   ]
  },
  {
   "cell_type": "code",
   "execution_count": 69,
   "id": "6e76b4b1",
   "metadata": {
    "scrolled": true
   },
   "outputs": [
    {
     "data": {
      "text/html": [
       "<div>\n",
       "<style scoped>\n",
       "    .dataframe tbody tr th:only-of-type {\n",
       "        vertical-align: middle;\n",
       "    }\n",
       "\n",
       "    .dataframe tbody tr th {\n",
       "        vertical-align: top;\n",
       "    }\n",
       "\n",
       "    .dataframe thead th {\n",
       "        text-align: right;\n",
       "    }\n",
       "</style>\n",
       "<table border=\"1\" class=\"dataframe\">\n",
       "  <thead>\n",
       "    <tr style=\"text-align: right;\">\n",
       "      <th></th>\n",
       "      <th>id</th>\n",
       "      <th>ndex</th>\n",
       "      <th>species</th>\n",
       "      <th>forme</th>\n",
       "      <th>type1</th>\n",
       "      <th>type2</th>\n",
       "      <th>ability1</th>\n",
       "      <th>ability2</th>\n",
       "      <th>abilityH</th>\n",
       "      <th>hp</th>\n",
       "      <th>...</th>\n",
       "      <th>weight</th>\n",
       "      <th>height</th>\n",
       "      <th>dex1</th>\n",
       "      <th>dex2</th>\n",
       "      <th>class</th>\n",
       "      <th>percent-male</th>\n",
       "      <th>percent-female</th>\n",
       "      <th>pre-evolution</th>\n",
       "      <th>egg-group1</th>\n",
       "      <th>egg-group2</th>\n",
       "    </tr>\n",
       "  </thead>\n",
       "  <tbody>\n",
       "    <tr>\n",
       "      <th>0</th>\n",
       "      <td>1</td>\n",
       "      <td>1</td>\n",
       "      <td>Bulbasaur</td>\n",
       "      <td>Bulbasaur</td>\n",
       "      <td>Grass</td>\n",
       "      <td>Poison</td>\n",
       "      <td>Overgrow</td>\n",
       "      <td>None</td>\n",
       "      <td>Chlorophyll</td>\n",
       "      <td>45</td>\n",
       "      <td>...</td>\n",
       "      <td>15.2 lbs.</td>\n",
       "      <td>2'04\"</td>\n",
       "      <td>None</td>\n",
       "      <td>None</td>\n",
       "      <td>Seed Pokémon</td>\n",
       "      <td>0.875</td>\n",
       "      <td>0.125</td>\n",
       "      <td>None</td>\n",
       "      <td>Monster</td>\n",
       "      <td>Grass</td>\n",
       "    </tr>\n",
       "    <tr>\n",
       "      <th>1</th>\n",
       "      <td>2</td>\n",
       "      <td>2</td>\n",
       "      <td>Ivysaur</td>\n",
       "      <td>Ivysaur</td>\n",
       "      <td>Grass</td>\n",
       "      <td>Poison</td>\n",
       "      <td>Overgrow</td>\n",
       "      <td>None</td>\n",
       "      <td>Chlorophyll</td>\n",
       "      <td>60</td>\n",
       "      <td>...</td>\n",
       "      <td>28.7 lbs.</td>\n",
       "      <td>3'03\"</td>\n",
       "      <td>None</td>\n",
       "      <td>None</td>\n",
       "      <td>Seed Pokémon</td>\n",
       "      <td>0.875</td>\n",
       "      <td>0.125</td>\n",
       "      <td>Bulbasaur</td>\n",
       "      <td>Monster</td>\n",
       "      <td>Grass</td>\n",
       "    </tr>\n",
       "    <tr>\n",
       "      <th>2</th>\n",
       "      <td>3</td>\n",
       "      <td>3</td>\n",
       "      <td>Venusaur</td>\n",
       "      <td>Venusaur</td>\n",
       "      <td>Grass</td>\n",
       "      <td>Poison</td>\n",
       "      <td>Overgrow</td>\n",
       "      <td>None</td>\n",
       "      <td>Chlorophyll</td>\n",
       "      <td>80</td>\n",
       "      <td>...</td>\n",
       "      <td>220.5 lbs.</td>\n",
       "      <td>6'07\"</td>\n",
       "      <td>None</td>\n",
       "      <td>None</td>\n",
       "      <td>Seed Pokémon</td>\n",
       "      <td>0.875</td>\n",
       "      <td>0.125</td>\n",
       "      <td>Ivysaur</td>\n",
       "      <td>Monster</td>\n",
       "      <td>Grass</td>\n",
       "    </tr>\n",
       "    <tr>\n",
       "      <th>3</th>\n",
       "      <td>4</td>\n",
       "      <td>4</td>\n",
       "      <td>Charmander</td>\n",
       "      <td>Charmander</td>\n",
       "      <td>Fire</td>\n",
       "      <td>None</td>\n",
       "      <td>Blaze</td>\n",
       "      <td>None</td>\n",
       "      <td>Solar Power</td>\n",
       "      <td>39</td>\n",
       "      <td>...</td>\n",
       "      <td>18.7 lbs.</td>\n",
       "      <td>2'00\"</td>\n",
       "      <td>None</td>\n",
       "      <td>None</td>\n",
       "      <td>Lizard Pokémon</td>\n",
       "      <td>0.875</td>\n",
       "      <td>0.125</td>\n",
       "      <td>None</td>\n",
       "      <td>Monster</td>\n",
       "      <td>Dragon</td>\n",
       "    </tr>\n",
       "    <tr>\n",
       "      <th>4</th>\n",
       "      <td>5</td>\n",
       "      <td>5</td>\n",
       "      <td>Charmeleon</td>\n",
       "      <td>Charmeleon</td>\n",
       "      <td>Fire</td>\n",
       "      <td>None</td>\n",
       "      <td>Blaze</td>\n",
       "      <td>None</td>\n",
       "      <td>Solar Power</td>\n",
       "      <td>58</td>\n",
       "      <td>...</td>\n",
       "      <td>41.9 lbs.</td>\n",
       "      <td>3'07\"</td>\n",
       "      <td>None</td>\n",
       "      <td>None</td>\n",
       "      <td>Flame Pokémon</td>\n",
       "      <td>0.875</td>\n",
       "      <td>0.125</td>\n",
       "      <td>Charmander</td>\n",
       "      <td>Monster</td>\n",
       "      <td>Dragon</td>\n",
       "    </tr>\n",
       "    <tr>\n",
       "      <th>...</th>\n",
       "      <td>...</td>\n",
       "      <td>...</td>\n",
       "      <td>...</td>\n",
       "      <td>...</td>\n",
       "      <td>...</td>\n",
       "      <td>...</td>\n",
       "      <td>...</td>\n",
       "      <td>...</td>\n",
       "      <td>...</td>\n",
       "      <td>...</td>\n",
       "      <td>...</td>\n",
       "      <td>...</td>\n",
       "      <td>...</td>\n",
       "      <td>...</td>\n",
       "      <td>...</td>\n",
       "      <td>...</td>\n",
       "      <td>...</td>\n",
       "      <td>...</td>\n",
       "      <td>...</td>\n",
       "      <td>...</td>\n",
       "      <td>...</td>\n",
       "    </tr>\n",
       "    <tr>\n",
       "      <th>1056</th>\n",
       "      <td>1058</td>\n",
       "      <td>778</td>\n",
       "      <td>Mimikyu</td>\n",
       "      <td>Mimikyu (Busted Form)</td>\n",
       "      <td>Ghost</td>\n",
       "      <td>Fairy</td>\n",
       "      <td>Disguise</td>\n",
       "      <td>Disguise</td>\n",
       "      <td>Disguise</td>\n",
       "      <td>60</td>\n",
       "      <td>...</td>\n",
       "      <td>1.5 lbs.</td>\n",
       "      <td>0'08\"</td>\n",
       "      <td>After going to all the effort of disguising it...</td>\n",
       "      <td>If its neck is broken or its rag torn during a...</td>\n",
       "      <td>Disguise Pokémon</td>\n",
       "      <td>0.500</td>\n",
       "      <td>0.500</td>\n",
       "      <td>None</td>\n",
       "      <td>Amorphous</td>\n",
       "      <td>None</td>\n",
       "    </tr>\n",
       "    <tr>\n",
       "      <th>1057</th>\n",
       "      <td>1059</td>\n",
       "      <td>778</td>\n",
       "      <td>Mimikyu</td>\n",
       "      <td>Mimikyu (2)</td>\n",
       "      <td>Ghost</td>\n",
       "      <td>Fairy</td>\n",
       "      <td>Disguise</td>\n",
       "      <td>Disguise</td>\n",
       "      <td>Disguise</td>\n",
       "      <td>60</td>\n",
       "      <td>...</td>\n",
       "      <td>1.5 lbs.</td>\n",
       "      <td>0'08\"</td>\n",
       "      <td>None</td>\n",
       "      <td>None</td>\n",
       "      <td>Disguise Pokémon</td>\n",
       "      <td>0.500</td>\n",
       "      <td>0.500</td>\n",
       "      <td>None</td>\n",
       "      <td>Amorphous</td>\n",
       "      <td>None</td>\n",
       "    </tr>\n",
       "    <tr>\n",
       "      <th>1058</th>\n",
       "      <td>1060</td>\n",
       "      <td>778</td>\n",
       "      <td>Mimikyu</td>\n",
       "      <td>Mimikyu (3)</td>\n",
       "      <td>Ghost</td>\n",
       "      <td>Fairy</td>\n",
       "      <td>Disguise</td>\n",
       "      <td>Disguise</td>\n",
       "      <td>Disguise</td>\n",
       "      <td>60</td>\n",
       "      <td>...</td>\n",
       "      <td>1.5 lbs.</td>\n",
       "      <td>0'08\"</td>\n",
       "      <td>None</td>\n",
       "      <td>None</td>\n",
       "      <td>Disguise Pokémon</td>\n",
       "      <td>0.500</td>\n",
       "      <td>0.500</td>\n",
       "      <td>None</td>\n",
       "      <td>Amorphous</td>\n",
       "      <td>None</td>\n",
       "    </tr>\n",
       "    <tr>\n",
       "      <th>1059</th>\n",
       "      <td>1061</td>\n",
       "      <td>784</td>\n",
       "      <td>Kommo-o</td>\n",
       "      <td>Kommo-o (1)</td>\n",
       "      <td>Dragon</td>\n",
       "      <td>Fighting</td>\n",
       "      <td>Bulletproof</td>\n",
       "      <td>Soundproof</td>\n",
       "      <td>Overcoat</td>\n",
       "      <td>75</td>\n",
       "      <td>...</td>\n",
       "      <td>172.4 lbs.</td>\n",
       "      <td>5'03\"</td>\n",
       "      <td>None</td>\n",
       "      <td>None</td>\n",
       "      <td>Scaly Pokémon</td>\n",
       "      <td>0.500</td>\n",
       "      <td>0.500</td>\n",
       "      <td>None</td>\n",
       "      <td>Dragon</td>\n",
       "      <td>None</td>\n",
       "    </tr>\n",
       "    <tr>\n",
       "      <th>1060</th>\n",
       "      <td>1062</td>\n",
       "      <td>801</td>\n",
       "      <td>Magearna</td>\n",
       "      <td>Magearna (Original Color)</td>\n",
       "      <td>Steel</td>\n",
       "      <td>Fairy</td>\n",
       "      <td>Soul-Heart</td>\n",
       "      <td>Soul-Heart</td>\n",
       "      <td>Soul-Heart</td>\n",
       "      <td>80</td>\n",
       "      <td>...</td>\n",
       "      <td>177.5 lbs.</td>\n",
       "      <td>3'03\"</td>\n",
       "      <td>This beautiful form reflects Magearna’s appear...</td>\n",
       "      <td>This gorgeous Magearna looks as it did at the ...</td>\n",
       "      <td>Artificial Pokémon</td>\n",
       "      <td>NaN</td>\n",
       "      <td>NaN</td>\n",
       "      <td>None</td>\n",
       "      <td>Undiscovered</td>\n",
       "      <td>None</td>\n",
       "    </tr>\n",
       "  </tbody>\n",
       "</table>\n",
       "<p>1061 rows × 26 columns</p>\n",
       "</div>"
      ],
      "text/plain": [
       "        id  ndex     species                      forme   type1     type2  \\\n",
       "0        1     1   Bulbasaur                  Bulbasaur   Grass    Poison   \n",
       "1        2     2     Ivysaur                    Ivysaur   Grass    Poison   \n",
       "2        3     3    Venusaur                   Venusaur   Grass    Poison   \n",
       "3        4     4  Charmander                 Charmander    Fire      None   \n",
       "4        5     5  Charmeleon                 Charmeleon    Fire      None   \n",
       "...    ...   ...         ...                        ...     ...       ...   \n",
       "1056  1058   778     Mimikyu      Mimikyu (Busted Form)   Ghost     Fairy   \n",
       "1057  1059   778     Mimikyu                Mimikyu (2)   Ghost     Fairy   \n",
       "1058  1060   778     Mimikyu                Mimikyu (3)   Ghost     Fairy   \n",
       "1059  1061   784     Kommo-o                Kommo-o (1)  Dragon  Fighting   \n",
       "1060  1062   801    Magearna  Magearna (Original Color)   Steel     Fairy   \n",
       "\n",
       "         ability1    ability2     abilityH  hp  ...      weight  height  \\\n",
       "0        Overgrow        None  Chlorophyll  45  ...   15.2 lbs.   2'04\"   \n",
       "1        Overgrow        None  Chlorophyll  60  ...   28.7 lbs.   3'03\"   \n",
       "2        Overgrow        None  Chlorophyll  80  ...  220.5 lbs.   6'07\"   \n",
       "3           Blaze        None  Solar Power  39  ...   18.7 lbs.   2'00\"   \n",
       "4           Blaze        None  Solar Power  58  ...   41.9 lbs.   3'07\"   \n",
       "...           ...         ...          ...  ..  ...         ...     ...   \n",
       "1056     Disguise    Disguise     Disguise  60  ...    1.5 lbs.   0'08\"   \n",
       "1057     Disguise    Disguise     Disguise  60  ...    1.5 lbs.   0'08\"   \n",
       "1058     Disguise    Disguise     Disguise  60  ...    1.5 lbs.   0'08\"   \n",
       "1059  Bulletproof  Soundproof     Overcoat  75  ...  172.4 lbs.   5'03\"   \n",
       "1060   Soul-Heart  Soul-Heart   Soul-Heart  80  ...  177.5 lbs.   3'03\"   \n",
       "\n",
       "                                                   dex1  \\\n",
       "0                                                  None   \n",
       "1                                                  None   \n",
       "2                                                  None   \n",
       "3                                                  None   \n",
       "4                                                  None   \n",
       "...                                                 ...   \n",
       "1056  After going to all the effort of disguising it...   \n",
       "1057                                               None   \n",
       "1058                                               None   \n",
       "1059                                               None   \n",
       "1060  This beautiful form reflects Magearna’s appear...   \n",
       "\n",
       "                                                   dex2               class  \\\n",
       "0                                                  None        Seed Pokémon   \n",
       "1                                                  None        Seed Pokémon   \n",
       "2                                                  None        Seed Pokémon   \n",
       "3                                                  None      Lizard Pokémon   \n",
       "4                                                  None       Flame Pokémon   \n",
       "...                                                 ...                 ...   \n",
       "1056  If its neck is broken or its rag torn during a...    Disguise Pokémon   \n",
       "1057                                               None    Disguise Pokémon   \n",
       "1058                                               None    Disguise Pokémon   \n",
       "1059                                               None       Scaly Pokémon   \n",
       "1060  This gorgeous Magearna looks as it did at the ...  Artificial Pokémon   \n",
       "\n",
       "      percent-male percent-female pre-evolution    egg-group1 egg-group2  \n",
       "0            0.875          0.125          None       Monster      Grass  \n",
       "1            0.875          0.125     Bulbasaur       Monster      Grass  \n",
       "2            0.875          0.125       Ivysaur       Monster      Grass  \n",
       "3            0.875          0.125          None       Monster     Dragon  \n",
       "4            0.875          0.125    Charmander       Monster     Dragon  \n",
       "...            ...            ...           ...           ...        ...  \n",
       "1056         0.500          0.500          None     Amorphous       None  \n",
       "1057         0.500          0.500          None     Amorphous       None  \n",
       "1058         0.500          0.500          None     Amorphous       None  \n",
       "1059         0.500          0.500          None        Dragon       None  \n",
       "1060           NaN            NaN          None  Undiscovered       None  \n",
       "\n",
       "[1061 rows x 26 columns]"
      ]
     },
     "execution_count": 69,
     "metadata": {},
     "output_type": "execute_result"
    }
   ],
   "source": [
    "d_f.head()"
   ]
  },
  {
   "cell_type": "markdown",
   "id": "c9313430",
   "metadata": {},
   "source": [
    "#### En optimal pokemonu bulunuz."
   ]
  },
  {
   "attachments": {
    "Ekran%20g%C3%B6r%C3%BCnt%C3%BCs%C3%BC%202023-01-03%20231618.png": {
     "image/png": "[encoded data removed]"
    }
   },
   "cell_type": "markdown",
   "id": "9f18ecab",
   "metadata": {},
   "source": [
    "![Ekran%20g%C3%B6r%C3%BCnt%C3%BCs%C3%BC%202023-01-03%20231618.png](attachment:Ekran%20g%C3%B6r%C3%BCnt%C3%BCs%C3%BC%202023-01-03%20231618.png)"
   ]
  },
  {
   "cell_type": "markdown",
   "id": "187608d3",
   "metadata": {},
   "source": [
    "Boş veri var mı yok mu diye kontrol edelim."
   ]
  },
  {
   "cell_type": "code",
   "execution_count": 132,
   "id": "f2fdaa88",
   "metadata": {},
   "outputs": [],
   "source": [
    "Cursor.execute(\"SELECT *  FROM pokemondata WHERE hp IS NULL OR attack IS NULL OR defense IS NULL OR spattack IS NULL OR spdefense IS NULL OR speed IS NULL\")\n",
    "clr_data11 = Cursor.fetchall()\n",
    "for row in clr_data11:\n",
    "     print (row)"
   ]
  },
  {
   "cell_type": "markdown",
   "id": "9b396426",
   "metadata": {},
   "source": [
    "\n"
   ]
  },
  {
   "cell_type": "code",
   "execution_count": 85,
   "id": "fa64bcf1",
   "metadata": {
    "scrolled": false
   },
   "outputs": [
    {
     "name": "stdout",
     "output_type": "stream",
     "text": [
      "('Bulbasaur', 53)\n",
      "('Ivysaur', 67)\n",
      "('Venusaur', 87)\n",
      "('Charmander', 51)\n",
      "('Charmeleon', 67)\n",
      "('Charizard', 89)\n",
      "('Squirtle', 52)\n",
      "('Wartortle', 67)\n",
      "('Blastoise', 88)\n",
      "('Caterpie', 32)\n"
     ]
    }
   ],
   "source": [
    "Cursor.execute(\"SELECT DISTINCT species, (hp + attack + defense + spattack + spdefense + speed)/6 FROM pokemondata LIMIT 10\")\n",
    "all_data11 = Cursor.fetchall()\n",
    "for row in all_data11:\n",
    "     print (row)"
   ]
  },
  {
   "cell_type": "code",
   "execution_count": 86,
   "id": "03cffea2",
   "metadata": {},
   "outputs": [
    {
     "name": "stdout",
     "output_type": "stream",
     "text": [
      "[('Mewtwo', 130)]\n"
     ]
    }
   ],
   "source": [
    "Cursor.execute(\"SELECT DISTINCT species, MAX((hp + attack + defense + spattack + spdefense + speed)/6) FROM pokemondata\")\n",
    "pokemon_opt = Cursor.fetchall()\n",
    "print(pokemon_opt)"
   ]
  },
  {
   "cell_type": "code",
   "execution_count": 87,
   "id": "71324e31",
   "metadata": {
    "scrolled": false
   },
   "outputs": [
    {
     "name": "stdout",
     "output_type": "stream",
     "text": [
      "('Mewtwo', 130)\n",
      "('Rayquaza', 130)\n",
      "('Kyogre', 128)\n",
      "('Groudon', 128)\n",
      "('Arceus', 120)\n",
      "('Zygarde', 118)\n",
      "('Tyranitar', 116)\n",
      "('Salamence', 116)\n",
      "('Metagross', 116)\n",
      "('Latias', 116)\n"
     ]
    }
   ],
   "source": [
    "Cursor.execute(\"SELECT DISTINCT species, (hp + attack + defense + spattack + spdefense + speed)/6 FROM pokemondata ORDER BY ((hp + attack + defense + spattack + spdefense + speed)/6) DESC LIMIT 10\")\n",
    "all_data11 = Cursor.fetchall()\n",
    "for row in all_data11:\n",
    "     print (row)"
   ]
  },
  {
   "cell_type": "markdown",
   "id": "1c72d3c9",
   "metadata": {},
   "source": [
    "###### Listeye çevirme."
   ]
  },
  {
   "cell_type": "code",
   "execution_count": 64,
   "id": "bbe95b56",
   "metadata": {},
   "outputs": [],
   "source": [
    "Cursor.execute(\"SELECT DISTINCT species, (hp + attack + defense + spattack + spdefense + speed)/6 FROM pokemondata ORDER BY ((hp + attack + defense + spattack + spdefense + speed)/6) DESC LIMIT 10\")\n",
    "all_data00 = Cursor.fetchall()\n",
    "pokemon_list = []\n",
    "pokemon_value = []\n",
    "for i in range(len(all_data00)):\n",
    "    pokemon_list.append(all_data00[i][0])\n"
   ]
  },
  {
   "cell_type": "code",
   "execution_count": 66,
   "id": "2e765fa5",
   "metadata": {
    "scrolled": false
   },
   "outputs": [
    {
     "data": {
      "text/plain": [
       "[<matplotlib.lines.Line2D at 0x2e0c83f7b50>]"
      ]
     },
     "execution_count": 66,
     "metadata": {},
     "output_type": "execute_result"
    },
    {
     "data": {
      "image/png": "[encoded data removed]",
      "text/plain": [
       "<Figure size 432x288 with 1 Axes>"
      ]
     },
     "metadata": {
      "needs_background": "light"
     },
     "output_type": "display_data"
    }
   ],
   "source": [
    "plt.plot(pokemon_value, pokemon_list)"
   ]
  },
  {
   "cell_type": "markdown",
   "id": "04dd9c7e",
   "metadata": {},
   "source": [
    "\n"
   ]
  },
  {
   "cell_type": "markdown",
   "id": "d6147aca",
   "metadata": {},
   "source": [
    "# Project 5: Working with Pandas and SQL Databases (Movies Dataset)"
   ]
  },
  {
   "cell_type": "markdown",
   "id": "83424197",
   "metadata": {},
   "source": [
    "## Creating an SQLite Database"
   ]
  },
  {
   "cell_type": "code",
   "execution_count": null,
   "id": "1dd8171d",
   "metadata": {},
   "outputs": [],
   "source": [
    "# BİR SQLITE DATAFRAME OLUŞTURMA"
   ]
  },
  {
   "cell_type": "code",
   "execution_count": 67,
   "id": "7f1e7ebd",
   "metadata": {},
   "outputs": [],
   "source": [
    "import sqlite3 as sq3"
   ]
  },
  {
   "cell_type": "code",
   "execution_count": 68,
   "id": "567d936e",
   "metadata": {},
   "outputs": [],
   "source": [
    "#\"connect\"ile yeni database ve yeni movie.db dosyasını oluşturuyoruz."
   ]
  },
  {
   "cell_type": "code",
   "execution_count": 69,
   "id": "4fe541f6",
   "metadata": {},
   "outputs": [],
   "source": [
    "# Sadece yeni database oluşturmuyoruz, aynı zamanda database bir bağlantı da oluşturuyoruz."
   ]
  },
  {
   "cell_type": "code",
   "execution_count": 70,
   "id": "57f80dcc",
   "metadata": {},
   "outputs": [],
   "source": [
    "con = sq3.connect(\"movies.db\")"
   ]
  },
  {
   "cell_type": "code",
   "execution_count": 71,
   "id": "ffd632ce",
   "metadata": {},
   "outputs": [],
   "source": [
    "# database yoksa \"connect\", movies adıyla yeni bir database oluşturur."
   ]
  },
  {
   "cell_type": "code",
   "execution_count": 72,
   "id": "fca89d6a",
   "metadata": {},
   "outputs": [],
   "source": [
    "# Ve yeni bir movies.db dosyamıza sahip olduğumuzu görebiliriz."
   ]
  },
  {
   "cell_type": "code",
   "execution_count": 73,
   "id": "e998a981",
   "metadata": {},
   "outputs": [
    {
     "data": {
      "text/plain": [
       "<sqlite3.Connection at 0x2e0c554d8a0>"
      ]
     },
     "execution_count": 73,
     "metadata": {},
     "output_type": "execute_result"
    }
   ],
   "source": [
    "con"
   ]
  },
  {
   "cell_type": "code",
   "execution_count": 75,
   "id": "66352f40",
   "metadata": {
    "scrolled": true
   },
   "outputs": [
    {
     "data": {
      "text/plain": [
       "[('table',\n",
       "  'Movies',\n",
       "  'Movies',\n",
       "  2,\n",
       "  'CREATE TABLE \"Movies\" (\\n\"id\" INTEGER,\\n  \"title\" TEXT,\\n  \"revenue\" REAL,\\n  \"budget\" REAL,\\n  \"belongs_to_collection_name\" TEXT,\\n  \"release_date\" TIMESTAMP\\n)'),\n",
       " ('table',\n",
       "  'Votes',\n",
       "  'Votes',\n",
       "  3,\n",
       "  'CREATE TABLE \"Votes\" (\\n\"id\" INTEGER,\\n  \"vote_count\" INTEGER,\\n  \"vote_average\" REAL\\n)'),\n",
       " ('table',\n",
       "  'Genres',\n",
       "  'Genres',\n",
       "  4,\n",
       "  'CREATE TABLE \"Genres\" (\\n\"genre_id\" INTEGER,\\n  \"genre_name\" TEXT,\\n  \"id\" INTEGER\\n)'),\n",
       " ('table',\n",
       "  'Prod',\n",
       "  'Prod',\n",
       "  5,\n",
       "  'CREATE TABLE \"Prod\" (\\n\"comp_id\" INTEGER,\\n  \"comp_logo_path\" TEXT,\\n  \"comp_name\" TEXT,\\n  \"comp_origin_country\" TEXT,\\n  \"id\" INTEGER\\n)')]"
      ]
     },
     "execution_count": 75,
     "metadata": {},
     "output_type": "execute_result"
    }
   ],
   "source": [
    "con.execute(\"Select * FROM sqlite_master\").fetchall()"
   ]
  },
  {
   "cell_type": "code",
   "execution_count": 76,
   "id": "6a983d3a",
   "metadata": {},
   "outputs": [],
   "source": [
    "## CON.EXECUTE ##\n",
    "# connect methodunu çağırarak bir ara bağlantı nesnesi oluşturur.\n",
    "# Daha sonra verilen parametrelerle \"connect'in execute methodunu\" çağırır."
   ]
  },
  {
   "cell_type": "code",
   "execution_count": 77,
   "id": "3c6d543e",
   "metadata": {},
   "outputs": [],
   "source": [
    "## FETCHALL ##\n",
    "# Bir sorgu sonucunun tüm satırlarını getirir.\n",
    "# Tüm satırları demet listesi olarak döndürür.\n",
    "# Getirilecek kayıt yoksa boş bir liste döndürülür."
   ]
  },
  {
   "cell_type": "code",
   "execution_count": 78,
   "id": "c7572baf",
   "metadata": {},
   "outputs": [
    {
     "data": {
      "text/plain": [
       "[('Genres',), ('Movies',), ('Prod',), ('Votes',)]"
      ]
     },
     "execution_count": 78,
     "metadata": {},
     "output_type": "execute_result"
    }
   ],
   "source": [
    "con.execute(\"SELECT name FROM sqlite_master WHERE type='table' ORDER BY name\").fetchall()"
   ]
  },
  {
   "cell_type": "code",
   "execution_count": 79,
   "id": "372cf0ea",
   "metadata": {},
   "outputs": [],
   "source": [
    "# Öncelikle bağlantımızı kapatmalıyız."
   ]
  },
  {
   "cell_type": "code",
   "execution_count": 80,
   "id": "8fc7cd83",
   "metadata": {},
   "outputs": [],
   "source": [
    "con.close()"
   ]
  },
  {
   "cell_type": "code",
   "execution_count": 81,
   "id": "6b2225e2",
   "metadata": {},
   "outputs": [],
   "source": [
    "# Ve şimdi bir yöntemi çalıştırmayı denediyseniz, kapalı veritabanlarında işlem yapamayacağımız mesajını alıyoruz."
   ]
  },
  {
   "cell_type": "markdown",
   "id": "ddc60fcf",
   "metadata": {},
   "source": [
    "## Loading Data from DataFrames into an SQLite Database"
   ]
  },
  {
   "cell_type": "code",
   "execution_count": 82,
   "id": "2022dec8",
   "metadata": {},
   "outputs": [],
   "source": [
    "import pandas as pd\n",
    "import json"
   ]
  },
  {
   "cell_type": "code",
   "execution_count": 83,
   "id": "06313909",
   "metadata": {},
   "outputs": [],
   "source": [
    "# IMPORT JSON: Serileştirme, verileri JSON formatına kodlama işlemidir (Python listesini JSON'a dönüştürmek gibi). \"\n",
    "# Seri kaldırma, JSON verilerinin yeniden çalışabileceğiniz yerel nesnelere dönüştürülmesi işlemidir (JSON verilerini bir Python listesine okumak gibi)."
   ]
  },
  {
   "cell_type": "code",
   "execution_count": 84,
   "id": "153c4d77",
   "metadata": {},
   "outputs": [],
   "source": [
    "# Daha sonra Json dosyasını açıp değişken data üzerindeki datayı restore ediyoruz."
   ]
  },
  {
   "cell_type": "code",
   "execution_count": 85,
   "id": "f4273677",
   "metadata": {},
   "outputs": [],
   "source": [
    "with open(\"some_movies.json\") as f:\n",
    "    data = json.load(f)"
   ]
  },
  {
   "cell_type": "code",
   "execution_count": 86,
   "id": "0e3608fb",
   "metadata": {},
   "outputs": [],
   "source": [
    "#JSON formatındaki veriyi alıp Python’ın anlayabileceği şekilde bir dictionary (sözlük) yapısı haline getirir."
   ]
  },
  {
   "cell_type": "code",
   "execution_count": 87,
   "id": "21d2e1a9",
   "metadata": {},
   "outputs": [
    {
     "data": {
      "text/plain": [
       "[{'adult': False,\n",
       "  'backdrop_path': '/orjiB3oUIsyz60hoEqkiGpy5CeO.jpg',\n",
       "  'belongs_to_collection': {'id': 86311,\n",
       "   'name': 'The Avengers Collection',\n",
       "   'poster_path': '/yFSIUVTCvgYrpalUktulvk3Gi5Y.jpg',\n",
       "   'backdrop_path': '/zuW6fOiusv4X9nnW3paHGfXcSll.jpg'},\n",
       "  'budget': 356000000,\n",
       "  'genres': [{'id': 12, 'name': 'Adventure'},\n",
       "   {'id': 878, 'name': 'Science Fiction'},\n",
       "   {'id': 28, 'name': 'Action'}],\n",
       "  'homepage': 'https://www.marvel.com/movies/avengers-endgame',\n",
       "  'id': 299534,\n",
       "  'imdb_id': 'tt4154796',\n",
       "  'original_language': 'en',\n",
       "  'original_title': 'Avengers: Endgame',\n",
       "  'overview': \"After the devastating events of Avengers: Infinity War, the universe is in ruins due to the efforts of the Mad Titan, Thanos. With the help of remaining allies, the Avengers must assemble once more in order to undo Thanos' actions and restore order to the universe once and for all, no matter what consequences may be in store.\",\n",
       "  'popularity': 50.279,\n",
       "  'poster_path': '/or06FN3Dka5tukK1e9sl16pB3iy.jpg',\n",
       "  'production_companies': [{'id': 420,\n",
       "    'logo_path': '/hUzeosd33nzE5MCNsZxCGEKTXaQ.png',\n",
       "    'name': 'Marvel Studios',\n",
       "    'origin_country': 'US'}],\n",
       "  'production_countries': [{'iso_3166_1': 'US',\n",
       "    'name': 'United States of America'}],\n",
       "  'release_date': '2019-04-24',\n",
       "  'revenue': 2797800564,\n",
       "  'runtime': 181,\n",
       "  'spoken_languages': [{'iso_639_1': 'en', 'name': 'English'},\n",
       "   {'iso_639_1': 'ja', 'name': '日本語'},\n",
       "   {'iso_639_1': 'xh', 'name': ''}],\n",
       "  'status': 'Released',\n",
       "  'tagline': 'Part of the journey is the end.',\n",
       "  'title': 'Avengers: Endgame',\n",
       "  'video': False,\n",
       "  'vote_average': 8.3,\n",
       "  'vote_count': 12607},\n",
       " {'adult': False,\n",
       "  'backdrop_path': '/wcC7kCICL6x6zHUlUyNp9pWoqW1.jpg',\n",
       "  'belongs_to_collection': {'id': 87096,\n",
       "   'name': 'Avatar Collection',\n",
       "   'poster_path': '/nslJVsO58Etqkk17oXMuVK4gNOF.jpg',\n",
       "   'backdrop_path': '/8nCr9W7sKus2q9PLbYsnT7iCkuT.jpg'},\n",
       "  'budget': 237000000,\n",
       "  'genres': [{'id': 28, 'name': 'Action'},\n",
       "   {'id': 12, 'name': 'Adventure'},\n",
       "   {'id': 14, 'name': 'Fantasy'},\n",
       "   {'id': 878, 'name': 'Science Fiction'}],\n",
       "  'homepage': 'http://www.avatarmovie.com/',\n",
       "  'id': 19995,\n",
       "  'imdb_id': 'tt0499549',\n",
       "  'original_language': 'en',\n",
       "  'original_title': 'Avatar',\n",
       "  'overview': 'In the 22nd century, a paraplegic Marine is dispatched to the moon Pandora on a unique mission, but becomes torn between following orders and protecting an alien civilization.',\n",
       "  'popularity': 40.5,\n",
       "  'poster_path': '/btnl50ZDJDSCal2NLQIYWw0XxvH.jpg',\n",
       "  'production_companies': [{'id': 444,\n",
       "    'logo_path': '/42UPdZl6B2cFXgNUASR8hSt9mpS.png',\n",
       "    'name': 'Dune Entertainment',\n",
       "    'origin_country': 'US'},\n",
       "   {'id': 574,\n",
       "    'logo_path': '/iB6GjNVHs5hOqcEYt2rcjBqIjki.png',\n",
       "    'name': 'Lightstorm Entertainment',\n",
       "    'origin_country': 'US'},\n",
       "   {'id': 25,\n",
       "    'logo_path': '/qZCc1lty5FzX30aOCVRBLzaVmcp.png',\n",
       "    'name': '20th Century Fox',\n",
       "    'origin_country': 'US'},\n",
       "   {'id': 290,\n",
       "    'logo_path': '/Q8mw2AOQQc8Qg0uNwLWq86DVZv.png',\n",
       "    'name': 'Ingenious Media',\n",
       "    'origin_country': 'GB'}],\n",
       "  'production_countries': [{'iso_3166_1': 'US',\n",
       "    'name': 'United States of America'},\n",
       "   {'iso_3166_1': 'GB', 'name': 'United Kingdom'}],\n",
       "  'release_date': '2009-12-10',\n",
       "  'revenue': 2787965087,\n",
       "  'runtime': 162,\n",
       "  'spoken_languages': [{'iso_639_1': 'en', 'name': 'English'},\n",
       "   {'iso_639_1': 'es', 'name': 'Español'}],\n",
       "  'status': 'Released',\n",
       "  'tagline': 'Enter the World of Pandora.',\n",
       "  'title': 'Avatar',\n",
       "  'video': False,\n",
       "  'vote_average': 7.4,\n",
       "  'vote_count': 21000},\n",
       " {'adult': False,\n",
       "  'backdrop_path': '/8BTsTfln4jlQrLXUBquXJ0ASQy9.jpg',\n",
       "  'belongs_to_collection': {'id': 10,\n",
       "   'name': 'Star Wars Collection',\n",
       "   'poster_path': '/r8Ph5MYXL04Qzu4QBbq2KjqwtkQ.jpg',\n",
       "   'backdrop_path': '/d8duYyyC9J5T825Hg7grmaabfxQ.jpg'},\n",
       "  'budget': 245000000,\n",
       "  'genres': [{'id': 28, 'name': 'Action'},\n",
       "   {'id': 12, 'name': 'Adventure'},\n",
       "   {'id': 878, 'name': 'Science Fiction'},\n",
       "   {'id': 14, 'name': 'Fantasy'}],\n",
       "  'homepage': 'http://www.starwars.com/films/star-wars-episode-vii',\n",
       "  'id': 140607,\n",
       "  'imdb_id': 'tt2488496',\n",
       "  'original_language': 'en',\n",
       "  'original_title': 'Star Wars: The Force Awakens',\n",
       "  'overview': 'Thirty years after defeating the Galactic Empire, Han Solo and his allies face a new threat from the evil Kylo Ren and his army of Stormtroopers.',\n",
       "  'popularity': 36.198,\n",
       "  'poster_path': '/9rd002JS49RwDW944fF1wjU8iTV.jpg',\n",
       "  'production_companies': [{'id': 1634,\n",
       "    'logo_path': None,\n",
       "    'name': 'Truenorth Productions',\n",
       "    'origin_country': 'IS'},\n",
       "   {'id': 1,\n",
       "    'logo_path': '/o86DbpburjxrqAzEDhXZcyE8pDb.png',\n",
       "    'name': 'Lucasfilm',\n",
       "    'origin_country': 'US'},\n",
       "   {'id': 11461,\n",
       "    'logo_path': '/p9FoEt5shEKRWRKVIlvFaEmRnun.png',\n",
       "    'name': 'Bad Robot',\n",
       "    'origin_country': 'US'}],\n",
       "  'production_countries': [{'iso_3166_1': 'US',\n",
       "    'name': 'United States of America'}],\n",
       "  'release_date': '2015-12-15',\n",
       "  'revenue': 2068223624,\n",
       "  'runtime': 136,\n",
       "  'spoken_languages': [{'iso_639_1': 'en', 'name': 'English'}],\n",
       "  'status': 'Released',\n",
       "  'tagline': 'Every generation has a story.',\n",
       "  'title': 'Star Wars: The Force Awakens',\n",
       "  'video': False,\n",
       "  'vote_average': 7.4,\n",
       "  'vote_count': 14205},\n",
       " {'adult': False,\n",
       "  'backdrop_path': '/lmZFxXgJE3vgrciwuDib0N8CfQo.jpg',\n",
       "  'belongs_to_collection': {'id': 86311,\n",
       "   'name': 'The Avengers Collection',\n",
       "   'poster_path': '/yFSIUVTCvgYrpalUktulvk3Gi5Y.jpg',\n",
       "   'backdrop_path': '/zuW6fOiusv4X9nnW3paHGfXcSll.jpg'},\n",
       "  'budget': 300000000,\n",
       "  'genres': [{'id': 12, 'name': 'Adventure'},\n",
       "   {'id': 28, 'name': 'Action'},\n",
       "   {'id': 878, 'name': 'Science Fiction'}],\n",
       "  'homepage': 'https://www.marvel.com/movies/avengers-infinity-war',\n",
       "  'id': 299536,\n",
       "  'imdb_id': 'tt4154756',\n",
       "  'original_language': 'en',\n",
       "  'original_title': 'Avengers: Infinity War',\n",
       "  'overview': 'As the Avengers and their allies have continued to protect the world from threats too large for any one hero to handle, a new danger has emerged from the cosmic shadows: Thanos. A despot of intergalactic infamy, his goal is to collect all six Infinity Stones, artifacts of unimaginable power, and use them to inflict his twisted will on all of reality. Everything the Avengers have fought for has led up to this moment - the fate of Earth and existence itself has never been more uncertain.',\n",
       "  'popularity': 78.331,\n",
       "  'poster_path': '/7WsyChQLEftFiDOVTGkv3hFpyyt.jpg',\n",
       "  'production_companies': [{'id': 420,\n",
       "    'logo_path': '/hUzeosd33nzE5MCNsZxCGEKTXaQ.png',\n",
       "    'name': 'Marvel Studios',\n",
       "    'origin_country': 'US'}],\n",
       "  'production_countries': [{'iso_3166_1': 'US',\n",
       "    'name': 'United States of America'}],\n",
       "  'release_date': '2018-04-25',\n",
       "  'revenue': 2046239637,\n",
       "  'runtime': 149,\n",
       "  'spoken_languages': [{'iso_639_1': 'en', 'name': 'English'},\n",
       "   {'iso_639_1': 'xh', 'name': ''}],\n",
       "  'status': 'Released',\n",
       "  'tagline': 'An entire universe. Once and for all.',\n",
       "  'title': 'Avengers: Infinity War',\n",
       "  'video': False,\n",
       "  'vote_average': 8.3,\n",
       "  'vote_count': 17718},\n",
       " {'adult': False,\n",
       "  'backdrop_path': '/6VmFqApQRyZZzmiGOQq2C92jyvH.jpg',\n",
       "  'belongs_to_collection': None,\n",
       "  'budget': 200000000,\n",
       "  'genres': [{'id': 18, 'name': 'Drama'}, {'id': 10749, 'name': 'Romance'}],\n",
       "  'homepage': '',\n",
       "  'id': 597,\n",
       "  'imdb_id': 'tt0120338',\n",
       "  'original_language': 'en',\n",
       "  'original_title': 'Titanic',\n",
       "  'overview': \"101-year-old Rose DeWitt Bukater tells the story of her life aboard the Titanic, 84 years later. A young Rose boards the ship with her mother and fiancé. Meanwhile, Jack Dawson and Fabrizio De Rossi win third-class tickets aboard the ship. Rose tells the whole story from Titanic's departure through to its death—on its first and last voyage—on April 15, 1912.\",\n",
       "  'popularity': 38.062,\n",
       "  'poster_path': '/9xjZS2rlVxm8SFx8kPC3aIGCOYQ.jpg',\n",
       "  'production_companies': [{'id': 4,\n",
       "    'logo_path': '/fycMZt242LVjagMByZOLUGbCvv3.png',\n",
       "    'name': 'Paramount',\n",
       "    'origin_country': 'US'},\n",
       "   {'id': 574,\n",
       "    'logo_path': '/iB6GjNVHs5hOqcEYt2rcjBqIjki.png',\n",
       "    'name': 'Lightstorm Entertainment',\n",
       "    'origin_country': 'US'},\n",
       "   {'id': 25,\n",
       "    'logo_path': '/qZCc1lty5FzX30aOCVRBLzaVmcp.png',\n",
       "    'name': '20th Century Fox',\n",
       "    'origin_country': 'US'}],\n",
       "  'production_countries': [{'iso_3166_1': 'US',\n",
       "    'name': 'United States of America'}],\n",
       "  'release_date': '1997-11-18',\n",
       "  'revenue': 1845034188,\n",
       "  'runtime': 194,\n",
       "  'spoken_languages': [{'iso_639_1': 'en', 'name': 'English'},\n",
       "   {'iso_639_1': 'fr', 'name': 'Français'},\n",
       "   {'iso_639_1': 'de', 'name': 'Deutsch'},\n",
       "   {'iso_639_1': 'sv', 'name': 'svenska'},\n",
       "   {'iso_639_1': 'it', 'name': 'Italiano'},\n",
       "   {'iso_639_1': 'ru', 'name': 'Pусский'}],\n",
       "  'status': 'Released',\n",
       "  'tagline': 'Nothing on Earth could come between them.',\n",
       "  'title': 'Titanic',\n",
       "  'video': False,\n",
       "  'vote_average': 7.8,\n",
       "  'vote_count': 16661},\n",
       " {'adult': False,\n",
       "  'backdrop_path': '/9OywzJLgobAbSGfhMXligzTylko.jpg',\n",
       "  'belongs_to_collection': {'id': 328,\n",
       "   'name': 'Jurassic Park Collection',\n",
       "   'poster_path': '/qIm2nHXLpBBdMxi8dvfrnDkBUDh.jpg',\n",
       "   'backdrop_path': '/njFixYzIxX8jsn6KMSEtAzi4avi.jpg'},\n",
       "  'budget': 150000000,\n",
       "  'genres': [{'id': 28, 'name': 'Action'},\n",
       "   {'id': 12, 'name': 'Adventure'},\n",
       "   {'id': 878, 'name': 'Science Fiction'},\n",
       "   {'id': 53, 'name': 'Thriller'}],\n",
       "  'homepage': 'http://www.jurassicworld.com/',\n",
       "  'id': 135397,\n",
       "  'imdb_id': 'tt0369610',\n",
       "  'original_language': 'en',\n",
       "  'original_title': 'Jurassic World',\n",
       "  'overview': 'Twenty-two years after the events of Jurassic Park, Isla Nublar now features a fully functioning dinosaur theme park, Jurassic World, as originally envisioned by John Hammond.',\n",
       "  'popularity': 25.281,\n",
       "  'poster_path': '/rhr4y79GpxQF9IsfJItRXVaoGs4.jpg',\n",
       "  'production_companies': [{'id': 3341,\n",
       "    'logo_path': '/dTG5dXE1kU2mpmL9BNnraffckLU.png',\n",
       "    'name': 'Fuji Television Network',\n",
       "    'origin_country': 'JP'},\n",
       "   {'id': 56,\n",
       "    'logo_path': '/cEaxANEisCqeEoRvODv2dO1I0iI.png',\n",
       "    'name': 'Amblin Entertainment',\n",
       "    'origin_country': 'US'},\n",
       "   {'id': 923,\n",
       "    'logo_path': '/5UQsZrfbfG2dYJbx8DxfoTr2Bvu.png',\n",
       "    'name': 'Legendary Entertainment',\n",
       "    'origin_country': 'US'},\n",
       "   {'id': 33,\n",
       "    'logo_path': '/8lvHyhjr8oUKOOy2dKXoALWKdp0.png',\n",
       "    'name': 'Universal Pictures',\n",
       "    'origin_country': 'US'},\n",
       "   {'id': 1778,\n",
       "    'logo_path': '/69xm6sF3JxugGVjfZfm1YY6d7EE.png',\n",
       "    'name': 'Dentsu',\n",
       "    'origin_country': 'JP'},\n",
       "   {'id': 862,\n",
       "    'logo_path': '/udTjbqPmcTbfrihMuLtLcizDEM1.png',\n",
       "    'name': 'The Kennedy/Marshall Company',\n",
       "    'origin_country': 'US'}],\n",
       "  'production_countries': [{'iso_3166_1': 'US',\n",
       "    'name': 'United States of America'}],\n",
       "  'release_date': '2015-06-06',\n",
       "  'revenue': 1671713208,\n",
       "  'runtime': 124,\n",
       "  'spoken_languages': [{'iso_639_1': 'en', 'name': 'English'}],\n",
       "  'status': 'Released',\n",
       "  'tagline': 'The park is open.',\n",
       "  'title': 'Jurassic World',\n",
       "  'video': False,\n",
       "  'vote_average': 6.6,\n",
       "  'vote_count': 15399},\n",
       " {'adult': False,\n",
       "  'backdrop_path': '/nRXO2SnOA75OsWhNhXstHB8ZmI3.jpg',\n",
       "  'belongs_to_collection': None,\n",
       "  'budget': 260000000,\n",
       "  'genres': [{'id': 12, 'name': 'Adventure'}, {'id': 10751, 'name': 'Family'}],\n",
       "  'homepage': 'https://movies.disney.com/the-lion-king-2019',\n",
       "  'id': 420818,\n",
       "  'imdb_id': 'tt6105098',\n",
       "  'original_language': 'en',\n",
       "  'original_title': 'The Lion King',\n",
       "  'overview': \"Simba idolizes his father, King Mufasa, and takes to heart his own royal destiny. But not everyone in the kingdom celebrates the new cub's arrival. Scar, Mufasa's brother—and former heir to the throne—has plans of his own. The battle for Pride Rock is ravaged with betrayal, tragedy and drama, ultimately resulting in Simba's exile. With help from a curious pair of newfound friends, Simba will have to figure out how to grow up and take back what is rightfully his.\",\n",
       "  'popularity': 49.847,\n",
       "  'poster_path': '/2bXbqYdUdNVa8VIWXVfclP2ICtT.jpg',\n",
       "  'production_companies': [{'id': 2,\n",
       "    'logo_path': '/wdrCwmRnLFJhEoH8GSfymY85KHT.png',\n",
       "    'name': 'Walt Disney Pictures',\n",
       "    'origin_country': 'US'},\n",
       "   {'id': 7297,\n",
       "    'logo_path': '/l29JYQVZbTcjZXoz4CUYFpKRmM3.png',\n",
       "    'name': 'Fairview Entertainment',\n",
       "    'origin_country': 'US'}],\n",
       "  'production_countries': [{'iso_3166_1': 'US',\n",
       "    'name': 'United States of America'}],\n",
       "  'release_date': '2019-07-12',\n",
       "  'revenue': 1656943394,\n",
       "  'runtime': 118,\n",
       "  'spoken_languages': [{'iso_639_1': 'en', 'name': 'English'}],\n",
       "  'status': 'Released',\n",
       "  'tagline': 'The King has Returned.',\n",
       "  'title': 'The Lion King',\n",
       "  'video': False,\n",
       "  'vote_average': 7.2,\n",
       "  'vote_count': 5425},\n",
       " {'adult': False,\n",
       "  'backdrop_path': '/v3A0T4fAz8xRugAkfUVkxGLd377.jpg',\n",
       "  'belongs_to_collection': {'id': 86311,\n",
       "   'name': 'The Avengers Collection',\n",
       "   'poster_path': '/yFSIUVTCvgYrpalUktulvk3Gi5Y.jpg',\n",
       "   'backdrop_path': '/zuW6fOiusv4X9nnW3paHGfXcSll.jpg'},\n",
       "  'budget': 220000000,\n",
       "  'genres': [{'id': 878, 'name': 'Science Fiction'},\n",
       "   {'id': 28, 'name': 'Action'},\n",
       "   {'id': 12, 'name': 'Adventure'}],\n",
       "  'homepage': 'http://marvel.com/avengers_movie/',\n",
       "  'id': 24428,\n",
       "  'imdb_id': 'tt0848228',\n",
       "  'original_language': 'en',\n",
       "  'original_title': 'The Avengers',\n",
       "  'overview': 'When an unexpected enemy emerges and threatens global safety and security, Nick Fury, director of the international peacekeeping agency known as S.H.I.E.L.D., finds himself in need of a team to pull the world back from the brink of disaster. Spanning the globe, a daring recruitment effort begins!',\n",
       "  'popularity': 69.459,\n",
       "  'poster_path': '/RYMX2wcKCBAr24UyPD7xwmjaTn.jpg',\n",
       "  'production_companies': [{'id': 420,\n",
       "    'logo_path': '/hUzeosd33nzE5MCNsZxCGEKTXaQ.png',\n",
       "    'name': 'Marvel Studios',\n",
       "    'origin_country': 'US'},\n",
       "   {'id': 4,\n",
       "    'logo_path': '/fycMZt242LVjagMByZOLUGbCvv3.png',\n",
       "    'name': 'Paramount',\n",
       "    'origin_country': 'US'}],\n",
       "  'production_countries': [{'iso_3166_1': 'US',\n",
       "    'name': 'United States of America'}],\n",
       "  'release_date': '2012-04-25',\n",
       "  'revenue': 1519557910,\n",
       "  'runtime': 143,\n",
       "  'spoken_languages': [{'iso_639_1': 'en', 'name': 'English'},\n",
       "   {'iso_639_1': 'hi', 'name': 'हिन्दी'},\n",
       "   {'iso_639_1': 'ru', 'name': 'Pусский'}],\n",
       "  'status': 'Released',\n",
       "  'tagline': 'Some assembly required.',\n",
       "  'title': 'The Avengers',\n",
       "  'video': False,\n",
       "  'vote_average': 7.7,\n",
       "  'vote_count': 22101},\n",
       " {'adult': False,\n",
       "  'backdrop_path': '/7X6zOOEzXTQJkzDgBHVly1BgyYu.jpg',\n",
       "  'belongs_to_collection': {'id': 9485,\n",
       "   'name': 'The Fast and the Furious Collection',\n",
       "   'poster_path': '/uv63yAGg1zETAs1XQsOQpava87l.jpg',\n",
       "   'backdrop_path': '/z5A5W3WYJc3UVEWljSGwdjDgQ0j.jpg'},\n",
       "  'budget': 190000000,\n",
       "  'genres': [{'id': 28, 'name': 'Action'}, {'id': 53, 'name': 'Thriller'}],\n",
       "  'homepage': 'http://www.furious7.com/',\n",
       "  'id': 168259,\n",
       "  'imdb_id': 'tt2820852',\n",
       "  'original_language': 'en',\n",
       "  'original_title': 'Furious 7',\n",
       "  'overview': 'Deckard Shaw seeks revenge against Dominic Toretto and his family for his comatose brother.',\n",
       "  'popularity': 22.032,\n",
       "  'poster_path': '/d9jZ2bKZw3ptTuxAyVHA6olPAVs.jpg',\n",
       "  'production_companies': [{'id': 87857,\n",
       "    'logo_path': None,\n",
       "    'name': 'Abu Dhabi Film Commission',\n",
       "    'origin_country': ''},\n",
       "   {'id': 33,\n",
       "    'logo_path': '/8lvHyhjr8oUKOOy2dKXoALWKdp0.png',\n",
       "    'name': 'Universal Pictures',\n",
       "    'origin_country': 'US'},\n",
       "   {'id': 40890,\n",
       "    'logo_path': None,\n",
       "    'name': 'China Film Co.',\n",
       "    'origin_country': 'CN'},\n",
       "   {'id': 333,\n",
       "    'logo_path': '/5xUJfzPZ8jWJUDzYtIeuPO4qPIa.png',\n",
       "    'name': 'Original Film',\n",
       "    'origin_country': 'US'},\n",
       "   {'id': 3341,\n",
       "    'logo_path': '/dTG5dXE1kU2mpmL9BNnraffckLU.png',\n",
       "    'name': 'Fuji Television Network',\n",
       "    'origin_country': 'JP'},\n",
       "   {'id': 86352,\n",
       "    'logo_path': None,\n",
       "    'name': 'Québec Production Services Tax Credit',\n",
       "    'origin_country': ''},\n",
       "   {'id': 87858,\n",
       "    'logo_path': None,\n",
       "    'name': 'Colorado Office of Film, Television & Media',\n",
       "    'origin_country': ''},\n",
       "   {'id': 1778,\n",
       "    'logo_path': '/69xm6sF3JxugGVjfZfm1YY6d7EE.png',\n",
       "    'name': 'Dentsu',\n",
       "    'origin_country': 'JP'},\n",
       "   {'id': 2531,\n",
       "    'logo_path': '/pC2iDCDCvV85vOBP7a5Ukxuc0Du.png',\n",
       "    'name': 'Media Rights Capital',\n",
       "    'origin_country': 'US'},\n",
       "   {'id': 1225,\n",
       "    'logo_path': None,\n",
       "    'name': 'One Race',\n",
       "    'origin_country': 'US'}],\n",
       "  'production_countries': [{'iso_3166_1': 'US',\n",
       "    'name': 'United States of America'}],\n",
       "  'release_date': '2015-04-01',\n",
       "  'revenue': 1515047671,\n",
       "  'runtime': 137,\n",
       "  'spoken_languages': [{'iso_639_1': 'en', 'name': 'English'}],\n",
       "  'status': 'Released',\n",
       "  'tagline': 'Vengeance Hits Home',\n",
       "  'title': 'Furious 7',\n",
       "  'video': False,\n",
       "  'vote_average': 7.3,\n",
       "  'vote_count': 7359},\n",
       " {'adult': False,\n",
       "  'backdrop_path': '/4zmNJNQkugbalqJLnKp0wnlp8i3.jpg',\n",
       "  'belongs_to_collection': {'id': 86311,\n",
       "   'name': 'The Avengers Collection',\n",
       "   'poster_path': '/yFSIUVTCvgYrpalUktulvk3Gi5Y.jpg',\n",
       "   'backdrop_path': '/zuW6fOiusv4X9nnW3paHGfXcSll.jpg'},\n",
       "  'budget': 250000000,\n",
       "  'genres': [{'id': 28, 'name': 'Action'},\n",
       "   {'id': 12, 'name': 'Adventure'},\n",
       "   {'id': 878, 'name': 'Science Fiction'}],\n",
       "  'homepage': 'http://marvel.com/movies/movie/193/avengers_age_of_ultron',\n",
       "  'id': 99861,\n",
       "  'imdb_id': 'tt2395427',\n",
       "  'original_language': 'en',\n",
       "  'original_title': 'Avengers: Age of Ultron',\n",
       "  'overview': 'When Tony Stark tries to jumpstart a dormant peacekeeping program, things go awry and Earth’s Mightiest Heroes are put to the ultimate test as the fate of the planet hangs in the balance. As the villainous Ultron emerges, it is up to The Avengers to stop him from enacting his terrible plans, and soon uneasy alliances and unexpected action pave the way for an epic and unique global adventure.',\n",
       "  'popularity': 43.805,\n",
       "  'poster_path': '/4ssDuvEDkSArWEdyBl2X5EHvYKU.jpg',\n",
       "  'production_companies': [{'id': 420,\n",
       "    'logo_path': '/hUzeosd33nzE5MCNsZxCGEKTXaQ.png',\n",
       "    'name': 'Marvel Studios',\n",
       "    'origin_country': 'US'}],\n",
       "  'production_countries': [{'iso_3166_1': 'US',\n",
       "    'name': 'United States of America'}],\n",
       "  'release_date': '2015-04-22',\n",
       "  'revenue': 1405403694,\n",
       "  'runtime': 141,\n",
       "  'spoken_languages': [{'iso_639_1': 'en', 'name': 'English'}],\n",
       "  'status': 'Released',\n",
       "  'tagline': 'A New Age Has Come.',\n",
       "  'title': 'Avengers: Age of Ultron',\n",
       "  'video': False,\n",
       "  'vote_average': 7.3,\n",
       "  'vote_count': 15548},\n",
       " {'adult': False,\n",
       "  'backdrop_path': '/6ELJEzQJ3Y45HczvreC3dg0GV5R.jpg',\n",
       "  'belongs_to_collection': {'id': 529892,\n",
       "   'name': 'Black Panther Collection',\n",
       "   'poster_path': '/9ZSPIsxI3TZDgfg0Jzk0RZl4INg.jpg',\n",
       "   'backdrop_path': '/1Jj7Frjjbewb6Q6dl6YXhL3kuvL.jpg'},\n",
       "  'budget': 200000000,\n",
       "  'genres': [{'id': 28, 'name': 'Action'},\n",
       "   {'id': 12, 'name': 'Adventure'},\n",
       "   {'id': 14, 'name': 'Fantasy'},\n",
       "   {'id': 878, 'name': 'Science Fiction'}],\n",
       "  'homepage': 'https://marvel.com/movies/movie/224/black_panther',\n",
       "  'id': 284054,\n",
       "  'imdb_id': 'tt1825683',\n",
       "  'original_language': 'en',\n",
       "  'original_title': 'Black Panther',\n",
       "  'overview': \"King T'Challa returns home from America to the reclusive, technologically advanced African nation of Wakanda to serve as his country's new leader. However, T'Challa soon finds that he is challenged for the throne by factions within his own country as well as without. Using powers reserved to Wakandan kings, T'Challa assumes the Black Panther mantel to join with girlfriend Nakia, the queen-mother, his princess-kid sister, members of the Dora Milaje (the Wakandan 'special forces') and an American secret agent, to prevent Wakanda from being dragged into a world war.\",\n",
       "  'popularity': 36.581,\n",
       "  'poster_path': '/uxzzxijgPIY7slzFvMotPv8wjKA.jpg',\n",
       "  'production_companies': [{'id': 420,\n",
       "    'logo_path': '/hUzeosd33nzE5MCNsZxCGEKTXaQ.png',\n",
       "    'name': 'Marvel Studios',\n",
       "    'origin_country': 'US'},\n",
       "   {'id': 2,\n",
       "    'logo_path': '/wdrCwmRnLFJhEoH8GSfymY85KHT.png',\n",
       "    'name': 'Walt Disney Pictures',\n",
       "    'origin_country': 'US'}],\n",
       "  'production_countries': [{'iso_3166_1': 'US',\n",
       "    'name': 'United States of America'}],\n",
       "  'release_date': '2018-02-13',\n",
       "  'revenue': 1346739107,\n",
       "  'runtime': 134,\n",
       "  'spoken_languages': [{'iso_639_1': 'en', 'name': 'English'},\n",
       "   {'iso_639_1': 'ko', 'name': '한국어/조선말'},\n",
       "   {'iso_639_1': 'sw', 'name': 'Kiswahili'},\n",
       "   {'iso_639_1': 'xh', 'name': ''}],\n",
       "  'status': 'Released',\n",
       "  'tagline': 'Long live the king.',\n",
       "  'title': 'Black Panther',\n",
       "  'video': False,\n",
       "  'vote_average': 7.4,\n",
       "  'vote_count': 14830},\n",
       " {'adult': False,\n",
       "  'backdrop_path': '/n5A7brJCjejceZmHyujwUTVgQNC.jpg',\n",
       "  'belongs_to_collection': {'id': 1241,\n",
       "   'name': 'Harry Potter Collection',\n",
       "   'poster_path': '/eVPs2Y0LyvTLZn6AP5Z6O2rtiGB.jpg',\n",
       "   'backdrop_path': '/wfnMt6LGqYHcNyOfsuusw5lX3bL.jpg'},\n",
       "  'budget': 125000000,\n",
       "  'genres': [{'id': 14, 'name': 'Fantasy'}, {'id': 12, 'name': 'Adventure'}],\n",
       "  'homepage': 'https://www.warnerbros.com/movies/harry-potter-and-deathly-hallows-part-2/',\n",
       "  'id': 12445,\n",
       "  'imdb_id': 'tt1201607',\n",
       "  'original_language': 'en',\n",
       "  'original_title': 'Harry Potter and the Deathly Hallows: Part 2',\n",
       "  'overview': \"Harry, Ron and Hermione continue their quest to vanquish the evil Voldemort once and for all. Just as things begin to look hopeless for the young wizards, Harry discovers a trio of magical objects that endow him with powers to rival Voldemort's formidable skills.\",\n",
       "  'popularity': 40.209,\n",
       "  'poster_path': '/c54HpQmuwXjHq2C9wmoACjxoom3.jpg',\n",
       "  'production_companies': [{'id': 174,\n",
       "    'logo_path': '/IuAlhI9eVC9Z8UQWOIDdWRKSEJ.png',\n",
       "    'name': 'Warner Bros. Pictures',\n",
       "    'origin_country': 'US'},\n",
       "   {'id': 437,\n",
       "    'logo_path': '/nu20mtwbEIhUNnQ5NXVhHsNknZj.png',\n",
       "    'name': 'Heyday Films',\n",
       "    'origin_country': 'GB'}],\n",
       "  'production_countries': [{'iso_3166_1': 'GB', 'name': 'United Kingdom'},\n",
       "   {'iso_3166_1': 'US', 'name': 'United States of America'}],\n",
       "  'release_date': '2011-07-07',\n",
       "  'revenue': 1341511219,\n",
       "  'runtime': 130,\n",
       "  'spoken_languages': [{'iso_639_1': 'en', 'name': 'English'}],\n",
       "  'status': 'Released',\n",
       "  'tagline': 'It all ends here.',\n",
       "  'title': 'Harry Potter and the Deathly Hallows: Part 2',\n",
       "  'video': False,\n",
       "  'vote_average': 8.1,\n",
       "  'vote_count': 13447},\n",
       " {'adult': False,\n",
       "  'backdrop_path': '/5Iw7zQTHVRBOYpA0V6z0yypOPZh.jpg',\n",
       "  'belongs_to_collection': {'id': 10,\n",
       "   'name': 'Star Wars Collection',\n",
       "   'poster_path': '/r8Ph5MYXL04Qzu4QBbq2KjqwtkQ.jpg',\n",
       "   'backdrop_path': '/d8duYyyC9J5T825Hg7grmaabfxQ.jpg'},\n",
       "  'budget': 200000000,\n",
       "  'genres': [{'id': 878, 'name': 'Science Fiction'},\n",
       "   {'id': 28, 'name': 'Action'},\n",
       "   {'id': 12, 'name': 'Adventure'}],\n",
       "  'homepage': 'https://www.starwars.com/films/star-wars-episode-viii-the-last-jedi',\n",
       "  'id': 181808,\n",
       "  'imdb_id': 'tt2527336',\n",
       "  'original_language': 'en',\n",
       "  'original_title': 'Star Wars: The Last Jedi',\n",
       "  'overview': 'Rey develops her newly discovered abilities with the guidance of Luke Skywalker, who is unsettled by the strength of her powers. Meanwhile, the Resistance prepares to do battle with the First Order.',\n",
       "  'popularity': 43.437,\n",
       "  'poster_path': '/kOVEVeg59E0wsnXmF9nrh6OmWII.jpg',\n",
       "  'production_companies': [{'id': 1,\n",
       "    'logo_path': '/o86DbpburjxrqAzEDhXZcyE8pDb.png',\n",
       "    'name': 'Lucasfilm',\n",
       "    'origin_country': 'US'},\n",
       "   {'id': 11092,\n",
       "    'logo_path': None,\n",
       "    'name': 'Ram Bergman Productions',\n",
       "    'origin_country': 'US'},\n",
       "   {'id': 2,\n",
       "    'logo_path': '/wdrCwmRnLFJhEoH8GSfymY85KHT.png',\n",
       "    'name': 'Walt Disney Pictures',\n",
       "    'origin_country': 'US'}],\n",
       "  'production_countries': [{'iso_3166_1': 'US',\n",
       "    'name': 'United States of America'}],\n",
       "  'release_date': '2017-12-13',\n",
       "  'revenue': 1332539889,\n",
       "  'runtime': 152,\n",
       "  'spoken_languages': [{'iso_639_1': 'en', 'name': 'English'}],\n",
       "  'status': 'Released',\n",
       "  'tagline': 'Darkness rises... and light to meet it',\n",
       "  'title': 'Star Wars: The Last Jedi',\n",
       "  'video': False,\n",
       "  'vote_average': 7.0,\n",
       "  'vote_count': 10304},\n",
       " {'adult': False,\n",
       "  'backdrop_path': '/xJWPZIYOEFIjZpBL7SVBGnzRYXp.jpg',\n",
       "  'belongs_to_collection': {'id': 386382,\n",
       "   'name': 'Frozen Collection',\n",
       "   'poster_path': '/rpoXnE9UzCbjmINhxIi8bZF557B.jpg',\n",
       "   'backdrop_path': '/k21wXgC9AVnKoHW1lRPS0UUGCZ4.jpg'},\n",
       "  'budget': 150000000,\n",
       "  'genres': [{'id': 16, 'name': 'Animation'},\n",
       "   {'id': 10751, 'name': 'Family'},\n",
       "   {'id': 12, 'name': 'Adventure'}],\n",
       "  'homepage': 'https://movies.disney.com/frozen-2',\n",
       "  'id': 330457,\n",
       "  'imdb_id': 'tt4520988',\n",
       "  'original_language': 'en',\n",
       "  'original_title': 'Frozen II',\n",
       "  'overview': 'Elsa, Anna, Kristoff and Olaf head far into the forest to learn the truth about an ancient mystery of their kingdom.',\n",
       "  'popularity': 71.177,\n",
       "  'poster_path': '/h6Wi81XNXCjTAcdstiCLRykN3Pa.jpg',\n",
       "  'production_companies': [{'id': 6125,\n",
       "    'logo_path': '/tVPmo07IHhBs4HuilrcV0yujsZ9.png',\n",
       "    'name': 'Walt Disney Animation Studios',\n",
       "    'origin_country': 'US'},\n",
       "   {'id': 2,\n",
       "    'logo_path': '/wdrCwmRnLFJhEoH8GSfymY85KHT.png',\n",
       "    'name': 'Walt Disney Pictures',\n",
       "    'origin_country': 'US'}],\n",
       "  'production_countries': [{'iso_3166_1': 'US',\n",
       "    'name': 'United States of America'}],\n",
       "  'release_date': '2019-11-20',\n",
       "  'revenue': 1330764959,\n",
       "  'runtime': 104,\n",
       "  'spoken_languages': [{'iso_639_1': 'en', 'name': 'English'}],\n",
       "  'status': 'Released',\n",
       "  'tagline': 'The past is not what it seems.',\n",
       "  'title': 'Frozen II',\n",
       "  'video': False,\n",
       "  'vote_average': 7.2,\n",
       "  'vote_count': 3982},\n",
       " {'adult': False,\n",
       "  'backdrop_path': '/3s9O5af2xWKWR5JzP2iJZpZeQQg.jpg',\n",
       "  'belongs_to_collection': {'id': 328,\n",
       "   'name': 'Jurassic Park Collection',\n",
       "   'poster_path': '/qIm2nHXLpBBdMxi8dvfrnDkBUDh.jpg',\n",
       "   'backdrop_path': '/njFixYzIxX8jsn6KMSEtAzi4avi.jpg'},\n",
       "  'budget': 170000000,\n",
       "  'genres': [{'id': 28, 'name': 'Action'},\n",
       "   {'id': 12, 'name': 'Adventure'},\n",
       "   {'id': 878, 'name': 'Science Fiction'}],\n",
       "  'homepage': 'http://www.jurassicworld.com',\n",
       "  'id': 351286,\n",
       "  'imdb_id': 'tt4881806',\n",
       "  'original_language': 'en',\n",
       "  'original_title': 'Jurassic World: Fallen Kingdom',\n",
       "  'overview': 'Three years after the demise of Jurassic World, a volcanic eruption threatens the remaining dinosaurs on the isla Nublar, so Claire Dearing, the former park manager, recruits Owen Grady to help prevent the extinction of the dinosaurs once again.',\n",
       "  'popularity': 34.147,\n",
       "  'poster_path': '/c9XxwwhPHdaImA2f1WEfEsbhaFB.jpg',\n",
       "  'production_companies': [{'id': 56,\n",
       "    'logo_path': '/cEaxANEisCqeEoRvODv2dO1I0iI.png',\n",
       "    'name': 'Amblin Entertainment',\n",
       "    'origin_country': 'US'},\n",
       "   {'id': 923,\n",
       "    'logo_path': '/5UQsZrfbfG2dYJbx8DxfoTr2Bvu.png',\n",
       "    'name': 'Legendary Entertainment',\n",
       "    'origin_country': 'US'},\n",
       "   {'id': 33,\n",
       "    'logo_path': '/8lvHyhjr8oUKOOy2dKXoALWKdp0.png',\n",
       "    'name': 'Universal Pictures',\n",
       "    'origin_country': 'US'},\n",
       "   {'id': 10338,\n",
       "    'logo_path': '/el2ap6lvjcEDdbyJoB3oKiYgXu9.png',\n",
       "    'name': 'Perfect World Pictures',\n",
       "    'origin_country': 'CN'}],\n",
       "  'production_countries': [{'iso_3166_1': 'US',\n",
       "    'name': 'United States of America'}],\n",
       "  'release_date': '2018-06-06',\n",
       "  'revenue': 1303459585,\n",
       "  'runtime': 129,\n",
       "  'spoken_languages': [{'iso_639_1': 'en', 'name': 'English'},\n",
       "   {'iso_639_1': 'ru', 'name': 'Pусский'}],\n",
       "  'status': 'Released',\n",
       "  'tagline': 'The park is gone',\n",
       "  'title': 'Jurassic World: Fallen Kingdom',\n",
       "  'video': False,\n",
       "  'vote_average': 6.5,\n",
       "  'vote_count': 7337},\n",
       " {'adult': False,\n",
       "  'backdrop_path': '/fydUcbkqLyESCFa9U5XKqi8dIVj.jpg',\n",
       "  'belongs_to_collection': {'id': 386382,\n",
       "   'name': 'Frozen Collection',\n",
       "   'poster_path': '/rpoXnE9UzCbjmINhxIi8bZF557B.jpg',\n",
       "   'backdrop_path': '/k21wXgC9AVnKoHW1lRPS0UUGCZ4.jpg'},\n",
       "  'budget': 150000000,\n",
       "  'genres': [{'id': 16, 'name': 'Animation'},\n",
       "   {'id': 12, 'name': 'Adventure'},\n",
       "   {'id': 10751, 'name': 'Family'}],\n",
       "  'homepage': 'http://movies.disney.com/frozen',\n",
       "  'id': 109445,\n",
       "  'imdb_id': 'tt2294629',\n",
       "  'original_language': 'en',\n",
       "  'original_title': 'Frozen',\n",
       "  'overview': \"Young princess Anna of Arendelle dreams about finding true love at her sister Elsa’s coronation. Fate takes her on a dangerous journey in an attempt to end the eternal winter that has fallen over the kingdom. She's accompanied by ice delivery man Kristoff, his reindeer Sven, and snowman Olaf. On an adventure where she will find out what friendship, courage, family, and true love really means.\",\n",
       "  'popularity': 45.911,\n",
       "  'poster_path': '/yald8Lsb4uCRvjIH3spzR84Kdwf.jpg',\n",
       "  'production_companies': [{'id': 2,\n",
       "    'logo_path': '/wdrCwmRnLFJhEoH8GSfymY85KHT.png',\n",
       "    'name': 'Walt Disney Pictures',\n",
       "    'origin_country': 'US'},\n",
       "   {'id': 6125,\n",
       "    'logo_path': '/tVPmo07IHhBs4HuilrcV0yujsZ9.png',\n",
       "    'name': 'Walt Disney Animation Studios',\n",
       "    'origin_country': 'US'}],\n",
       "  'production_countries': [{'iso_3166_1': 'US',\n",
       "    'name': 'United States of America'}],\n",
       "  'release_date': '2013-11-27',\n",
       "  'revenue': 1274219009,\n",
       "  'runtime': 102,\n",
       "  'spoken_languages': [{'iso_639_1': 'en', 'name': 'English'}],\n",
       "  'status': 'Released',\n",
       "  'tagline': 'Only the act of true love will thaw a frozen heart.',\n",
       "  'title': 'Frozen',\n",
       "  'video': False,\n",
       "  'vote_average': 7.3,\n",
       "  'vote_count': 11616},\n",
       " {'adult': False,\n",
       "  'backdrop_path': '/7QshG75xKCmClghQDU1ta2BTaja.jpg',\n",
       "  'belongs_to_collection': None,\n",
       "  'budget': 160000000,\n",
       "  'genres': [{'id': 10751, 'name': 'Family'},\n",
       "   {'id': 14, 'name': 'Fantasy'},\n",
       "   {'id': 10749, 'name': 'Romance'}],\n",
       "  'homepage': 'http://movies.disney.com/beauty-and-the-beast-2017',\n",
       "  'id': 321612,\n",
       "  'imdb_id': 'tt2771200',\n",
       "  'original_language': 'en',\n",
       "  'original_title': 'Beauty and the Beast',\n",
       "  'overview': \"A live-action adaptation of Disney's version of the classic tale of a cursed prince and a beautiful young woman who helps him break the spell.\",\n",
       "  'popularity': 30.506,\n",
       "  'poster_path': '/tWqifoYuwLETmmasnGHO7xBjEtt.jpg',\n",
       "  'production_companies': [{'id': 2,\n",
       "    'logo_path': '/wdrCwmRnLFJhEoH8GSfymY85KHT.png',\n",
       "    'name': 'Walt Disney Pictures',\n",
       "    'origin_country': 'US'},\n",
       "   {'id': 10227,\n",
       "    'logo_path': '/3YfRy3DBl4abcqkzGx4RVNz12yl.png',\n",
       "    'name': 'Mandeville Films',\n",
       "    'origin_country': 'US'}],\n",
       "  'production_countries': [{'iso_3166_1': 'US',\n",
       "    'name': 'United States of America'}],\n",
       "  'release_date': '2017-03-16',\n",
       "  'revenue': 1263521126,\n",
       "  'runtime': 129,\n",
       "  'spoken_languages': [{'iso_639_1': 'en', 'name': 'English'},\n",
       "   {'iso_639_1': 'fr', 'name': 'Français'}],\n",
       "  'status': 'Released',\n",
       "  'tagline': 'Be our guest.',\n",
       "  'title': 'Beauty and the Beast',\n",
       "  'video': False,\n",
       "  'vote_average': 6.9,\n",
       "  'vote_count': 12203},\n",
       " {'adult': False,\n",
       "  'backdrop_path': '/mabuNsGJgRuCTuGqjFkWe1xdu19.jpg',\n",
       "  'belongs_to_collection': {'id': 468222,\n",
       "   'name': 'The Incredibles Collection',\n",
       "   'poster_path': '/l7GqbzkJwowYRIXAtUz2iCPi64a.jpg',\n",
       "   'backdrop_path': '/9eDW2dVhnzPS2HvaRdK2OlAGaLq.jpg'},\n",
       "  'budget': 200000000,\n",
       "  'genres': [{'id': 28, 'name': 'Action'},\n",
       "   {'id': 12, 'name': 'Adventure'},\n",
       "   {'id': 16, 'name': 'Animation'},\n",
       "   {'id': 10751, 'name': 'Family'}],\n",
       "  'homepage': 'https://movies.disney.com/incredibles-2',\n",
       "  'id': 260513,\n",
       "  'imdb_id': 'tt3606756',\n",
       "  'original_language': 'en',\n",
       "  'original_title': 'Incredibles 2',\n",
       "  'overview': 'Elastigirl springs into action to save the day, while Mr. Incredible faces his greatest challenge yet – taking care of the problems of his three children.',\n",
       "  'popularity': 30.701,\n",
       "  'poster_path': '/9lFKBtaVIhP7E2Pk0IY1CwTKTMZ.jpg',\n",
       "  'production_companies': [{'id': 2,\n",
       "    'logo_path': '/wdrCwmRnLFJhEoH8GSfymY85KHT.png',\n",
       "    'name': 'Walt Disney Pictures',\n",
       "    'origin_country': 'US'},\n",
       "   {'id': 3,\n",
       "    'logo_path': '/1TjvGVDMYsj6JBxOAkUHpPEwLf7.png',\n",
       "    'name': 'Pixar',\n",
       "    'origin_country': 'US'}],\n",
       "  'production_countries': [{'iso_3166_1': 'US',\n",
       "    'name': 'United States of America'}],\n",
       "  'release_date': '2018-06-14',\n",
       "  'revenue': 1241891456,\n",
       "  'runtime': 118,\n",
       "  'spoken_languages': [{'iso_639_1': 'en', 'name': 'English'}],\n",
       "  'status': 'Released',\n",
       "  'tagline': 'Back to work.',\n",
       "  'title': 'Incredibles 2',\n",
       "  'video': False,\n",
       "  'vote_average': 7.5,\n",
       "  'vote_count': 8147}]"
      ]
     },
     "execution_count": 87,
     "metadata": {},
     "output_type": "execute_result"
    }
   ],
   "source": [
    "data"
   ]
  },
  {
   "cell_type": "code",
   "execution_count": 88,
   "id": "f94a3708",
   "metadata": {},
   "outputs": [],
   "source": [
    "# Pandas json_normalize() işlevi, JSON'u bir DataFrame'e dönüştürmenin hızlı, kullanışlı ve güçlü bir yoludur."
   ]
  },
  {
   "cell_type": "code",
   "execution_count": 89,
   "id": "340b9f15",
   "metadata": {},
   "outputs": [],
   "source": [
    "df = pd.json_normalize(data, sep = \"_\")"
   ]
  },
  {
   "cell_type": "code",
   "execution_count": 90,
   "id": "006717fe",
   "metadata": {},
   "outputs": [],
   "source": [
    "# Sütunları \"sep\" kullanarak ayırdık."
   ]
  },
  {
   "cell_type": "code",
   "execution_count": 91,
   "id": "b8fd459f",
   "metadata": {},
   "outputs": [
    {
     "data": {
      "text/html": [
       "<div>\n",
       "<style scoped>\n",
       "    .dataframe tbody tr th:only-of-type {\n",
       "        vertical-align: middle;\n",
       "    }\n",
       "\n",
       "    .dataframe tbody tr th {\n",
       "        vertical-align: top;\n",
       "    }\n",
       "\n",
       "    .dataframe thead th {\n",
       "        text-align: right;\n",
       "    }\n",
       "</style>\n",
       "<table border=\"1\" class=\"dataframe\">\n",
       "  <thead>\n",
       "    <tr style=\"text-align: right;\">\n",
       "      <th></th>\n",
       "      <th>adult</th>\n",
       "      <th>backdrop_path</th>\n",
       "      <th>budget</th>\n",
       "      <th>genres</th>\n",
       "      <th>homepage</th>\n",
       "      <th>id</th>\n",
       "      <th>imdb_id</th>\n",
       "      <th>original_language</th>\n",
       "      <th>original_title</th>\n",
       "      <th>overview</th>\n",
       "      <th>...</th>\n",
       "      <th>tagline</th>\n",
       "      <th>title</th>\n",
       "      <th>video</th>\n",
       "      <th>vote_average</th>\n",
       "      <th>vote_count</th>\n",
       "      <th>belongs_to_collection_id</th>\n",
       "      <th>belongs_to_collection_name</th>\n",
       "      <th>belongs_to_collection_poster_path</th>\n",
       "      <th>belongs_to_collection_backdrop_path</th>\n",
       "      <th>belongs_to_collection</th>\n",
       "    </tr>\n",
       "  </thead>\n",
       "  <tbody>\n",
       "    <tr>\n",
       "      <th>0</th>\n",
       "      <td>False</td>\n",
       "      <td>/orjiB3oUIsyz60hoEqkiGpy5CeO.jpg</td>\n",
       "      <td>356000000</td>\n",
       "      <td>[{'id': 12, 'name': 'Adventure'}, {'id': 878, ...</td>\n",
       "      <td>https://www.marvel.com/movies/avengers-endgame</td>\n",
       "      <td>299534</td>\n",
       "      <td>tt4154796</td>\n",
       "      <td>en</td>\n",
       "      <td>Avengers: Endgame</td>\n",
       "      <td>After the devastating events of Avengers: Infi...</td>\n",
       "      <td>...</td>\n",
       "      <td>Part of the journey is the end.</td>\n",
       "      <td>Avengers: Endgame</td>\n",
       "      <td>False</td>\n",
       "      <td>8.3</td>\n",
       "      <td>12607</td>\n",
       "      <td>86311.0</td>\n",
       "      <td>The Avengers Collection</td>\n",
       "      <td>/yFSIUVTCvgYrpalUktulvk3Gi5Y.jpg</td>\n",
       "      <td>/zuW6fOiusv4X9nnW3paHGfXcSll.jpg</td>\n",
       "      <td>NaN</td>\n",
       "    </tr>\n",
       "    <tr>\n",
       "      <th>1</th>\n",
       "      <td>False</td>\n",
       "      <td>/wcC7kCICL6x6zHUlUyNp9pWoqW1.jpg</td>\n",
       "      <td>237000000</td>\n",
       "      <td>[{'id': 28, 'name': 'Action'}, {'id': 12, 'nam...</td>\n",
       "      <td>http://www.avatarmovie.com/</td>\n",
       "      <td>19995</td>\n",
       "      <td>tt0499549</td>\n",
       "      <td>en</td>\n",
       "      <td>Avatar</td>\n",
       "      <td>In the 22nd century, a paraplegic Marine is di...</td>\n",
       "      <td>...</td>\n",
       "      <td>Enter the World of Pandora.</td>\n",
       "      <td>Avatar</td>\n",
       "      <td>False</td>\n",
       "      <td>7.4</td>\n",
       "      <td>21000</td>\n",
       "      <td>87096.0</td>\n",
       "      <td>Avatar Collection</td>\n",
       "      <td>/nslJVsO58Etqkk17oXMuVK4gNOF.jpg</td>\n",
       "      <td>/8nCr9W7sKus2q9PLbYsnT7iCkuT.jpg</td>\n",
       "      <td>NaN</td>\n",
       "    </tr>\n",
       "    <tr>\n",
       "      <th>2</th>\n",
       "      <td>False</td>\n",
       "      <td>/8BTsTfln4jlQrLXUBquXJ0ASQy9.jpg</td>\n",
       "      <td>245000000</td>\n",
       "      <td>[{'id': 28, 'name': 'Action'}, {'id': 12, 'nam...</td>\n",
       "      <td>http://www.starwars.com/films/star-wars-episod...</td>\n",
       "      <td>140607</td>\n",
       "      <td>tt2488496</td>\n",
       "      <td>en</td>\n",
       "      <td>Star Wars: The Force Awakens</td>\n",
       "      <td>Thirty years after defeating the Galactic Empi...</td>\n",
       "      <td>...</td>\n",
       "      <td>Every generation has a story.</td>\n",
       "      <td>Star Wars: The Force Awakens</td>\n",
       "      <td>False</td>\n",
       "      <td>7.4</td>\n",
       "      <td>14205</td>\n",
       "      <td>10.0</td>\n",
       "      <td>Star Wars Collection</td>\n",
       "      <td>/r8Ph5MYXL04Qzu4QBbq2KjqwtkQ.jpg</td>\n",
       "      <td>/d8duYyyC9J5T825Hg7grmaabfxQ.jpg</td>\n",
       "      <td>NaN</td>\n",
       "    </tr>\n",
       "    <tr>\n",
       "      <th>3</th>\n",
       "      <td>False</td>\n",
       "      <td>/lmZFxXgJE3vgrciwuDib0N8CfQo.jpg</td>\n",
       "      <td>300000000</td>\n",
       "      <td>[{'id': 12, 'name': 'Adventure'}, {'id': 28, '...</td>\n",
       "      <td>https://www.marvel.com/movies/avengers-infinit...</td>\n",
       "      <td>299536</td>\n",
       "      <td>tt4154756</td>\n",
       "      <td>en</td>\n",
       "      <td>Avengers: Infinity War</td>\n",
       "      <td>As the Avengers and their allies have continue...</td>\n",
       "      <td>...</td>\n",
       "      <td>An entire universe. Once and for all.</td>\n",
       "      <td>Avengers: Infinity War</td>\n",
       "      <td>False</td>\n",
       "      <td>8.3</td>\n",
       "      <td>17718</td>\n",
       "      <td>86311.0</td>\n",
       "      <td>The Avengers Collection</td>\n",
       "      <td>/yFSIUVTCvgYrpalUktulvk3Gi5Y.jpg</td>\n",
       "      <td>/zuW6fOiusv4X9nnW3paHGfXcSll.jpg</td>\n",
       "      <td>NaN</td>\n",
       "    </tr>\n",
       "    <tr>\n",
       "      <th>4</th>\n",
       "      <td>False</td>\n",
       "      <td>/6VmFqApQRyZZzmiGOQq2C92jyvH.jpg</td>\n",
       "      <td>200000000</td>\n",
       "      <td>[{'id': 18, 'name': 'Drama'}, {'id': 10749, 'n...</td>\n",
       "      <td></td>\n",
       "      <td>597</td>\n",
       "      <td>tt0120338</td>\n",
       "      <td>en</td>\n",
       "      <td>Titanic</td>\n",
       "      <td>101-year-old Rose DeWitt Bukater tells the sto...</td>\n",
       "      <td>...</td>\n",
       "      <td>Nothing on Earth could come between them.</td>\n",
       "      <td>Titanic</td>\n",
       "      <td>False</td>\n",
       "      <td>7.8</td>\n",
       "      <td>16661</td>\n",
       "      <td>NaN</td>\n",
       "      <td>NaN</td>\n",
       "      <td>NaN</td>\n",
       "      <td>NaN</td>\n",
       "      <td>NaN</td>\n",
       "    </tr>\n",
       "    <tr>\n",
       "      <th>5</th>\n",
       "      <td>False</td>\n",
       "      <td>/9OywzJLgobAbSGfhMXligzTylko.jpg</td>\n",
       "      <td>150000000</td>\n",
       "      <td>[{'id': 28, 'name': 'Action'}, {'id': 12, 'nam...</td>\n",
       "      <td>http://www.jurassicworld.com/</td>\n",
       "      <td>135397</td>\n",
       "      <td>tt0369610</td>\n",
       "      <td>en</td>\n",
       "      <td>Jurassic World</td>\n",
       "      <td>Twenty-two years after the events of Jurassic ...</td>\n",
       "      <td>...</td>\n",
       "      <td>The park is open.</td>\n",
       "      <td>Jurassic World</td>\n",
       "      <td>False</td>\n",
       "      <td>6.6</td>\n",
       "      <td>15399</td>\n",
       "      <td>328.0</td>\n",
       "      <td>Jurassic Park Collection</td>\n",
       "      <td>/qIm2nHXLpBBdMxi8dvfrnDkBUDh.jpg</td>\n",
       "      <td>/njFixYzIxX8jsn6KMSEtAzi4avi.jpg</td>\n",
       "      <td>NaN</td>\n",
       "    </tr>\n",
       "    <tr>\n",
       "      <th>6</th>\n",
       "      <td>False</td>\n",
       "      <td>/nRXO2SnOA75OsWhNhXstHB8ZmI3.jpg</td>\n",
       "      <td>260000000</td>\n",
       "      <td>[{'id': 12, 'name': 'Adventure'}, {'id': 10751...</td>\n",
       "      <td>https://movies.disney.com/the-lion-king-2019</td>\n",
       "      <td>420818</td>\n",
       "      <td>tt6105098</td>\n",
       "      <td>en</td>\n",
       "      <td>The Lion King</td>\n",
       "      <td>Simba idolizes his father, King Mufasa, and ta...</td>\n",
       "      <td>...</td>\n",
       "      <td>The King has Returned.</td>\n",
       "      <td>The Lion King</td>\n",
       "      <td>False</td>\n",
       "      <td>7.2</td>\n",
       "      <td>5425</td>\n",
       "      <td>NaN</td>\n",
       "      <td>NaN</td>\n",
       "      <td>NaN</td>\n",
       "      <td>NaN</td>\n",
       "      <td>NaN</td>\n",
       "    </tr>\n",
       "    <tr>\n",
       "      <th>7</th>\n",
       "      <td>False</td>\n",
       "      <td>/v3A0T4fAz8xRugAkfUVkxGLd377.jpg</td>\n",
       "      <td>220000000</td>\n",
       "      <td>[{'id': 878, 'name': 'Science Fiction'}, {'id'...</td>\n",
       "      <td>http://marvel.com/avengers_movie/</td>\n",
       "      <td>24428</td>\n",
       "      <td>tt0848228</td>\n",
       "      <td>en</td>\n",
       "      <td>The Avengers</td>\n",
       "      <td>When an unexpected enemy emerges and threatens...</td>\n",
       "      <td>...</td>\n",
       "      <td>Some assembly required.</td>\n",
       "      <td>The Avengers</td>\n",
       "      <td>False</td>\n",
       "      <td>7.7</td>\n",
       "      <td>22101</td>\n",
       "      <td>86311.0</td>\n",
       "      <td>The Avengers Collection</td>\n",
       "      <td>/yFSIUVTCvgYrpalUktulvk3Gi5Y.jpg</td>\n",
       "      <td>/zuW6fOiusv4X9nnW3paHGfXcSll.jpg</td>\n",
       "      <td>NaN</td>\n",
       "    </tr>\n",
       "    <tr>\n",
       "      <th>8</th>\n",
       "      <td>False</td>\n",
       "      <td>/7X6zOOEzXTQJkzDgBHVly1BgyYu.jpg</td>\n",
       "      <td>190000000</td>\n",
       "      <td>[{'id': 28, 'name': 'Action'}, {'id': 53, 'nam...</td>\n",
       "      <td>http://www.furious7.com/</td>\n",
       "      <td>168259</td>\n",
       "      <td>tt2820852</td>\n",
       "      <td>en</td>\n",
       "      <td>Furious 7</td>\n",
       "      <td>Deckard Shaw seeks revenge against Dominic Tor...</td>\n",
       "      <td>...</td>\n",
       "      <td>Vengeance Hits Home</td>\n",
       "      <td>Furious 7</td>\n",
       "      <td>False</td>\n",
       "      <td>7.3</td>\n",
       "      <td>7359</td>\n",
       "      <td>9485.0</td>\n",
       "      <td>The Fast and the Furious Collection</td>\n",
       "      <td>/uv63yAGg1zETAs1XQsOQpava87l.jpg</td>\n",
       "      <td>/z5A5W3WYJc3UVEWljSGwdjDgQ0j.jpg</td>\n",
       "      <td>NaN</td>\n",
       "    </tr>\n",
       "    <tr>\n",
       "      <th>9</th>\n",
       "      <td>False</td>\n",
       "      <td>/4zmNJNQkugbalqJLnKp0wnlp8i3.jpg</td>\n",
       "      <td>250000000</td>\n",
       "      <td>[{'id': 28, 'name': 'Action'}, {'id': 12, 'nam...</td>\n",
       "      <td>http://marvel.com/movies/movie/193/avengers_ag...</td>\n",
       "      <td>99861</td>\n",
       "      <td>tt2395427</td>\n",
       "      <td>en</td>\n",
       "      <td>Avengers: Age of Ultron</td>\n",
       "      <td>When Tony Stark tries to jumpstart a dormant p...</td>\n",
       "      <td>...</td>\n",
       "      <td>A New Age Has Come.</td>\n",
       "      <td>Avengers: Age of Ultron</td>\n",
       "      <td>False</td>\n",
       "      <td>7.3</td>\n",
       "      <td>15548</td>\n",
       "      <td>86311.0</td>\n",
       "      <td>The Avengers Collection</td>\n",
       "      <td>/yFSIUVTCvgYrpalUktulvk3Gi5Y.jpg</td>\n",
       "      <td>/zuW6fOiusv4X9nnW3paHGfXcSll.jpg</td>\n",
       "      <td>NaN</td>\n",
       "    </tr>\n",
       "    <tr>\n",
       "      <th>10</th>\n",
       "      <td>False</td>\n",
       "      <td>/6ELJEzQJ3Y45HczvreC3dg0GV5R.jpg</td>\n",
       "      <td>200000000</td>\n",
       "      <td>[{'id': 28, 'name': 'Action'}, {'id': 12, 'nam...</td>\n",
       "      <td>https://marvel.com/movies/movie/224/black_panther</td>\n",
       "      <td>284054</td>\n",
       "      <td>tt1825683</td>\n",
       "      <td>en</td>\n",
       "      <td>Black Panther</td>\n",
       "      <td>King T'Challa returns home from America to the...</td>\n",
       "      <td>...</td>\n",
       "      <td>Long live the king.</td>\n",
       "      <td>Black Panther</td>\n",
       "      <td>False</td>\n",
       "      <td>7.4</td>\n",
       "      <td>14830</td>\n",
       "      <td>529892.0</td>\n",
       "      <td>Black Panther Collection</td>\n",
       "      <td>/9ZSPIsxI3TZDgfg0Jzk0RZl4INg.jpg</td>\n",
       "      <td>/1Jj7Frjjbewb6Q6dl6YXhL3kuvL.jpg</td>\n",
       "      <td>NaN</td>\n",
       "    </tr>\n",
       "    <tr>\n",
       "      <th>11</th>\n",
       "      <td>False</td>\n",
       "      <td>/n5A7brJCjejceZmHyujwUTVgQNC.jpg</td>\n",
       "      <td>125000000</td>\n",
       "      <td>[{'id': 14, 'name': 'Fantasy'}, {'id': 12, 'na...</td>\n",
       "      <td>https://www.warnerbros.com/movies/harry-potter...</td>\n",
       "      <td>12445</td>\n",
       "      <td>tt1201607</td>\n",
       "      <td>en</td>\n",
       "      <td>Harry Potter and the Deathly Hallows: Part 2</td>\n",
       "      <td>Harry, Ron and Hermione continue their quest t...</td>\n",
       "      <td>...</td>\n",
       "      <td>It all ends here.</td>\n",
       "      <td>Harry Potter and the Deathly Hallows: Part 2</td>\n",
       "      <td>False</td>\n",
       "      <td>8.1</td>\n",
       "      <td>13447</td>\n",
       "      <td>1241.0</td>\n",
       "      <td>Harry Potter Collection</td>\n",
       "      <td>/eVPs2Y0LyvTLZn6AP5Z6O2rtiGB.jpg</td>\n",
       "      <td>/wfnMt6LGqYHcNyOfsuusw5lX3bL.jpg</td>\n",
       "      <td>NaN</td>\n",
       "    </tr>\n",
       "    <tr>\n",
       "      <th>12</th>\n",
       "      <td>False</td>\n",
       "      <td>/5Iw7zQTHVRBOYpA0V6z0yypOPZh.jpg</td>\n",
       "      <td>200000000</td>\n",
       "      <td>[{'id': 878, 'name': 'Science Fiction'}, {'id'...</td>\n",
       "      <td>https://www.starwars.com/films/star-wars-episo...</td>\n",
       "      <td>181808</td>\n",
       "      <td>tt2527336</td>\n",
       "      <td>en</td>\n",
       "      <td>Star Wars: The Last Jedi</td>\n",
       "      <td>Rey develops her newly discovered abilities wi...</td>\n",
       "      <td>...</td>\n",
       "      <td>Darkness rises... and light to meet it</td>\n",
       "      <td>Star Wars: The Last Jedi</td>\n",
       "      <td>False</td>\n",
       "      <td>7.0</td>\n",
       "      <td>10304</td>\n",
       "      <td>10.0</td>\n",
       "      <td>Star Wars Collection</td>\n",
       "      <td>/r8Ph5MYXL04Qzu4QBbq2KjqwtkQ.jpg</td>\n",
       "      <td>/d8duYyyC9J5T825Hg7grmaabfxQ.jpg</td>\n",
       "      <td>NaN</td>\n",
       "    </tr>\n",
       "    <tr>\n",
       "      <th>13</th>\n",
       "      <td>False</td>\n",
       "      <td>/xJWPZIYOEFIjZpBL7SVBGnzRYXp.jpg</td>\n",
       "      <td>150000000</td>\n",
       "      <td>[{'id': 16, 'name': 'Animation'}, {'id': 10751...</td>\n",
       "      <td>https://movies.disney.com/frozen-2</td>\n",
       "      <td>330457</td>\n",
       "      <td>tt4520988</td>\n",
       "      <td>en</td>\n",
       "      <td>Frozen II</td>\n",
       "      <td>Elsa, Anna, Kristoff and Olaf head far into th...</td>\n",
       "      <td>...</td>\n",
       "      <td>The past is not what it seems.</td>\n",
       "      <td>Frozen II</td>\n",
       "      <td>False</td>\n",
       "      <td>7.2</td>\n",
       "      <td>3982</td>\n",
       "      <td>386382.0</td>\n",
       "      <td>Frozen Collection</td>\n",
       "      <td>/rpoXnE9UzCbjmINhxIi8bZF557B.jpg</td>\n",
       "      <td>/k21wXgC9AVnKoHW1lRPS0UUGCZ4.jpg</td>\n",
       "      <td>NaN</td>\n",
       "    </tr>\n",
       "    <tr>\n",
       "      <th>14</th>\n",
       "      <td>False</td>\n",
       "      <td>/3s9O5af2xWKWR5JzP2iJZpZeQQg.jpg</td>\n",
       "      <td>170000000</td>\n",
       "      <td>[{'id': 28, 'name': 'Action'}, {'id': 12, 'nam...</td>\n",
       "      <td>http://www.jurassicworld.com</td>\n",
       "      <td>351286</td>\n",
       "      <td>tt4881806</td>\n",
       "      <td>en</td>\n",
       "      <td>Jurassic World: Fallen Kingdom</td>\n",
       "      <td>Three years after the demise of Jurassic World...</td>\n",
       "      <td>...</td>\n",
       "      <td>The park is gone</td>\n",
       "      <td>Jurassic World: Fallen Kingdom</td>\n",
       "      <td>False</td>\n",
       "      <td>6.5</td>\n",
       "      <td>7337</td>\n",
       "      <td>328.0</td>\n",
       "      <td>Jurassic Park Collection</td>\n",
       "      <td>/qIm2nHXLpBBdMxi8dvfrnDkBUDh.jpg</td>\n",
       "      <td>/njFixYzIxX8jsn6KMSEtAzi4avi.jpg</td>\n",
       "      <td>NaN</td>\n",
       "    </tr>\n",
       "    <tr>\n",
       "      <th>15</th>\n",
       "      <td>False</td>\n",
       "      <td>/fydUcbkqLyESCFa9U5XKqi8dIVj.jpg</td>\n",
       "      <td>150000000</td>\n",
       "      <td>[{'id': 16, 'name': 'Animation'}, {'id': 12, '...</td>\n",
       "      <td>http://movies.disney.com/frozen</td>\n",
       "      <td>109445</td>\n",
       "      <td>tt2294629</td>\n",
       "      <td>en</td>\n",
       "      <td>Frozen</td>\n",
       "      <td>Young princess Anna of Arendelle dreams about ...</td>\n",
       "      <td>...</td>\n",
       "      <td>Only the act of true love will thaw a frozen h...</td>\n",
       "      <td>Frozen</td>\n",
       "      <td>False</td>\n",
       "      <td>7.3</td>\n",
       "      <td>11616</td>\n",
       "      <td>386382.0</td>\n",
       "      <td>Frozen Collection</td>\n",
       "      <td>/rpoXnE9UzCbjmINhxIi8bZF557B.jpg</td>\n",
       "      <td>/k21wXgC9AVnKoHW1lRPS0UUGCZ4.jpg</td>\n",
       "      <td>NaN</td>\n",
       "    </tr>\n",
       "    <tr>\n",
       "      <th>16</th>\n",
       "      <td>False</td>\n",
       "      <td>/7QshG75xKCmClghQDU1ta2BTaja.jpg</td>\n",
       "      <td>160000000</td>\n",
       "      <td>[{'id': 10751, 'name': 'Family'}, {'id': 14, '...</td>\n",
       "      <td>http://movies.disney.com/beauty-and-the-beast-...</td>\n",
       "      <td>321612</td>\n",
       "      <td>tt2771200</td>\n",
       "      <td>en</td>\n",
       "      <td>Beauty and the Beast</td>\n",
       "      <td>A live-action adaptation of Disney's version o...</td>\n",
       "      <td>...</td>\n",
       "      <td>Be our guest.</td>\n",
       "      <td>Beauty and the Beast</td>\n",
       "      <td>False</td>\n",
       "      <td>6.9</td>\n",
       "      <td>12203</td>\n",
       "      <td>NaN</td>\n",
       "      <td>NaN</td>\n",
       "      <td>NaN</td>\n",
       "      <td>NaN</td>\n",
       "      <td>NaN</td>\n",
       "    </tr>\n",
       "    <tr>\n",
       "      <th>17</th>\n",
       "      <td>False</td>\n",
       "      <td>/mabuNsGJgRuCTuGqjFkWe1xdu19.jpg</td>\n",
       "      <td>200000000</td>\n",
       "      <td>[{'id': 28, 'name': 'Action'}, {'id': 12, 'nam...</td>\n",
       "      <td>https://movies.disney.com/incredibles-2</td>\n",
       "      <td>260513</td>\n",
       "      <td>tt3606756</td>\n",
       "      <td>en</td>\n",
       "      <td>Incredibles 2</td>\n",
       "      <td>Elastigirl springs into action to save the day...</td>\n",
       "      <td>...</td>\n",
       "      <td>Back to work.</td>\n",
       "      <td>Incredibles 2</td>\n",
       "      <td>False</td>\n",
       "      <td>7.5</td>\n",
       "      <td>8147</td>\n",
       "      <td>468222.0</td>\n",
       "      <td>The Incredibles Collection</td>\n",
       "      <td>/l7GqbzkJwowYRIXAtUz2iCPi64a.jpg</td>\n",
       "      <td>/9eDW2dVhnzPS2HvaRdK2OlAGaLq.jpg</td>\n",
       "      <td>NaN</td>\n",
       "    </tr>\n",
       "  </tbody>\n",
       "</table>\n",
       "<p>18 rows × 29 columns</p>\n",
       "</div>"
      ],
      "text/plain": [
       "    adult                     backdrop_path     budget  \\\n",
       "0   False  /orjiB3oUIsyz60hoEqkiGpy5CeO.jpg  356000000   \n",
       "1   False  /wcC7kCICL6x6zHUlUyNp9pWoqW1.jpg  237000000   \n",
       "2   False  /8BTsTfln4jlQrLXUBquXJ0ASQy9.jpg  245000000   \n",
       "3   False  /lmZFxXgJE3vgrciwuDib0N8CfQo.jpg  300000000   \n",
       "4   False  /6VmFqApQRyZZzmiGOQq2C92jyvH.jpg  200000000   \n",
       "5   False  /9OywzJLgobAbSGfhMXligzTylko.jpg  150000000   \n",
       "6   False  /nRXO2SnOA75OsWhNhXstHB8ZmI3.jpg  260000000   \n",
       "7   False  /v3A0T4fAz8xRugAkfUVkxGLd377.jpg  220000000   \n",
       "8   False  /7X6zOOEzXTQJkzDgBHVly1BgyYu.jpg  190000000   \n",
       "9   False  /4zmNJNQkugbalqJLnKp0wnlp8i3.jpg  250000000   \n",
       "10  False  /6ELJEzQJ3Y45HczvreC3dg0GV5R.jpg  200000000   \n",
       "11  False  /n5A7brJCjejceZmHyujwUTVgQNC.jpg  125000000   \n",
       "12  False  /5Iw7zQTHVRBOYpA0V6z0yypOPZh.jpg  200000000   \n",
       "13  False  /xJWPZIYOEFIjZpBL7SVBGnzRYXp.jpg  150000000   \n",
       "14  False  /3s9O5af2xWKWR5JzP2iJZpZeQQg.jpg  170000000   \n",
       "15  False  /fydUcbkqLyESCFa9U5XKqi8dIVj.jpg  150000000   \n",
       "16  False  /7QshG75xKCmClghQDU1ta2BTaja.jpg  160000000   \n",
       "17  False  /mabuNsGJgRuCTuGqjFkWe1xdu19.jpg  200000000   \n",
       "\n",
       "                                               genres  \\\n",
       "0   [{'id': 12, 'name': 'Adventure'}, {'id': 878, ...   \n",
       "1   [{'id': 28, 'name': 'Action'}, {'id': 12, 'nam...   \n",
       "2   [{'id': 28, 'name': 'Action'}, {'id': 12, 'nam...   \n",
       "3   [{'id': 12, 'name': 'Adventure'}, {'id': 28, '...   \n",
       "4   [{'id': 18, 'name': 'Drama'}, {'id': 10749, 'n...   \n",
       "5   [{'id': 28, 'name': 'Action'}, {'id': 12, 'nam...   \n",
       "6   [{'id': 12, 'name': 'Adventure'}, {'id': 10751...   \n",
       "7   [{'id': 878, 'name': 'Science Fiction'}, {'id'...   \n",
       "8   [{'id': 28, 'name': 'Action'}, {'id': 53, 'nam...   \n",
       "9   [{'id': 28, 'name': 'Action'}, {'id': 12, 'nam...   \n",
       "10  [{'id': 28, 'name': 'Action'}, {'id': 12, 'nam...   \n",
       "11  [{'id': 14, 'name': 'Fantasy'}, {'id': 12, 'na...   \n",
       "12  [{'id': 878, 'name': 'Science Fiction'}, {'id'...   \n",
       "13  [{'id': 16, 'name': 'Animation'}, {'id': 10751...   \n",
       "14  [{'id': 28, 'name': 'Action'}, {'id': 12, 'nam...   \n",
       "15  [{'id': 16, 'name': 'Animation'}, {'id': 12, '...   \n",
       "16  [{'id': 10751, 'name': 'Family'}, {'id': 14, '...   \n",
       "17  [{'id': 28, 'name': 'Action'}, {'id': 12, 'nam...   \n",
       "\n",
       "                                             homepage      id    imdb_id  \\\n",
       "0      https://www.marvel.com/movies/avengers-endgame  299534  tt4154796   \n",
       "1                         http://www.avatarmovie.com/   19995  tt0499549   \n",
       "2   http://www.starwars.com/films/star-wars-episod...  140607  tt2488496   \n",
       "3   https://www.marvel.com/movies/avengers-infinit...  299536  tt4154756   \n",
       "4                                                         597  tt0120338   \n",
       "5                       http://www.jurassicworld.com/  135397  tt0369610   \n",
       "6        https://movies.disney.com/the-lion-king-2019  420818  tt6105098   \n",
       "7                   http://marvel.com/avengers_movie/   24428  tt0848228   \n",
       "8                            http://www.furious7.com/  168259  tt2820852   \n",
       "9   http://marvel.com/movies/movie/193/avengers_ag...   99861  tt2395427   \n",
       "10  https://marvel.com/movies/movie/224/black_panther  284054  tt1825683   \n",
       "11  https://www.warnerbros.com/movies/harry-potter...   12445  tt1201607   \n",
       "12  https://www.starwars.com/films/star-wars-episo...  181808  tt2527336   \n",
       "13                 https://movies.disney.com/frozen-2  330457  tt4520988   \n",
       "14                       http://www.jurassicworld.com  351286  tt4881806   \n",
       "15                    http://movies.disney.com/frozen  109445  tt2294629   \n",
       "16  http://movies.disney.com/beauty-and-the-beast-...  321612  tt2771200   \n",
       "17            https://movies.disney.com/incredibles-2  260513  tt3606756   \n",
       "\n",
       "   original_language                                original_title  \\\n",
       "0                 en                             Avengers: Endgame   \n",
       "1                 en                                        Avatar   \n",
       "2                 en                  Star Wars: The Force Awakens   \n",
       "3                 en                        Avengers: Infinity War   \n",
       "4                 en                                       Titanic   \n",
       "5                 en                                Jurassic World   \n",
       "6                 en                                 The Lion King   \n",
       "7                 en                                  The Avengers   \n",
       "8                 en                                     Furious 7   \n",
       "9                 en                       Avengers: Age of Ultron   \n",
       "10                en                                 Black Panther   \n",
       "11                en  Harry Potter and the Deathly Hallows: Part 2   \n",
       "12                en                      Star Wars: The Last Jedi   \n",
       "13                en                                     Frozen II   \n",
       "14                en                Jurassic World: Fallen Kingdom   \n",
       "15                en                                        Frozen   \n",
       "16                en                          Beauty and the Beast   \n",
       "17                en                                 Incredibles 2   \n",
       "\n",
       "                                             overview  ...  \\\n",
       "0   After the devastating events of Avengers: Infi...  ...   \n",
       "1   In the 22nd century, a paraplegic Marine is di...  ...   \n",
       "2   Thirty years after defeating the Galactic Empi...  ...   \n",
       "3   As the Avengers and their allies have continue...  ...   \n",
       "4   101-year-old Rose DeWitt Bukater tells the sto...  ...   \n",
       "5   Twenty-two years after the events of Jurassic ...  ...   \n",
       "6   Simba idolizes his father, King Mufasa, and ta...  ...   \n",
       "7   When an unexpected enemy emerges and threatens...  ...   \n",
       "8   Deckard Shaw seeks revenge against Dominic Tor...  ...   \n",
       "9   When Tony Stark tries to jumpstart a dormant p...  ...   \n",
       "10  King T'Challa returns home from America to the...  ...   \n",
       "11  Harry, Ron and Hermione continue their quest t...  ...   \n",
       "12  Rey develops her newly discovered abilities wi...  ...   \n",
       "13  Elsa, Anna, Kristoff and Olaf head far into th...  ...   \n",
       "14  Three years after the demise of Jurassic World...  ...   \n",
       "15  Young princess Anna of Arendelle dreams about ...  ...   \n",
       "16  A live-action adaptation of Disney's version o...  ...   \n",
       "17  Elastigirl springs into action to save the day...  ...   \n",
       "\n",
       "                                              tagline  \\\n",
       "0                     Part of the journey is the end.   \n",
       "1                         Enter the World of Pandora.   \n",
       "2                       Every generation has a story.   \n",
       "3               An entire universe. Once and for all.   \n",
       "4           Nothing on Earth could come between them.   \n",
       "5                                   The park is open.   \n",
       "6                              The King has Returned.   \n",
       "7                             Some assembly required.   \n",
       "8                                 Vengeance Hits Home   \n",
       "9                                 A New Age Has Come.   \n",
       "10                                Long live the king.   \n",
       "11                                  It all ends here.   \n",
       "12             Darkness rises... and light to meet it   \n",
       "13                     The past is not what it seems.   \n",
       "14                                   The park is gone   \n",
       "15  Only the act of true love will thaw a frozen h...   \n",
       "16                                      Be our guest.   \n",
       "17                                      Back to work.   \n",
       "\n",
       "                                           title  video vote_average  \\\n",
       "0                              Avengers: Endgame  False          8.3   \n",
       "1                                         Avatar  False          7.4   \n",
       "2                   Star Wars: The Force Awakens  False          7.4   \n",
       "3                         Avengers: Infinity War  False          8.3   \n",
       "4                                        Titanic  False          7.8   \n",
       "5                                 Jurassic World  False          6.6   \n",
       "6                                  The Lion King  False          7.2   \n",
       "7                                   The Avengers  False          7.7   \n",
       "8                                      Furious 7  False          7.3   \n",
       "9                        Avengers: Age of Ultron  False          7.3   \n",
       "10                                 Black Panther  False          7.4   \n",
       "11  Harry Potter and the Deathly Hallows: Part 2  False          8.1   \n",
       "12                      Star Wars: The Last Jedi  False          7.0   \n",
       "13                                     Frozen II  False          7.2   \n",
       "14                Jurassic World: Fallen Kingdom  False          6.5   \n",
       "15                                        Frozen  False          7.3   \n",
       "16                          Beauty and the Beast  False          6.9   \n",
       "17                                 Incredibles 2  False          7.5   \n",
       "\n",
       "   vote_count  belongs_to_collection_id           belongs_to_collection_name  \\\n",
       "0       12607                   86311.0              The Avengers Collection   \n",
       "1       21000                   87096.0                    Avatar Collection   \n",
       "2       14205                      10.0                 Star Wars Collection   \n",
       "3       17718                   86311.0              The Avengers Collection   \n",
       "4       16661                       NaN                                  NaN   \n",
       "5       15399                     328.0             Jurassic Park Collection   \n",
       "6        5425                       NaN                                  NaN   \n",
       "7       22101                   86311.0              The Avengers Collection   \n",
       "8        7359                    9485.0  The Fast and the Furious Collection   \n",
       "9       15548                   86311.0              The Avengers Collection   \n",
       "10      14830                  529892.0             Black Panther Collection   \n",
       "11      13447                    1241.0              Harry Potter Collection   \n",
       "12      10304                      10.0                 Star Wars Collection   \n",
       "13       3982                  386382.0                    Frozen Collection   \n",
       "14       7337                     328.0             Jurassic Park Collection   \n",
       "15      11616                  386382.0                    Frozen Collection   \n",
       "16      12203                       NaN                                  NaN   \n",
       "17       8147                  468222.0           The Incredibles Collection   \n",
       "\n",
       "   belongs_to_collection_poster_path belongs_to_collection_backdrop_path  \\\n",
       "0   /yFSIUVTCvgYrpalUktulvk3Gi5Y.jpg    /zuW6fOiusv4X9nnW3paHGfXcSll.jpg   \n",
       "1   /nslJVsO58Etqkk17oXMuVK4gNOF.jpg    /8nCr9W7sKus2q9PLbYsnT7iCkuT.jpg   \n",
       "2   /r8Ph5MYXL04Qzu4QBbq2KjqwtkQ.jpg    /d8duYyyC9J5T825Hg7grmaabfxQ.jpg   \n",
       "3   /yFSIUVTCvgYrpalUktulvk3Gi5Y.jpg    /zuW6fOiusv4X9nnW3paHGfXcSll.jpg   \n",
       "4                                NaN                                 NaN   \n",
       "5   /qIm2nHXLpBBdMxi8dvfrnDkBUDh.jpg    /njFixYzIxX8jsn6KMSEtAzi4avi.jpg   \n",
       "6                                NaN                                 NaN   \n",
       "7   /yFSIUVTCvgYrpalUktulvk3Gi5Y.jpg    /zuW6fOiusv4X9nnW3paHGfXcSll.jpg   \n",
       "8   /uv63yAGg1zETAs1XQsOQpava87l.jpg    /z5A5W3WYJc3UVEWljSGwdjDgQ0j.jpg   \n",
       "9   /yFSIUVTCvgYrpalUktulvk3Gi5Y.jpg    /zuW6fOiusv4X9nnW3paHGfXcSll.jpg   \n",
       "10  /9ZSPIsxI3TZDgfg0Jzk0RZl4INg.jpg    /1Jj7Frjjbewb6Q6dl6YXhL3kuvL.jpg   \n",
       "11  /eVPs2Y0LyvTLZn6AP5Z6O2rtiGB.jpg    /wfnMt6LGqYHcNyOfsuusw5lX3bL.jpg   \n",
       "12  /r8Ph5MYXL04Qzu4QBbq2KjqwtkQ.jpg    /d8duYyyC9J5T825Hg7grmaabfxQ.jpg   \n",
       "13  /rpoXnE9UzCbjmINhxIi8bZF557B.jpg    /k21wXgC9AVnKoHW1lRPS0UUGCZ4.jpg   \n",
       "14  /qIm2nHXLpBBdMxi8dvfrnDkBUDh.jpg    /njFixYzIxX8jsn6KMSEtAzi4avi.jpg   \n",
       "15  /rpoXnE9UzCbjmINhxIi8bZF557B.jpg    /k21wXgC9AVnKoHW1lRPS0UUGCZ4.jpg   \n",
       "16                               NaN                                 NaN   \n",
       "17  /l7GqbzkJwowYRIXAtUz2iCPi64a.jpg    /9eDW2dVhnzPS2HvaRdK2OlAGaLq.jpg   \n",
       "\n",
       "   belongs_to_collection  \n",
       "0                    NaN  \n",
       "1                    NaN  \n",
       "2                    NaN  \n",
       "3                    NaN  \n",
       "4                    NaN  \n",
       "5                    NaN  \n",
       "6                    NaN  \n",
       "7                    NaN  \n",
       "8                    NaN  \n",
       "9                    NaN  \n",
       "10                   NaN  \n",
       "11                   NaN  \n",
       "12                   NaN  \n",
       "13                   NaN  \n",
       "14                   NaN  \n",
       "15                   NaN  \n",
       "16                   NaN  \n",
       "17                   NaN  \n",
       "\n",
       "[18 rows x 29 columns]"
      ]
     },
     "execution_count": 91,
     "metadata": {},
     "output_type": "execute_result"
    }
   ],
   "source": [
    "df"
   ]
  },
  {
   "cell_type": "code",
   "execution_count": 92,
   "id": "a7b54549",
   "metadata": {},
   "outputs": [],
   "source": [
    "#Şimdi id, title, revenue, budget,belongs to collection the name ,release date gibi en önemli özellikleri içeren bir dataframe oluşturalım."
   ]
  },
  {
   "cell_type": "code",
   "execution_count": 93,
   "id": "c18fbf9f",
   "metadata": {},
   "outputs": [],
   "source": [
    "## DataFrame ve movies için kaydediyoruz."
   ]
  },
  {
   "cell_type": "code",
   "execution_count": 94,
   "id": "01a58107",
   "metadata": {},
   "outputs": [
    {
     "data": {
      "text/html": [
       "<div>\n",
       "<style scoped>\n",
       "    .dataframe tbody tr th:only-of-type {\n",
       "        vertical-align: middle;\n",
       "    }\n",
       "\n",
       "    .dataframe tbody tr th {\n",
       "        vertical-align: top;\n",
       "    }\n",
       "\n",
       "    .dataframe thead th {\n",
       "        text-align: right;\n",
       "    }\n",
       "</style>\n",
       "<table border=\"1\" class=\"dataframe\">\n",
       "  <thead>\n",
       "    <tr style=\"text-align: right;\">\n",
       "      <th></th>\n",
       "      <th>id</th>\n",
       "      <th>title</th>\n",
       "      <th>revenue</th>\n",
       "      <th>budget</th>\n",
       "      <th>belongs_to_collection_name</th>\n",
       "      <th>release_date</th>\n",
       "    </tr>\n",
       "  </thead>\n",
       "  <tbody>\n",
       "    <tr>\n",
       "      <th>0</th>\n",
       "      <td>299534</td>\n",
       "      <td>Avengers: Endgame</td>\n",
       "      <td>2797800564</td>\n",
       "      <td>356000000</td>\n",
       "      <td>The Avengers Collection</td>\n",
       "      <td>2019-04-24</td>\n",
       "    </tr>\n",
       "    <tr>\n",
       "      <th>1</th>\n",
       "      <td>19995</td>\n",
       "      <td>Avatar</td>\n",
       "      <td>2787965087</td>\n",
       "      <td>237000000</td>\n",
       "      <td>Avatar Collection</td>\n",
       "      <td>2009-12-10</td>\n",
       "    </tr>\n",
       "    <tr>\n",
       "      <th>2</th>\n",
       "      <td>140607</td>\n",
       "      <td>Star Wars: The Force Awakens</td>\n",
       "      <td>2068223624</td>\n",
       "      <td>245000000</td>\n",
       "      <td>Star Wars Collection</td>\n",
       "      <td>2015-12-15</td>\n",
       "    </tr>\n",
       "    <tr>\n",
       "      <th>3</th>\n",
       "      <td>299536</td>\n",
       "      <td>Avengers: Infinity War</td>\n",
       "      <td>2046239637</td>\n",
       "      <td>300000000</td>\n",
       "      <td>The Avengers Collection</td>\n",
       "      <td>2018-04-25</td>\n",
       "    </tr>\n",
       "    <tr>\n",
       "      <th>4</th>\n",
       "      <td>597</td>\n",
       "      <td>Titanic</td>\n",
       "      <td>1845034188</td>\n",
       "      <td>200000000</td>\n",
       "      <td>NaN</td>\n",
       "      <td>1997-11-18</td>\n",
       "    </tr>\n",
       "    <tr>\n",
       "      <th>5</th>\n",
       "      <td>135397</td>\n",
       "      <td>Jurassic World</td>\n",
       "      <td>1671713208</td>\n",
       "      <td>150000000</td>\n",
       "      <td>Jurassic Park Collection</td>\n",
       "      <td>2015-06-06</td>\n",
       "    </tr>\n",
       "    <tr>\n",
       "      <th>6</th>\n",
       "      <td>420818</td>\n",
       "      <td>The Lion King</td>\n",
       "      <td>1656943394</td>\n",
       "      <td>260000000</td>\n",
       "      <td>NaN</td>\n",
       "      <td>2019-07-12</td>\n",
       "    </tr>\n",
       "    <tr>\n",
       "      <th>7</th>\n",
       "      <td>24428</td>\n",
       "      <td>The Avengers</td>\n",
       "      <td>1519557910</td>\n",
       "      <td>220000000</td>\n",
       "      <td>The Avengers Collection</td>\n",
       "      <td>2012-04-25</td>\n",
       "    </tr>\n",
       "    <tr>\n",
       "      <th>8</th>\n",
       "      <td>168259</td>\n",
       "      <td>Furious 7</td>\n",
       "      <td>1515047671</td>\n",
       "      <td>190000000</td>\n",
       "      <td>The Fast and the Furious Collection</td>\n",
       "      <td>2015-04-01</td>\n",
       "    </tr>\n",
       "    <tr>\n",
       "      <th>9</th>\n",
       "      <td>99861</td>\n",
       "      <td>Avengers: Age of Ultron</td>\n",
       "      <td>1405403694</td>\n",
       "      <td>250000000</td>\n",
       "      <td>The Avengers Collection</td>\n",
       "      <td>2015-04-22</td>\n",
       "    </tr>\n",
       "    <tr>\n",
       "      <th>10</th>\n",
       "      <td>284054</td>\n",
       "      <td>Black Panther</td>\n",
       "      <td>1346739107</td>\n",
       "      <td>200000000</td>\n",
       "      <td>Black Panther Collection</td>\n",
       "      <td>2018-02-13</td>\n",
       "    </tr>\n",
       "    <tr>\n",
       "      <th>11</th>\n",
       "      <td>12445</td>\n",
       "      <td>Harry Potter and the Deathly Hallows: Part 2</td>\n",
       "      <td>1341511219</td>\n",
       "      <td>125000000</td>\n",
       "      <td>Harry Potter Collection</td>\n",
       "      <td>2011-07-07</td>\n",
       "    </tr>\n",
       "    <tr>\n",
       "      <th>12</th>\n",
       "      <td>181808</td>\n",
       "      <td>Star Wars: The Last Jedi</td>\n",
       "      <td>1332539889</td>\n",
       "      <td>200000000</td>\n",
       "      <td>Star Wars Collection</td>\n",
       "      <td>2017-12-13</td>\n",
       "    </tr>\n",
       "    <tr>\n",
       "      <th>13</th>\n",
       "      <td>330457</td>\n",
       "      <td>Frozen II</td>\n",
       "      <td>1330764959</td>\n",
       "      <td>150000000</td>\n",
       "      <td>Frozen Collection</td>\n",
       "      <td>2019-11-20</td>\n",
       "    </tr>\n",
       "    <tr>\n",
       "      <th>14</th>\n",
       "      <td>351286</td>\n",
       "      <td>Jurassic World: Fallen Kingdom</td>\n",
       "      <td>1303459585</td>\n",
       "      <td>170000000</td>\n",
       "      <td>Jurassic Park Collection</td>\n",
       "      <td>2018-06-06</td>\n",
       "    </tr>\n",
       "    <tr>\n",
       "      <th>15</th>\n",
       "      <td>109445</td>\n",
       "      <td>Frozen</td>\n",
       "      <td>1274219009</td>\n",
       "      <td>150000000</td>\n",
       "      <td>Frozen Collection</td>\n",
       "      <td>2013-11-27</td>\n",
       "    </tr>\n",
       "    <tr>\n",
       "      <th>16</th>\n",
       "      <td>321612</td>\n",
       "      <td>Beauty and the Beast</td>\n",
       "      <td>1263521126</td>\n",
       "      <td>160000000</td>\n",
       "      <td>NaN</td>\n",
       "      <td>2017-03-16</td>\n",
       "    </tr>\n",
       "    <tr>\n",
       "      <th>17</th>\n",
       "      <td>260513</td>\n",
       "      <td>Incredibles 2</td>\n",
       "      <td>1241891456</td>\n",
       "      <td>200000000</td>\n",
       "      <td>The Incredibles Collection</td>\n",
       "      <td>2018-06-14</td>\n",
       "    </tr>\n",
       "  </tbody>\n",
       "</table>\n",
       "</div>"
      ],
      "text/plain": [
       "        id                                         title     revenue  \\\n",
       "0   299534                             Avengers: Endgame  2797800564   \n",
       "1    19995                                        Avatar  2787965087   \n",
       "2   140607                  Star Wars: The Force Awakens  2068223624   \n",
       "3   299536                        Avengers: Infinity War  2046239637   \n",
       "4      597                                       Titanic  1845034188   \n",
       "5   135397                                Jurassic World  1671713208   \n",
       "6   420818                                 The Lion King  1656943394   \n",
       "7    24428                                  The Avengers  1519557910   \n",
       "8   168259                                     Furious 7  1515047671   \n",
       "9    99861                       Avengers: Age of Ultron  1405403694   \n",
       "10  284054                                 Black Panther  1346739107   \n",
       "11   12445  Harry Potter and the Deathly Hallows: Part 2  1341511219   \n",
       "12  181808                      Star Wars: The Last Jedi  1332539889   \n",
       "13  330457                                     Frozen II  1330764959   \n",
       "14  351286                Jurassic World: Fallen Kingdom  1303459585   \n",
       "15  109445                                        Frozen  1274219009   \n",
       "16  321612                          Beauty and the Beast  1263521126   \n",
       "17  260513                                 Incredibles 2  1241891456   \n",
       "\n",
       "       budget           belongs_to_collection_name release_date  \n",
       "0   356000000              The Avengers Collection   2019-04-24  \n",
       "1   237000000                    Avatar Collection   2009-12-10  \n",
       "2   245000000                 Star Wars Collection   2015-12-15  \n",
       "3   300000000              The Avengers Collection   2018-04-25  \n",
       "4   200000000                                  NaN   1997-11-18  \n",
       "5   150000000             Jurassic Park Collection   2015-06-06  \n",
       "6   260000000                                  NaN   2019-07-12  \n",
       "7   220000000              The Avengers Collection   2012-04-25  \n",
       "8   190000000  The Fast and the Furious Collection   2015-04-01  \n",
       "9   250000000              The Avengers Collection   2015-04-22  \n",
       "10  200000000             Black Panther Collection   2018-02-13  \n",
       "11  125000000              Harry Potter Collection   2011-07-07  \n",
       "12  200000000                 Star Wars Collection   2017-12-13  \n",
       "13  150000000                    Frozen Collection   2019-11-20  \n",
       "14  170000000             Jurassic Park Collection   2018-06-06  \n",
       "15  150000000                    Frozen Collection   2013-11-27  \n",
       "16  160000000                                  NaN   2017-03-16  \n",
       "17  200000000           The Incredibles Collection   2018-06-14  "
      ]
     },
     "execution_count": 94,
     "metadata": {},
     "output_type": "execute_result"
    }
   ],
   "source": [
    "movies = df[[\"id\", \"title\", \"revenue\", \"budget\", \"belongs_to_collection_name\", \"release_date\"]].copy()\n",
    "movies"
   ]
  },
  {
   "cell_type": "code",
   "execution_count": 95,
   "id": "81a77fcf",
   "metadata": {},
   "outputs": [],
   "source": [
    "# INFO: Bu Yöntem, dataframe bilgilerini veya özetini yazdırır.\n",
    "# İndeks tipi, dtipi, sütunlar, değer olmayanlar ve bellek kullanımı gibi Dataframe'in çeşitli bilgilerini yazdırır.\n",
    "# Veri kümesine hızlı bir genel bakış sağlar."
   ]
  },
  {
   "cell_type": "code",
   "execution_count": 96,
   "id": "9e0077d2",
   "metadata": {},
   "outputs": [
    {
     "name": "stdout",
     "output_type": "stream",
     "text": [
      "<class 'pandas.core.frame.DataFrame'>\n",
      "RangeIndex: 18 entries, 0 to 17\n",
      "Data columns (total 6 columns):\n",
      " #   Column                      Non-Null Count  Dtype \n",
      "---  ------                      --------------  ----- \n",
      " 0   id                          18 non-null     int64 \n",
      " 1   title                       18 non-null     object\n",
      " 2   revenue                     18 non-null     int64 \n",
      " 3   budget                      18 non-null     int64 \n",
      " 4   belongs_to_collection_name  15 non-null     object\n",
      " 5   release_date                18 non-null     object\n",
      "dtypes: int64(3), object(3)\n",
      "memory usage: 992.0+ bytes\n"
     ]
    }
   ],
   "source": [
    "movies.info()"
   ]
  },
  {
   "cell_type": "code",
   "execution_count": 97,
   "id": "6b7caac9",
   "metadata": {},
   "outputs": [],
   "source": [
    "# DATETIME: Tarihleri ve saatleri değiştirmek için sınıflar sağlar. "
   ]
  },
  {
   "cell_type": "code",
   "execution_count": 98,
   "id": "bf65b9a5",
   "metadata": {},
   "outputs": [],
   "source": [
    "# Burada \"release date\" sütununda bir sorunumuz var, bu nedenle \"data type\" \"date time\" olmalıdır."
   ]
  },
  {
   "cell_type": "code",
   "execution_count": 99,
   "id": "4bfe4c6d",
   "metadata": {},
   "outputs": [],
   "source": [
    "movies.release_date = pd.to_datetime(df.release_date)"
   ]
  },
  {
   "cell_type": "code",
   "execution_count": 100,
   "id": "60d5dee4",
   "metadata": {},
   "outputs": [],
   "source": [
    "# Bir milyon ABD doları cinsinden belirlemek daha uygun olabilir."
   ]
  },
  {
   "cell_type": "code",
   "execution_count": 101,
   "id": "a769d61c",
   "metadata": {},
   "outputs": [],
   "source": [
    "movies.revenue = df.revenue/1000000\n",
    "movies.budget = df.budget/1000000"
   ]
  },
  {
   "cell_type": "code",
   "execution_count": 102,
   "id": "09784b8a",
   "metadata": {},
   "outputs": [],
   "source": [
    "# Öyleyse burayı tekrar inceleyelim."
   ]
  },
  {
   "cell_type": "code",
   "execution_count": 103,
   "id": "b0c449b8",
   "metadata": {},
   "outputs": [
    {
     "data": {
      "text/html": [
       "<div>\n",
       "<style scoped>\n",
       "    .dataframe tbody tr th:only-of-type {\n",
       "        vertical-align: middle;\n",
       "    }\n",
       "\n",
       "    .dataframe tbody tr th {\n",
       "        vertical-align: top;\n",
       "    }\n",
       "\n",
       "    .dataframe thead th {\n",
       "        text-align: right;\n",
       "    }\n",
       "</style>\n",
       "<table border=\"1\" class=\"dataframe\">\n",
       "  <thead>\n",
       "    <tr style=\"text-align: right;\">\n",
       "      <th></th>\n",
       "      <th>id</th>\n",
       "      <th>title</th>\n",
       "      <th>revenue</th>\n",
       "      <th>budget</th>\n",
       "      <th>belongs_to_collection_name</th>\n",
       "      <th>release_date</th>\n",
       "    </tr>\n",
       "  </thead>\n",
       "  <tbody>\n",
       "    <tr>\n",
       "      <th>0</th>\n",
       "      <td>299534</td>\n",
       "      <td>Avengers: Endgame</td>\n",
       "      <td>2797.800564</td>\n",
       "      <td>356.0</td>\n",
       "      <td>The Avengers Collection</td>\n",
       "      <td>2019-04-24</td>\n",
       "    </tr>\n",
       "    <tr>\n",
       "      <th>1</th>\n",
       "      <td>19995</td>\n",
       "      <td>Avatar</td>\n",
       "      <td>2787.965087</td>\n",
       "      <td>237.0</td>\n",
       "      <td>Avatar Collection</td>\n",
       "      <td>2009-12-10</td>\n",
       "    </tr>\n",
       "    <tr>\n",
       "      <th>2</th>\n",
       "      <td>140607</td>\n",
       "      <td>Star Wars: The Force Awakens</td>\n",
       "      <td>2068.223624</td>\n",
       "      <td>245.0</td>\n",
       "      <td>Star Wars Collection</td>\n",
       "      <td>2015-12-15</td>\n",
       "    </tr>\n",
       "    <tr>\n",
       "      <th>3</th>\n",
       "      <td>299536</td>\n",
       "      <td>Avengers: Infinity War</td>\n",
       "      <td>2046.239637</td>\n",
       "      <td>300.0</td>\n",
       "      <td>The Avengers Collection</td>\n",
       "      <td>2018-04-25</td>\n",
       "    </tr>\n",
       "    <tr>\n",
       "      <th>4</th>\n",
       "      <td>597</td>\n",
       "      <td>Titanic</td>\n",
       "      <td>1845.034188</td>\n",
       "      <td>200.0</td>\n",
       "      <td>NaN</td>\n",
       "      <td>1997-11-18</td>\n",
       "    </tr>\n",
       "    <tr>\n",
       "      <th>5</th>\n",
       "      <td>135397</td>\n",
       "      <td>Jurassic World</td>\n",
       "      <td>1671.713208</td>\n",
       "      <td>150.0</td>\n",
       "      <td>Jurassic Park Collection</td>\n",
       "      <td>2015-06-06</td>\n",
       "    </tr>\n",
       "    <tr>\n",
       "      <th>6</th>\n",
       "      <td>420818</td>\n",
       "      <td>The Lion King</td>\n",
       "      <td>1656.943394</td>\n",
       "      <td>260.0</td>\n",
       "      <td>NaN</td>\n",
       "      <td>2019-07-12</td>\n",
       "    </tr>\n",
       "    <tr>\n",
       "      <th>7</th>\n",
       "      <td>24428</td>\n",
       "      <td>The Avengers</td>\n",
       "      <td>1519.557910</td>\n",
       "      <td>220.0</td>\n",
       "      <td>The Avengers Collection</td>\n",
       "      <td>2012-04-25</td>\n",
       "    </tr>\n",
       "    <tr>\n",
       "      <th>8</th>\n",
       "      <td>168259</td>\n",
       "      <td>Furious 7</td>\n",
       "      <td>1515.047671</td>\n",
       "      <td>190.0</td>\n",
       "      <td>The Fast and the Furious Collection</td>\n",
       "      <td>2015-04-01</td>\n",
       "    </tr>\n",
       "    <tr>\n",
       "      <th>9</th>\n",
       "      <td>99861</td>\n",
       "      <td>Avengers: Age of Ultron</td>\n",
       "      <td>1405.403694</td>\n",
       "      <td>250.0</td>\n",
       "      <td>The Avengers Collection</td>\n",
       "      <td>2015-04-22</td>\n",
       "    </tr>\n",
       "    <tr>\n",
       "      <th>10</th>\n",
       "      <td>284054</td>\n",
       "      <td>Black Panther</td>\n",
       "      <td>1346.739107</td>\n",
       "      <td>200.0</td>\n",
       "      <td>Black Panther Collection</td>\n",
       "      <td>2018-02-13</td>\n",
       "    </tr>\n",
       "    <tr>\n",
       "      <th>11</th>\n",
       "      <td>12445</td>\n",
       "      <td>Harry Potter and the Deathly Hallows: Part 2</td>\n",
       "      <td>1341.511219</td>\n",
       "      <td>125.0</td>\n",
       "      <td>Harry Potter Collection</td>\n",
       "      <td>2011-07-07</td>\n",
       "    </tr>\n",
       "    <tr>\n",
       "      <th>12</th>\n",
       "      <td>181808</td>\n",
       "      <td>Star Wars: The Last Jedi</td>\n",
       "      <td>1332.539889</td>\n",
       "      <td>200.0</td>\n",
       "      <td>Star Wars Collection</td>\n",
       "      <td>2017-12-13</td>\n",
       "    </tr>\n",
       "    <tr>\n",
       "      <th>13</th>\n",
       "      <td>330457</td>\n",
       "      <td>Frozen II</td>\n",
       "      <td>1330.764959</td>\n",
       "      <td>150.0</td>\n",
       "      <td>Frozen Collection</td>\n",
       "      <td>2019-11-20</td>\n",
       "    </tr>\n",
       "    <tr>\n",
       "      <th>14</th>\n",
       "      <td>351286</td>\n",
       "      <td>Jurassic World: Fallen Kingdom</td>\n",
       "      <td>1303.459585</td>\n",
       "      <td>170.0</td>\n",
       "      <td>Jurassic Park Collection</td>\n",
       "      <td>2018-06-06</td>\n",
       "    </tr>\n",
       "    <tr>\n",
       "      <th>15</th>\n",
       "      <td>109445</td>\n",
       "      <td>Frozen</td>\n",
       "      <td>1274.219009</td>\n",
       "      <td>150.0</td>\n",
       "      <td>Frozen Collection</td>\n",
       "      <td>2013-11-27</td>\n",
       "    </tr>\n",
       "    <tr>\n",
       "      <th>16</th>\n",
       "      <td>321612</td>\n",
       "      <td>Beauty and the Beast</td>\n",
       "      <td>1263.521126</td>\n",
       "      <td>160.0</td>\n",
       "      <td>NaN</td>\n",
       "      <td>2017-03-16</td>\n",
       "    </tr>\n",
       "    <tr>\n",
       "      <th>17</th>\n",
       "      <td>260513</td>\n",
       "      <td>Incredibles 2</td>\n",
       "      <td>1241.891456</td>\n",
       "      <td>200.0</td>\n",
       "      <td>The Incredibles Collection</td>\n",
       "      <td>2018-06-14</td>\n",
       "    </tr>\n",
       "  </tbody>\n",
       "</table>\n",
       "</div>"
      ],
      "text/plain": [
       "        id                                         title      revenue  budget  \\\n",
       "0   299534                             Avengers: Endgame  2797.800564   356.0   \n",
       "1    19995                                        Avatar  2787.965087   237.0   \n",
       "2   140607                  Star Wars: The Force Awakens  2068.223624   245.0   \n",
       "3   299536                        Avengers: Infinity War  2046.239637   300.0   \n",
       "4      597                                       Titanic  1845.034188   200.0   \n",
       "5   135397                                Jurassic World  1671.713208   150.0   \n",
       "6   420818                                 The Lion King  1656.943394   260.0   \n",
       "7    24428                                  The Avengers  1519.557910   220.0   \n",
       "8   168259                                     Furious 7  1515.047671   190.0   \n",
       "9    99861                       Avengers: Age of Ultron  1405.403694   250.0   \n",
       "10  284054                                 Black Panther  1346.739107   200.0   \n",
       "11   12445  Harry Potter and the Deathly Hallows: Part 2  1341.511219   125.0   \n",
       "12  181808                      Star Wars: The Last Jedi  1332.539889   200.0   \n",
       "13  330457                                     Frozen II  1330.764959   150.0   \n",
       "14  351286                Jurassic World: Fallen Kingdom  1303.459585   170.0   \n",
       "15  109445                                        Frozen  1274.219009   150.0   \n",
       "16  321612                          Beauty and the Beast  1263.521126   160.0   \n",
       "17  260513                                 Incredibles 2  1241.891456   200.0   \n",
       "\n",
       "             belongs_to_collection_name release_date  \n",
       "0               The Avengers Collection   2019-04-24  \n",
       "1                     Avatar Collection   2009-12-10  \n",
       "2                  Star Wars Collection   2015-12-15  \n",
       "3               The Avengers Collection   2018-04-25  \n",
       "4                                   NaN   1997-11-18  \n",
       "5              Jurassic Park Collection   2015-06-06  \n",
       "6                                   NaN   2019-07-12  \n",
       "7               The Avengers Collection   2012-04-25  \n",
       "8   The Fast and the Furious Collection   2015-04-01  \n",
       "9               The Avengers Collection   2015-04-22  \n",
       "10             Black Panther Collection   2018-02-13  \n",
       "11              Harry Potter Collection   2011-07-07  \n",
       "12                 Star Wars Collection   2017-12-13  \n",
       "13                    Frozen Collection   2019-11-20  \n",
       "14             Jurassic Park Collection   2018-06-06  \n",
       "15                    Frozen Collection   2013-11-27  \n",
       "16                                  NaN   2017-03-16  \n",
       "17           The Incredibles Collection   2018-06-14  "
      ]
     },
     "execution_count": 103,
     "metadata": {},
     "output_type": "execute_result"
    }
   ],
   "source": [
    "movies"
   ]
  },
  {
   "cell_type": "code",
   "execution_count": 104,
   "id": "e6eb29a6",
   "metadata": {},
   "outputs": [],
   "source": [
    "# Ardından, ikinci bir dataframe oluşturalım."
   ]
  },
  {
   "cell_type": "code",
   "execution_count": 105,
   "id": "1a36403d",
   "metadata": {},
   "outputs": [],
   "source": [
    "# Bu dataframe , oylar ve derecelendirmeler hakkında bilgi içermelidir, bu nedenle aslında iki sütunumuz var, dolayısıyla \"oy sayısı\" ve \"oy ortalaması\" var."
   ]
  },
  {
   "cell_type": "code",
   "execution_count": 106,
   "id": "541aa4e1",
   "metadata": {},
   "outputs": [],
   "source": [
    "# Aslında, her iki dataframe'de, her iki tablodaki film fikrine sahip olarak, her iki dataframe'i de bağlayabiliriz."
   ]
  },
  {
   "cell_type": "code",
   "execution_count": 107,
   "id": "4ad33f8e",
   "metadata": {},
   "outputs": [
    {
     "data": {
      "text/html": [
       "<div>\n",
       "<style scoped>\n",
       "    .dataframe tbody tr th:only-of-type {\n",
       "        vertical-align: middle;\n",
       "    }\n",
       "\n",
       "    .dataframe tbody tr th {\n",
       "        vertical-align: top;\n",
       "    }\n",
       "\n",
       "    .dataframe thead th {\n",
       "        text-align: right;\n",
       "    }\n",
       "</style>\n",
       "<table border=\"1\" class=\"dataframe\">\n",
       "  <thead>\n",
       "    <tr style=\"text-align: right;\">\n",
       "      <th></th>\n",
       "      <th>id</th>\n",
       "      <th>vote_count</th>\n",
       "      <th>vote_average</th>\n",
       "    </tr>\n",
       "  </thead>\n",
       "  <tbody>\n",
       "    <tr>\n",
       "      <th>0</th>\n",
       "      <td>299534</td>\n",
       "      <td>12607</td>\n",
       "      <td>8.3</td>\n",
       "    </tr>\n",
       "    <tr>\n",
       "      <th>1</th>\n",
       "      <td>19995</td>\n",
       "      <td>21000</td>\n",
       "      <td>7.4</td>\n",
       "    </tr>\n",
       "    <tr>\n",
       "      <th>2</th>\n",
       "      <td>140607</td>\n",
       "      <td>14205</td>\n",
       "      <td>7.4</td>\n",
       "    </tr>\n",
       "    <tr>\n",
       "      <th>3</th>\n",
       "      <td>299536</td>\n",
       "      <td>17718</td>\n",
       "      <td>8.3</td>\n",
       "    </tr>\n",
       "    <tr>\n",
       "      <th>4</th>\n",
       "      <td>597</td>\n",
       "      <td>16661</td>\n",
       "      <td>7.8</td>\n",
       "    </tr>\n",
       "    <tr>\n",
       "      <th>5</th>\n",
       "      <td>135397</td>\n",
       "      <td>15399</td>\n",
       "      <td>6.6</td>\n",
       "    </tr>\n",
       "    <tr>\n",
       "      <th>6</th>\n",
       "      <td>420818</td>\n",
       "      <td>5425</td>\n",
       "      <td>7.2</td>\n",
       "    </tr>\n",
       "    <tr>\n",
       "      <th>7</th>\n",
       "      <td>24428</td>\n",
       "      <td>22101</td>\n",
       "      <td>7.7</td>\n",
       "    </tr>\n",
       "    <tr>\n",
       "      <th>8</th>\n",
       "      <td>168259</td>\n",
       "      <td>7359</td>\n",
       "      <td>7.3</td>\n",
       "    </tr>\n",
       "    <tr>\n",
       "      <th>9</th>\n",
       "      <td>99861</td>\n",
       "      <td>15548</td>\n",
       "      <td>7.3</td>\n",
       "    </tr>\n",
       "    <tr>\n",
       "      <th>10</th>\n",
       "      <td>284054</td>\n",
       "      <td>14830</td>\n",
       "      <td>7.4</td>\n",
       "    </tr>\n",
       "    <tr>\n",
       "      <th>11</th>\n",
       "      <td>12445</td>\n",
       "      <td>13447</td>\n",
       "      <td>8.1</td>\n",
       "    </tr>\n",
       "    <tr>\n",
       "      <th>12</th>\n",
       "      <td>181808</td>\n",
       "      <td>10304</td>\n",
       "      <td>7.0</td>\n",
       "    </tr>\n",
       "    <tr>\n",
       "      <th>13</th>\n",
       "      <td>330457</td>\n",
       "      <td>3982</td>\n",
       "      <td>7.2</td>\n",
       "    </tr>\n",
       "    <tr>\n",
       "      <th>14</th>\n",
       "      <td>351286</td>\n",
       "      <td>7337</td>\n",
       "      <td>6.5</td>\n",
       "    </tr>\n",
       "    <tr>\n",
       "      <th>15</th>\n",
       "      <td>109445</td>\n",
       "      <td>11616</td>\n",
       "      <td>7.3</td>\n",
       "    </tr>\n",
       "    <tr>\n",
       "      <th>16</th>\n",
       "      <td>321612</td>\n",
       "      <td>12203</td>\n",
       "      <td>6.9</td>\n",
       "    </tr>\n",
       "    <tr>\n",
       "      <th>17</th>\n",
       "      <td>260513</td>\n",
       "      <td>8147</td>\n",
       "      <td>7.5</td>\n",
       "    </tr>\n",
       "  </tbody>\n",
       "</table>\n",
       "</div>"
      ],
      "text/plain": [
       "        id  vote_count  vote_average\n",
       "0   299534       12607           8.3\n",
       "1    19995       21000           7.4\n",
       "2   140607       14205           7.4\n",
       "3   299536       17718           8.3\n",
       "4      597       16661           7.8\n",
       "5   135397       15399           6.6\n",
       "6   420818        5425           7.2\n",
       "7    24428       22101           7.7\n",
       "8   168259        7359           7.3\n",
       "9    99861       15548           7.3\n",
       "10  284054       14830           7.4\n",
       "11   12445       13447           8.1\n",
       "12  181808       10304           7.0\n",
       "13  330457        3982           7.2\n",
       "14  351286        7337           6.5\n",
       "15  109445       11616           7.3\n",
       "16  321612       12203           6.9\n",
       "17  260513        8147           7.5"
      ]
     },
     "execution_count": 107,
     "metadata": {},
     "output_type": "execute_result"
    }
   ],
   "source": [
    "votes = df[[\"id\", \"vote_count\", \"vote_average\"]].copy()\n",
    "votes"
   ]
  },
  {
   "cell_type": "code",
   "execution_count": 108,
   "id": "6eef0322",
   "metadata": {},
   "outputs": [],
   "source": [
    "# Aslında \"genres\" sütununu \"pd.json_normalize\" ile ayrı bir dataframe'e dönüştürebiliriz."
   ]
  },
  {
   "cell_type": "code",
   "execution_count": 109,
   "id": "25dea20e",
   "metadata": {},
   "outputs": [],
   "source": [
    "# record_path:str veya str listesi\n",
    "# Kayıt listesi için her nesnedeki yol. Geçilmezse, verilerin bir kayıt dizisi olduğu varsayılacaktır."
   ]
  },
  {
   "cell_type": "code",
   "execution_count": 110,
   "id": "75ba1286",
   "metadata": {},
   "outputs": [],
   "source": [
    "# meta:str veya str listesi\n",
    "# ortaya çıkan tablodaki her kayıt için metaframe olarak kullanılacak alanlar."
   ]
  },
  {
   "cell_type": "code",
   "execution_count": 111,
   "id": "53402e3a",
   "metadata": {},
   "outputs": [],
   "source": [
    "# record_prefix: str"
   ]
  },
  {
   "cell_type": "code",
   "execution_count": 112,
   "id": "829b77df",
   "metadata": {},
   "outputs": [
    {
     "data": {
      "text/html": [
       "<div>\n",
       "<style scoped>\n",
       "    .dataframe tbody tr th:only-of-type {\n",
       "        vertical-align: middle;\n",
       "    }\n",
       "\n",
       "    .dataframe tbody tr th {\n",
       "        vertical-align: top;\n",
       "    }\n",
       "\n",
       "    .dataframe thead th {\n",
       "        text-align: right;\n",
       "    }\n",
       "</style>\n",
       "<table border=\"1\" class=\"dataframe\">\n",
       "  <thead>\n",
       "    <tr style=\"text-align: right;\">\n",
       "      <th></th>\n",
       "      <th>genre_id</th>\n",
       "      <th>genre_name</th>\n",
       "      <th>id</th>\n",
       "    </tr>\n",
       "  </thead>\n",
       "  <tbody>\n",
       "    <tr>\n",
       "      <th>0</th>\n",
       "      <td>12</td>\n",
       "      <td>Adventure</td>\n",
       "      <td>299534</td>\n",
       "    </tr>\n",
       "    <tr>\n",
       "      <th>1</th>\n",
       "      <td>878</td>\n",
       "      <td>Science Fiction</td>\n",
       "      <td>299534</td>\n",
       "    </tr>\n",
       "    <tr>\n",
       "      <th>2</th>\n",
       "      <td>28</td>\n",
       "      <td>Action</td>\n",
       "      <td>299534</td>\n",
       "    </tr>\n",
       "    <tr>\n",
       "      <th>3</th>\n",
       "      <td>28</td>\n",
       "      <td>Action</td>\n",
       "      <td>19995</td>\n",
       "    </tr>\n",
       "    <tr>\n",
       "      <th>4</th>\n",
       "      <td>12</td>\n",
       "      <td>Adventure</td>\n",
       "      <td>19995</td>\n",
       "    </tr>\n",
       "    <tr>\n",
       "      <th>5</th>\n",
       "      <td>14</td>\n",
       "      <td>Fantasy</td>\n",
       "      <td>19995</td>\n",
       "    </tr>\n",
       "    <tr>\n",
       "      <th>6</th>\n",
       "      <td>878</td>\n",
       "      <td>Science Fiction</td>\n",
       "      <td>19995</td>\n",
       "    </tr>\n",
       "    <tr>\n",
       "      <th>7</th>\n",
       "      <td>28</td>\n",
       "      <td>Action</td>\n",
       "      <td>140607</td>\n",
       "    </tr>\n",
       "    <tr>\n",
       "      <th>8</th>\n",
       "      <td>12</td>\n",
       "      <td>Adventure</td>\n",
       "      <td>140607</td>\n",
       "    </tr>\n",
       "    <tr>\n",
       "      <th>9</th>\n",
       "      <td>878</td>\n",
       "      <td>Science Fiction</td>\n",
       "      <td>140607</td>\n",
       "    </tr>\n",
       "    <tr>\n",
       "      <th>10</th>\n",
       "      <td>14</td>\n",
       "      <td>Fantasy</td>\n",
       "      <td>140607</td>\n",
       "    </tr>\n",
       "    <tr>\n",
       "      <th>11</th>\n",
       "      <td>12</td>\n",
       "      <td>Adventure</td>\n",
       "      <td>299536</td>\n",
       "    </tr>\n",
       "    <tr>\n",
       "      <th>12</th>\n",
       "      <td>28</td>\n",
       "      <td>Action</td>\n",
       "      <td>299536</td>\n",
       "    </tr>\n",
       "    <tr>\n",
       "      <th>13</th>\n",
       "      <td>878</td>\n",
       "      <td>Science Fiction</td>\n",
       "      <td>299536</td>\n",
       "    </tr>\n",
       "    <tr>\n",
       "      <th>14</th>\n",
       "      <td>18</td>\n",
       "      <td>Drama</td>\n",
       "      <td>597</td>\n",
       "    </tr>\n",
       "    <tr>\n",
       "      <th>15</th>\n",
       "      <td>10749</td>\n",
       "      <td>Romance</td>\n",
       "      <td>597</td>\n",
       "    </tr>\n",
       "    <tr>\n",
       "      <th>16</th>\n",
       "      <td>28</td>\n",
       "      <td>Action</td>\n",
       "      <td>135397</td>\n",
       "    </tr>\n",
       "    <tr>\n",
       "      <th>17</th>\n",
       "      <td>12</td>\n",
       "      <td>Adventure</td>\n",
       "      <td>135397</td>\n",
       "    </tr>\n",
       "    <tr>\n",
       "      <th>18</th>\n",
       "      <td>878</td>\n",
       "      <td>Science Fiction</td>\n",
       "      <td>135397</td>\n",
       "    </tr>\n",
       "    <tr>\n",
       "      <th>19</th>\n",
       "      <td>53</td>\n",
       "      <td>Thriller</td>\n",
       "      <td>135397</td>\n",
       "    </tr>\n",
       "    <tr>\n",
       "      <th>20</th>\n",
       "      <td>12</td>\n",
       "      <td>Adventure</td>\n",
       "      <td>420818</td>\n",
       "    </tr>\n",
       "    <tr>\n",
       "      <th>21</th>\n",
       "      <td>10751</td>\n",
       "      <td>Family</td>\n",
       "      <td>420818</td>\n",
       "    </tr>\n",
       "    <tr>\n",
       "      <th>22</th>\n",
       "      <td>878</td>\n",
       "      <td>Science Fiction</td>\n",
       "      <td>24428</td>\n",
       "    </tr>\n",
       "    <tr>\n",
       "      <th>23</th>\n",
       "      <td>28</td>\n",
       "      <td>Action</td>\n",
       "      <td>24428</td>\n",
       "    </tr>\n",
       "    <tr>\n",
       "      <th>24</th>\n",
       "      <td>12</td>\n",
       "      <td>Adventure</td>\n",
       "      <td>24428</td>\n",
       "    </tr>\n",
       "    <tr>\n",
       "      <th>25</th>\n",
       "      <td>28</td>\n",
       "      <td>Action</td>\n",
       "      <td>168259</td>\n",
       "    </tr>\n",
       "    <tr>\n",
       "      <th>26</th>\n",
       "      <td>53</td>\n",
       "      <td>Thriller</td>\n",
       "      <td>168259</td>\n",
       "    </tr>\n",
       "    <tr>\n",
       "      <th>27</th>\n",
       "      <td>28</td>\n",
       "      <td>Action</td>\n",
       "      <td>99861</td>\n",
       "    </tr>\n",
       "    <tr>\n",
       "      <th>28</th>\n",
       "      <td>12</td>\n",
       "      <td>Adventure</td>\n",
       "      <td>99861</td>\n",
       "    </tr>\n",
       "    <tr>\n",
       "      <th>29</th>\n",
       "      <td>878</td>\n",
       "      <td>Science Fiction</td>\n",
       "      <td>99861</td>\n",
       "    </tr>\n",
       "    <tr>\n",
       "      <th>30</th>\n",
       "      <td>28</td>\n",
       "      <td>Action</td>\n",
       "      <td>284054</td>\n",
       "    </tr>\n",
       "    <tr>\n",
       "      <th>31</th>\n",
       "      <td>12</td>\n",
       "      <td>Adventure</td>\n",
       "      <td>284054</td>\n",
       "    </tr>\n",
       "    <tr>\n",
       "      <th>32</th>\n",
       "      <td>14</td>\n",
       "      <td>Fantasy</td>\n",
       "      <td>284054</td>\n",
       "    </tr>\n",
       "    <tr>\n",
       "      <th>33</th>\n",
       "      <td>878</td>\n",
       "      <td>Science Fiction</td>\n",
       "      <td>284054</td>\n",
       "    </tr>\n",
       "    <tr>\n",
       "      <th>34</th>\n",
       "      <td>14</td>\n",
       "      <td>Fantasy</td>\n",
       "      <td>12445</td>\n",
       "    </tr>\n",
       "    <tr>\n",
       "      <th>35</th>\n",
       "      <td>12</td>\n",
       "      <td>Adventure</td>\n",
       "      <td>12445</td>\n",
       "    </tr>\n",
       "    <tr>\n",
       "      <th>36</th>\n",
       "      <td>878</td>\n",
       "      <td>Science Fiction</td>\n",
       "      <td>181808</td>\n",
       "    </tr>\n",
       "    <tr>\n",
       "      <th>37</th>\n",
       "      <td>28</td>\n",
       "      <td>Action</td>\n",
       "      <td>181808</td>\n",
       "    </tr>\n",
       "    <tr>\n",
       "      <th>38</th>\n",
       "      <td>12</td>\n",
       "      <td>Adventure</td>\n",
       "      <td>181808</td>\n",
       "    </tr>\n",
       "    <tr>\n",
       "      <th>39</th>\n",
       "      <td>16</td>\n",
       "      <td>Animation</td>\n",
       "      <td>330457</td>\n",
       "    </tr>\n",
       "    <tr>\n",
       "      <th>40</th>\n",
       "      <td>10751</td>\n",
       "      <td>Family</td>\n",
       "      <td>330457</td>\n",
       "    </tr>\n",
       "    <tr>\n",
       "      <th>41</th>\n",
       "      <td>12</td>\n",
       "      <td>Adventure</td>\n",
       "      <td>330457</td>\n",
       "    </tr>\n",
       "    <tr>\n",
       "      <th>42</th>\n",
       "      <td>28</td>\n",
       "      <td>Action</td>\n",
       "      <td>351286</td>\n",
       "    </tr>\n",
       "    <tr>\n",
       "      <th>43</th>\n",
       "      <td>12</td>\n",
       "      <td>Adventure</td>\n",
       "      <td>351286</td>\n",
       "    </tr>\n",
       "    <tr>\n",
       "      <th>44</th>\n",
       "      <td>878</td>\n",
       "      <td>Science Fiction</td>\n",
       "      <td>351286</td>\n",
       "    </tr>\n",
       "    <tr>\n",
       "      <th>45</th>\n",
       "      <td>16</td>\n",
       "      <td>Animation</td>\n",
       "      <td>109445</td>\n",
       "    </tr>\n",
       "    <tr>\n",
       "      <th>46</th>\n",
       "      <td>12</td>\n",
       "      <td>Adventure</td>\n",
       "      <td>109445</td>\n",
       "    </tr>\n",
       "    <tr>\n",
       "      <th>47</th>\n",
       "      <td>10751</td>\n",
       "      <td>Family</td>\n",
       "      <td>109445</td>\n",
       "    </tr>\n",
       "    <tr>\n",
       "      <th>48</th>\n",
       "      <td>10751</td>\n",
       "      <td>Family</td>\n",
       "      <td>321612</td>\n",
       "    </tr>\n",
       "    <tr>\n",
       "      <th>49</th>\n",
       "      <td>14</td>\n",
       "      <td>Fantasy</td>\n",
       "      <td>321612</td>\n",
       "    </tr>\n",
       "    <tr>\n",
       "      <th>50</th>\n",
       "      <td>10749</td>\n",
       "      <td>Romance</td>\n",
       "      <td>321612</td>\n",
       "    </tr>\n",
       "    <tr>\n",
       "      <th>51</th>\n",
       "      <td>28</td>\n",
       "      <td>Action</td>\n",
       "      <td>260513</td>\n",
       "    </tr>\n",
       "    <tr>\n",
       "      <th>52</th>\n",
       "      <td>12</td>\n",
       "      <td>Adventure</td>\n",
       "      <td>260513</td>\n",
       "    </tr>\n",
       "    <tr>\n",
       "      <th>53</th>\n",
       "      <td>16</td>\n",
       "      <td>Animation</td>\n",
       "      <td>260513</td>\n",
       "    </tr>\n",
       "    <tr>\n",
       "      <th>54</th>\n",
       "      <td>10751</td>\n",
       "      <td>Family</td>\n",
       "      <td>260513</td>\n",
       "    </tr>\n",
       "  </tbody>\n",
       "</table>\n",
       "</div>"
      ],
      "text/plain": [
       "    genre_id       genre_name      id\n",
       "0         12        Adventure  299534\n",
       "1        878  Science Fiction  299534\n",
       "2         28           Action  299534\n",
       "3         28           Action   19995\n",
       "4         12        Adventure   19995\n",
       "5         14          Fantasy   19995\n",
       "6        878  Science Fiction   19995\n",
       "7         28           Action  140607\n",
       "8         12        Adventure  140607\n",
       "9        878  Science Fiction  140607\n",
       "10        14          Fantasy  140607\n",
       "11        12        Adventure  299536\n",
       "12        28           Action  299536\n",
       "13       878  Science Fiction  299536\n",
       "14        18            Drama     597\n",
       "15     10749          Romance     597\n",
       "16        28           Action  135397\n",
       "17        12        Adventure  135397\n",
       "18       878  Science Fiction  135397\n",
       "19        53         Thriller  135397\n",
       "20        12        Adventure  420818\n",
       "21     10751           Family  420818\n",
       "22       878  Science Fiction   24428\n",
       "23        28           Action   24428\n",
       "24        12        Adventure   24428\n",
       "25        28           Action  168259\n",
       "26        53         Thriller  168259\n",
       "27        28           Action   99861\n",
       "28        12        Adventure   99861\n",
       "29       878  Science Fiction   99861\n",
       "30        28           Action  284054\n",
       "31        12        Adventure  284054\n",
       "32        14          Fantasy  284054\n",
       "33       878  Science Fiction  284054\n",
       "34        14          Fantasy   12445\n",
       "35        12        Adventure   12445\n",
       "36       878  Science Fiction  181808\n",
       "37        28           Action  181808\n",
       "38        12        Adventure  181808\n",
       "39        16        Animation  330457\n",
       "40     10751           Family  330457\n",
       "41        12        Adventure  330457\n",
       "42        28           Action  351286\n",
       "43        12        Adventure  351286\n",
       "44       878  Science Fiction  351286\n",
       "45        16        Animation  109445\n",
       "46        12        Adventure  109445\n",
       "47     10751           Family  109445\n",
       "48     10751           Family  321612\n",
       "49        14          Fantasy  321612\n",
       "50     10749          Romance  321612\n",
       "51        28           Action  260513\n",
       "52        12        Adventure  260513\n",
       "53        16        Animation  260513\n",
       "54     10751           Family  260513"
      ]
     },
     "execution_count": 112,
     "metadata": {},
     "output_type": "execute_result"
    }
   ],
   "source": [
    "genres = pd.json_normalize(data = data, record_path = \"genres\", meta = \"id\", record_prefix = \"genre_\")\n",
    "genres"
   ]
  },
  {
   "cell_type": "code",
   "execution_count": 113,
   "id": "e6cd3548",
   "metadata": {},
   "outputs": [],
   "source": [
    "# \"pd.json_normalize\" ile ayrı bir dataframe oluşturabiliyoruz ve ayrıca buraya \"id\" alarak ana tabloya bir bağlantımız olduğundan emin oluyoruz."
   ]
  },
  {
   "cell_type": "code",
   "execution_count": 114,
   "id": "73c649d3",
   "metadata": {},
   "outputs": [
    {
     "data": {
      "text/html": [
       "<div>\n",
       "<style scoped>\n",
       "    .dataframe tbody tr th:only-of-type {\n",
       "        vertical-align: middle;\n",
       "    }\n",
       "\n",
       "    .dataframe tbody tr th {\n",
       "        vertical-align: top;\n",
       "    }\n",
       "\n",
       "    .dataframe thead th {\n",
       "        text-align: right;\n",
       "    }\n",
       "</style>\n",
       "<table border=\"1\" class=\"dataframe\">\n",
       "  <thead>\n",
       "    <tr style=\"text-align: right;\">\n",
       "      <th></th>\n",
       "      <th>comp_id</th>\n",
       "      <th>comp_logo_path</th>\n",
       "      <th>comp_name</th>\n",
       "      <th>comp_origin_country</th>\n",
       "      <th>id</th>\n",
       "    </tr>\n",
       "  </thead>\n",
       "  <tbody>\n",
       "    <tr>\n",
       "      <th>0</th>\n",
       "      <td>420</td>\n",
       "      <td>/hUzeosd33nzE5MCNsZxCGEKTXaQ.png</td>\n",
       "      <td>Marvel Studios</td>\n",
       "      <td>US</td>\n",
       "      <td>299534</td>\n",
       "    </tr>\n",
       "    <tr>\n",
       "      <th>1</th>\n",
       "      <td>444</td>\n",
       "      <td>/42UPdZl6B2cFXgNUASR8hSt9mpS.png</td>\n",
       "      <td>Dune Entertainment</td>\n",
       "      <td>US</td>\n",
       "      <td>19995</td>\n",
       "    </tr>\n",
       "    <tr>\n",
       "      <th>2</th>\n",
       "      <td>574</td>\n",
       "      <td>/iB6GjNVHs5hOqcEYt2rcjBqIjki.png</td>\n",
       "      <td>Lightstorm Entertainment</td>\n",
       "      <td>US</td>\n",
       "      <td>19995</td>\n",
       "    </tr>\n",
       "    <tr>\n",
       "      <th>3</th>\n",
       "      <td>25</td>\n",
       "      <td>/qZCc1lty5FzX30aOCVRBLzaVmcp.png</td>\n",
       "      <td>20th Century Fox</td>\n",
       "      <td>US</td>\n",
       "      <td>19995</td>\n",
       "    </tr>\n",
       "    <tr>\n",
       "      <th>4</th>\n",
       "      <td>290</td>\n",
       "      <td>/Q8mw2AOQQc8Qg0uNwLWq86DVZv.png</td>\n",
       "      <td>Ingenious Media</td>\n",
       "      <td>GB</td>\n",
       "      <td>19995</td>\n",
       "    </tr>\n",
       "    <tr>\n",
       "      <th>5</th>\n",
       "      <td>1634</td>\n",
       "      <td>None</td>\n",
       "      <td>Truenorth Productions</td>\n",
       "      <td>IS</td>\n",
       "      <td>140607</td>\n",
       "    </tr>\n",
       "    <tr>\n",
       "      <th>6</th>\n",
       "      <td>1</td>\n",
       "      <td>/o86DbpburjxrqAzEDhXZcyE8pDb.png</td>\n",
       "      <td>Lucasfilm</td>\n",
       "      <td>US</td>\n",
       "      <td>140607</td>\n",
       "    </tr>\n",
       "    <tr>\n",
       "      <th>7</th>\n",
       "      <td>11461</td>\n",
       "      <td>/p9FoEt5shEKRWRKVIlvFaEmRnun.png</td>\n",
       "      <td>Bad Robot</td>\n",
       "      <td>US</td>\n",
       "      <td>140607</td>\n",
       "    </tr>\n",
       "    <tr>\n",
       "      <th>8</th>\n",
       "      <td>420</td>\n",
       "      <td>/hUzeosd33nzE5MCNsZxCGEKTXaQ.png</td>\n",
       "      <td>Marvel Studios</td>\n",
       "      <td>US</td>\n",
       "      <td>299536</td>\n",
       "    </tr>\n",
       "    <tr>\n",
       "      <th>9</th>\n",
       "      <td>4</td>\n",
       "      <td>/fycMZt242LVjagMByZOLUGbCvv3.png</td>\n",
       "      <td>Paramount</td>\n",
       "      <td>US</td>\n",
       "      <td>597</td>\n",
       "    </tr>\n",
       "    <tr>\n",
       "      <th>10</th>\n",
       "      <td>574</td>\n",
       "      <td>/iB6GjNVHs5hOqcEYt2rcjBqIjki.png</td>\n",
       "      <td>Lightstorm Entertainment</td>\n",
       "      <td>US</td>\n",
       "      <td>597</td>\n",
       "    </tr>\n",
       "    <tr>\n",
       "      <th>11</th>\n",
       "      <td>25</td>\n",
       "      <td>/qZCc1lty5FzX30aOCVRBLzaVmcp.png</td>\n",
       "      <td>20th Century Fox</td>\n",
       "      <td>US</td>\n",
       "      <td>597</td>\n",
       "    </tr>\n",
       "    <tr>\n",
       "      <th>12</th>\n",
       "      <td>3341</td>\n",
       "      <td>/dTG5dXE1kU2mpmL9BNnraffckLU.png</td>\n",
       "      <td>Fuji Television Network</td>\n",
       "      <td>JP</td>\n",
       "      <td>135397</td>\n",
       "    </tr>\n",
       "    <tr>\n",
       "      <th>13</th>\n",
       "      <td>56</td>\n",
       "      <td>/cEaxANEisCqeEoRvODv2dO1I0iI.png</td>\n",
       "      <td>Amblin Entertainment</td>\n",
       "      <td>US</td>\n",
       "      <td>135397</td>\n",
       "    </tr>\n",
       "    <tr>\n",
       "      <th>14</th>\n",
       "      <td>923</td>\n",
       "      <td>/5UQsZrfbfG2dYJbx8DxfoTr2Bvu.png</td>\n",
       "      <td>Legendary Entertainment</td>\n",
       "      <td>US</td>\n",
       "      <td>135397</td>\n",
       "    </tr>\n",
       "    <tr>\n",
       "      <th>15</th>\n",
       "      <td>33</td>\n",
       "      <td>/8lvHyhjr8oUKOOy2dKXoALWKdp0.png</td>\n",
       "      <td>Universal Pictures</td>\n",
       "      <td>US</td>\n",
       "      <td>135397</td>\n",
       "    </tr>\n",
       "    <tr>\n",
       "      <th>16</th>\n",
       "      <td>1778</td>\n",
       "      <td>/69xm6sF3JxugGVjfZfm1YY6d7EE.png</td>\n",
       "      <td>Dentsu</td>\n",
       "      <td>JP</td>\n",
       "      <td>135397</td>\n",
       "    </tr>\n",
       "    <tr>\n",
       "      <th>17</th>\n",
       "      <td>862</td>\n",
       "      <td>/udTjbqPmcTbfrihMuLtLcizDEM1.png</td>\n",
       "      <td>The Kennedy/Marshall Company</td>\n",
       "      <td>US</td>\n",
       "      <td>135397</td>\n",
       "    </tr>\n",
       "    <tr>\n",
       "      <th>18</th>\n",
       "      <td>2</td>\n",
       "      <td>/wdrCwmRnLFJhEoH8GSfymY85KHT.png</td>\n",
       "      <td>Walt Disney Pictures</td>\n",
       "      <td>US</td>\n",
       "      <td>420818</td>\n",
       "    </tr>\n",
       "    <tr>\n",
       "      <th>19</th>\n",
       "      <td>7297</td>\n",
       "      <td>/l29JYQVZbTcjZXoz4CUYFpKRmM3.png</td>\n",
       "      <td>Fairview Entertainment</td>\n",
       "      <td>US</td>\n",
       "      <td>420818</td>\n",
       "    </tr>\n",
       "    <tr>\n",
       "      <th>20</th>\n",
       "      <td>420</td>\n",
       "      <td>/hUzeosd33nzE5MCNsZxCGEKTXaQ.png</td>\n",
       "      <td>Marvel Studios</td>\n",
       "      <td>US</td>\n",
       "      <td>24428</td>\n",
       "    </tr>\n",
       "    <tr>\n",
       "      <th>21</th>\n",
       "      <td>4</td>\n",
       "      <td>/fycMZt242LVjagMByZOLUGbCvv3.png</td>\n",
       "      <td>Paramount</td>\n",
       "      <td>US</td>\n",
       "      <td>24428</td>\n",
       "    </tr>\n",
       "    <tr>\n",
       "      <th>22</th>\n",
       "      <td>87857</td>\n",
       "      <td>None</td>\n",
       "      <td>Abu Dhabi Film Commission</td>\n",
       "      <td></td>\n",
       "      <td>168259</td>\n",
       "    </tr>\n",
       "    <tr>\n",
       "      <th>23</th>\n",
       "      <td>33</td>\n",
       "      <td>/8lvHyhjr8oUKOOy2dKXoALWKdp0.png</td>\n",
       "      <td>Universal Pictures</td>\n",
       "      <td>US</td>\n",
       "      <td>168259</td>\n",
       "    </tr>\n",
       "    <tr>\n",
       "      <th>24</th>\n",
       "      <td>40890</td>\n",
       "      <td>None</td>\n",
       "      <td>China Film Co.</td>\n",
       "      <td>CN</td>\n",
       "      <td>168259</td>\n",
       "    </tr>\n",
       "    <tr>\n",
       "      <th>25</th>\n",
       "      <td>333</td>\n",
       "      <td>/5xUJfzPZ8jWJUDzYtIeuPO4qPIa.png</td>\n",
       "      <td>Original Film</td>\n",
       "      <td>US</td>\n",
       "      <td>168259</td>\n",
       "    </tr>\n",
       "    <tr>\n",
       "      <th>26</th>\n",
       "      <td>3341</td>\n",
       "      <td>/dTG5dXE1kU2mpmL9BNnraffckLU.png</td>\n",
       "      <td>Fuji Television Network</td>\n",
       "      <td>JP</td>\n",
       "      <td>168259</td>\n",
       "    </tr>\n",
       "    <tr>\n",
       "      <th>27</th>\n",
       "      <td>86352</td>\n",
       "      <td>None</td>\n",
       "      <td>Québec Production Services Tax Credit</td>\n",
       "      <td></td>\n",
       "      <td>168259</td>\n",
       "    </tr>\n",
       "    <tr>\n",
       "      <th>28</th>\n",
       "      <td>87858</td>\n",
       "      <td>None</td>\n",
       "      <td>Colorado Office of Film, Television &amp; Media</td>\n",
       "      <td></td>\n",
       "      <td>168259</td>\n",
       "    </tr>\n",
       "    <tr>\n",
       "      <th>29</th>\n",
       "      <td>1778</td>\n",
       "      <td>/69xm6sF3JxugGVjfZfm1YY6d7EE.png</td>\n",
       "      <td>Dentsu</td>\n",
       "      <td>JP</td>\n",
       "      <td>168259</td>\n",
       "    </tr>\n",
       "    <tr>\n",
       "      <th>30</th>\n",
       "      <td>2531</td>\n",
       "      <td>/pC2iDCDCvV85vOBP7a5Ukxuc0Du.png</td>\n",
       "      <td>Media Rights Capital</td>\n",
       "      <td>US</td>\n",
       "      <td>168259</td>\n",
       "    </tr>\n",
       "    <tr>\n",
       "      <th>31</th>\n",
       "      <td>1225</td>\n",
       "      <td>None</td>\n",
       "      <td>One Race</td>\n",
       "      <td>US</td>\n",
       "      <td>168259</td>\n",
       "    </tr>\n",
       "    <tr>\n",
       "      <th>32</th>\n",
       "      <td>420</td>\n",
       "      <td>/hUzeosd33nzE5MCNsZxCGEKTXaQ.png</td>\n",
       "      <td>Marvel Studios</td>\n",
       "      <td>US</td>\n",
       "      <td>99861</td>\n",
       "    </tr>\n",
       "    <tr>\n",
       "      <th>33</th>\n",
       "      <td>420</td>\n",
       "      <td>/hUzeosd33nzE5MCNsZxCGEKTXaQ.png</td>\n",
       "      <td>Marvel Studios</td>\n",
       "      <td>US</td>\n",
       "      <td>284054</td>\n",
       "    </tr>\n",
       "    <tr>\n",
       "      <th>34</th>\n",
       "      <td>2</td>\n",
       "      <td>/wdrCwmRnLFJhEoH8GSfymY85KHT.png</td>\n",
       "      <td>Walt Disney Pictures</td>\n",
       "      <td>US</td>\n",
       "      <td>284054</td>\n",
       "    </tr>\n",
       "    <tr>\n",
       "      <th>35</th>\n",
       "      <td>174</td>\n",
       "      <td>/IuAlhI9eVC9Z8UQWOIDdWRKSEJ.png</td>\n",
       "      <td>Warner Bros. Pictures</td>\n",
       "      <td>US</td>\n",
       "      <td>12445</td>\n",
       "    </tr>\n",
       "    <tr>\n",
       "      <th>36</th>\n",
       "      <td>437</td>\n",
       "      <td>/nu20mtwbEIhUNnQ5NXVhHsNknZj.png</td>\n",
       "      <td>Heyday Films</td>\n",
       "      <td>GB</td>\n",
       "      <td>12445</td>\n",
       "    </tr>\n",
       "    <tr>\n",
       "      <th>37</th>\n",
       "      <td>1</td>\n",
       "      <td>/o86DbpburjxrqAzEDhXZcyE8pDb.png</td>\n",
       "      <td>Lucasfilm</td>\n",
       "      <td>US</td>\n",
       "      <td>181808</td>\n",
       "    </tr>\n",
       "    <tr>\n",
       "      <th>38</th>\n",
       "      <td>11092</td>\n",
       "      <td>None</td>\n",
       "      <td>Ram Bergman Productions</td>\n",
       "      <td>US</td>\n",
       "      <td>181808</td>\n",
       "    </tr>\n",
       "    <tr>\n",
       "      <th>39</th>\n",
       "      <td>2</td>\n",
       "      <td>/wdrCwmRnLFJhEoH8GSfymY85KHT.png</td>\n",
       "      <td>Walt Disney Pictures</td>\n",
       "      <td>US</td>\n",
       "      <td>181808</td>\n",
       "    </tr>\n",
       "    <tr>\n",
       "      <th>40</th>\n",
       "      <td>6125</td>\n",
       "      <td>/tVPmo07IHhBs4HuilrcV0yujsZ9.png</td>\n",
       "      <td>Walt Disney Animation Studios</td>\n",
       "      <td>US</td>\n",
       "      <td>330457</td>\n",
       "    </tr>\n",
       "    <tr>\n",
       "      <th>41</th>\n",
       "      <td>2</td>\n",
       "      <td>/wdrCwmRnLFJhEoH8GSfymY85KHT.png</td>\n",
       "      <td>Walt Disney Pictures</td>\n",
       "      <td>US</td>\n",
       "      <td>330457</td>\n",
       "    </tr>\n",
       "    <tr>\n",
       "      <th>42</th>\n",
       "      <td>56</td>\n",
       "      <td>/cEaxANEisCqeEoRvODv2dO1I0iI.png</td>\n",
       "      <td>Amblin Entertainment</td>\n",
       "      <td>US</td>\n",
       "      <td>351286</td>\n",
       "    </tr>\n",
       "    <tr>\n",
       "      <th>43</th>\n",
       "      <td>923</td>\n",
       "      <td>/5UQsZrfbfG2dYJbx8DxfoTr2Bvu.png</td>\n",
       "      <td>Legendary Entertainment</td>\n",
       "      <td>US</td>\n",
       "      <td>351286</td>\n",
       "    </tr>\n",
       "    <tr>\n",
       "      <th>44</th>\n",
       "      <td>33</td>\n",
       "      <td>/8lvHyhjr8oUKOOy2dKXoALWKdp0.png</td>\n",
       "      <td>Universal Pictures</td>\n",
       "      <td>US</td>\n",
       "      <td>351286</td>\n",
       "    </tr>\n",
       "    <tr>\n",
       "      <th>45</th>\n",
       "      <td>10338</td>\n",
       "      <td>/el2ap6lvjcEDdbyJoB3oKiYgXu9.png</td>\n",
       "      <td>Perfect World Pictures</td>\n",
       "      <td>CN</td>\n",
       "      <td>351286</td>\n",
       "    </tr>\n",
       "    <tr>\n",
       "      <th>46</th>\n",
       "      <td>2</td>\n",
       "      <td>/wdrCwmRnLFJhEoH8GSfymY85KHT.png</td>\n",
       "      <td>Walt Disney Pictures</td>\n",
       "      <td>US</td>\n",
       "      <td>109445</td>\n",
       "    </tr>\n",
       "    <tr>\n",
       "      <th>47</th>\n",
       "      <td>6125</td>\n",
       "      <td>/tVPmo07IHhBs4HuilrcV0yujsZ9.png</td>\n",
       "      <td>Walt Disney Animation Studios</td>\n",
       "      <td>US</td>\n",
       "      <td>109445</td>\n",
       "    </tr>\n",
       "    <tr>\n",
       "      <th>48</th>\n",
       "      <td>2</td>\n",
       "      <td>/wdrCwmRnLFJhEoH8GSfymY85KHT.png</td>\n",
       "      <td>Walt Disney Pictures</td>\n",
       "      <td>US</td>\n",
       "      <td>321612</td>\n",
       "    </tr>\n",
       "    <tr>\n",
       "      <th>49</th>\n",
       "      <td>10227</td>\n",
       "      <td>/3YfRy3DBl4abcqkzGx4RVNz12yl.png</td>\n",
       "      <td>Mandeville Films</td>\n",
       "      <td>US</td>\n",
       "      <td>321612</td>\n",
       "    </tr>\n",
       "    <tr>\n",
       "      <th>50</th>\n",
       "      <td>2</td>\n",
       "      <td>/wdrCwmRnLFJhEoH8GSfymY85KHT.png</td>\n",
       "      <td>Walt Disney Pictures</td>\n",
       "      <td>US</td>\n",
       "      <td>260513</td>\n",
       "    </tr>\n",
       "    <tr>\n",
       "      <th>51</th>\n",
       "      <td>3</td>\n",
       "      <td>/1TjvGVDMYsj6JBxOAkUHpPEwLf7.png</td>\n",
       "      <td>Pixar</td>\n",
       "      <td>US</td>\n",
       "      <td>260513</td>\n",
       "    </tr>\n",
       "  </tbody>\n",
       "</table>\n",
       "</div>"
      ],
      "text/plain": [
       "    comp_id                    comp_logo_path  \\\n",
       "0       420  /hUzeosd33nzE5MCNsZxCGEKTXaQ.png   \n",
       "1       444  /42UPdZl6B2cFXgNUASR8hSt9mpS.png   \n",
       "2       574  /iB6GjNVHs5hOqcEYt2rcjBqIjki.png   \n",
       "3        25  /qZCc1lty5FzX30aOCVRBLzaVmcp.png   \n",
       "4       290   /Q8mw2AOQQc8Qg0uNwLWq86DVZv.png   \n",
       "5      1634                              None   \n",
       "6         1  /o86DbpburjxrqAzEDhXZcyE8pDb.png   \n",
       "7     11461  /p9FoEt5shEKRWRKVIlvFaEmRnun.png   \n",
       "8       420  /hUzeosd33nzE5MCNsZxCGEKTXaQ.png   \n",
       "9         4  /fycMZt242LVjagMByZOLUGbCvv3.png   \n",
       "10      574  /iB6GjNVHs5hOqcEYt2rcjBqIjki.png   \n",
       "11       25  /qZCc1lty5FzX30aOCVRBLzaVmcp.png   \n",
       "12     3341  /dTG5dXE1kU2mpmL9BNnraffckLU.png   \n",
       "13       56  /cEaxANEisCqeEoRvODv2dO1I0iI.png   \n",
       "14      923  /5UQsZrfbfG2dYJbx8DxfoTr2Bvu.png   \n",
       "15       33  /8lvHyhjr8oUKOOy2dKXoALWKdp0.png   \n",
       "16     1778  /69xm6sF3JxugGVjfZfm1YY6d7EE.png   \n",
       "17      862  /udTjbqPmcTbfrihMuLtLcizDEM1.png   \n",
       "18        2  /wdrCwmRnLFJhEoH8GSfymY85KHT.png   \n",
       "19     7297  /l29JYQVZbTcjZXoz4CUYFpKRmM3.png   \n",
       "20      420  /hUzeosd33nzE5MCNsZxCGEKTXaQ.png   \n",
       "21        4  /fycMZt242LVjagMByZOLUGbCvv3.png   \n",
       "22    87857                              None   \n",
       "23       33  /8lvHyhjr8oUKOOy2dKXoALWKdp0.png   \n",
       "24    40890                              None   \n",
       "25      333  /5xUJfzPZ8jWJUDzYtIeuPO4qPIa.png   \n",
       "26     3341  /dTG5dXE1kU2mpmL9BNnraffckLU.png   \n",
       "27    86352                              None   \n",
       "28    87858                              None   \n",
       "29     1778  /69xm6sF3JxugGVjfZfm1YY6d7EE.png   \n",
       "30     2531  /pC2iDCDCvV85vOBP7a5Ukxuc0Du.png   \n",
       "31     1225                              None   \n",
       "32      420  /hUzeosd33nzE5MCNsZxCGEKTXaQ.png   \n",
       "33      420  /hUzeosd33nzE5MCNsZxCGEKTXaQ.png   \n",
       "34        2  /wdrCwmRnLFJhEoH8GSfymY85KHT.png   \n",
       "35      174   /IuAlhI9eVC9Z8UQWOIDdWRKSEJ.png   \n",
       "36      437  /nu20mtwbEIhUNnQ5NXVhHsNknZj.png   \n",
       "37        1  /o86DbpburjxrqAzEDhXZcyE8pDb.png   \n",
       "38    11092                              None   \n",
       "39        2  /wdrCwmRnLFJhEoH8GSfymY85KHT.png   \n",
       "40     6125  /tVPmo07IHhBs4HuilrcV0yujsZ9.png   \n",
       "41        2  /wdrCwmRnLFJhEoH8GSfymY85KHT.png   \n",
       "42       56  /cEaxANEisCqeEoRvODv2dO1I0iI.png   \n",
       "43      923  /5UQsZrfbfG2dYJbx8DxfoTr2Bvu.png   \n",
       "44       33  /8lvHyhjr8oUKOOy2dKXoALWKdp0.png   \n",
       "45    10338  /el2ap6lvjcEDdbyJoB3oKiYgXu9.png   \n",
       "46        2  /wdrCwmRnLFJhEoH8GSfymY85KHT.png   \n",
       "47     6125  /tVPmo07IHhBs4HuilrcV0yujsZ9.png   \n",
       "48        2  /wdrCwmRnLFJhEoH8GSfymY85KHT.png   \n",
       "49    10227  /3YfRy3DBl4abcqkzGx4RVNz12yl.png   \n",
       "50        2  /wdrCwmRnLFJhEoH8GSfymY85KHT.png   \n",
       "51        3  /1TjvGVDMYsj6JBxOAkUHpPEwLf7.png   \n",
       "\n",
       "                                      comp_name comp_origin_country      id  \n",
       "0                                Marvel Studios                  US  299534  \n",
       "1                            Dune Entertainment                  US   19995  \n",
       "2                      Lightstorm Entertainment                  US   19995  \n",
       "3                              20th Century Fox                  US   19995  \n",
       "4                               Ingenious Media                  GB   19995  \n",
       "5                         Truenorth Productions                  IS  140607  \n",
       "6                                     Lucasfilm                  US  140607  \n",
       "7                                     Bad Robot                  US  140607  \n",
       "8                                Marvel Studios                  US  299536  \n",
       "9                                     Paramount                  US     597  \n",
       "10                     Lightstorm Entertainment                  US     597  \n",
       "11                             20th Century Fox                  US     597  \n",
       "12                      Fuji Television Network                  JP  135397  \n",
       "13                         Amblin Entertainment                  US  135397  \n",
       "14                      Legendary Entertainment                  US  135397  \n",
       "15                           Universal Pictures                  US  135397  \n",
       "16                                       Dentsu                  JP  135397  \n",
       "17                 The Kennedy/Marshall Company                  US  135397  \n",
       "18                         Walt Disney Pictures                  US  420818  \n",
       "19                       Fairview Entertainment                  US  420818  \n",
       "20                               Marvel Studios                  US   24428  \n",
       "21                                    Paramount                  US   24428  \n",
       "22                    Abu Dhabi Film Commission                      168259  \n",
       "23                           Universal Pictures                  US  168259  \n",
       "24                               China Film Co.                  CN  168259  \n",
       "25                                Original Film                  US  168259  \n",
       "26                      Fuji Television Network                  JP  168259  \n",
       "27        Québec Production Services Tax Credit                      168259  \n",
       "28  Colorado Office of Film, Television & Media                      168259  \n",
       "29                                       Dentsu                  JP  168259  \n",
       "30                         Media Rights Capital                  US  168259  \n",
       "31                                     One Race                  US  168259  \n",
       "32                               Marvel Studios                  US   99861  \n",
       "33                               Marvel Studios                  US  284054  \n",
       "34                         Walt Disney Pictures                  US  284054  \n",
       "35                        Warner Bros. Pictures                  US   12445  \n",
       "36                                 Heyday Films                  GB   12445  \n",
       "37                                    Lucasfilm                  US  181808  \n",
       "38                      Ram Bergman Productions                  US  181808  \n",
       "39                         Walt Disney Pictures                  US  181808  \n",
       "40                Walt Disney Animation Studios                  US  330457  \n",
       "41                         Walt Disney Pictures                  US  330457  \n",
       "42                         Amblin Entertainment                  US  351286  \n",
       "43                      Legendary Entertainment                  US  351286  \n",
       "44                           Universal Pictures                  US  351286  \n",
       "45                       Perfect World Pictures                  CN  351286  \n",
       "46                         Walt Disney Pictures                  US  109445  \n",
       "47                Walt Disney Animation Studios                  US  109445  \n",
       "48                         Walt Disney Pictures                  US  321612  \n",
       "49                             Mandeville Films                  US  321612  \n",
       "50                         Walt Disney Pictures                  US  260513  \n",
       "51                                        Pixar                  US  260513  "
      ]
     },
     "execution_count": 114,
     "metadata": {},
     "output_type": "execute_result"
    }
   ],
   "source": [
    "prod = pd.json_normalize(data = data, record_path = \"production_companies\", meta = \"id\", record_prefix = \"comp_\")\n",
    "prod"
   ]
  },
  {
   "cell_type": "code",
   "execution_count": 115,
   "id": "f8544f4b",
   "metadata": {},
   "outputs": [],
   "source": [
    "# 'movies.db' veritabanımızdaki her bir tabloyu başlatmak istiyoruz."
   ]
  },
  {
   "cell_type": "code",
   "execution_count": 116,
   "id": "21270eb0",
   "metadata": {},
   "outputs": [],
   "source": [
    "# Böylece bu 'sq3.connect' methodunu kullanabilir ve 'movies.db' dosya adını iletebiliriz."
   ]
  },
  {
   "cell_type": "code",
   "execution_count": 117,
   "id": "0c4d6deb",
   "metadata": {},
   "outputs": [],
   "source": [
    "con = sq3.connect(\"movies.db\")"
   ]
  },
  {
   "cell_type": "code",
   "execution_count": 118,
   "id": "72da7619",
   "metadata": {},
   "outputs": [
    {
     "data": {
      "text/plain": [
       "<sqlite3.Connection at 0x2e0c554d300>"
      ]
     },
     "execution_count": 118,
     "metadata": {},
     "output_type": "execute_result"
    }
   ],
   "source": [
    "con"
   ]
  },
  {
   "cell_type": "code",
   "execution_count": 119,
   "id": "213b4b69",
   "metadata": {},
   "outputs": [
    {
     "data": {
      "text/html": [
       "<div>\n",
       "<style scoped>\n",
       "    .dataframe tbody tr th:only-of-type {\n",
       "        vertical-align: middle;\n",
       "    }\n",
       "\n",
       "    .dataframe tbody tr th {\n",
       "        vertical-align: top;\n",
       "    }\n",
       "\n",
       "    .dataframe thead th {\n",
       "        text-align: right;\n",
       "    }\n",
       "</style>\n",
       "<table border=\"1\" class=\"dataframe\">\n",
       "  <thead>\n",
       "    <tr style=\"text-align: right;\">\n",
       "      <th></th>\n",
       "      <th>sum(revenue)</th>\n",
       "    </tr>\n",
       "  </thead>\n",
       "  <tbody>\n",
       "    <tr>\n",
       "      <th>0</th>\n",
       "      <td>29748.575327</td>\n",
       "    </tr>\n",
       "  </tbody>\n",
       "</table>\n",
       "</div>"
      ],
      "text/plain": [
       "   sum(revenue)\n",
       "0  29748.575327"
      ]
     },
     "execution_count": 119,
     "metadata": {},
     "output_type": "execute_result"
    }
   ],
   "source": [
    "pd.read_sql(\"SELECT sum(revenue) FROM Movies\", con)"
   ]
  },
  {
   "cell_type": "code",
   "execution_count": 120,
   "id": "154147c4",
   "metadata": {},
   "outputs": [
    {
     "data": {
      "text/plain": [
       "29748.575327000002"
      ]
     },
     "execution_count": 120,
     "metadata": {},
     "output_type": "execute_result"
    }
   ],
   "source": [
    "con.execute(\"SELECT sum(revenue) FROM Movies\").fetchall()[0][0]"
   ]
  },
  {
   "cell_type": "code",
   "execution_count": 121,
   "id": "9ab0022a",
   "metadata": {},
   "outputs": [
    {
     "data": {
      "text/html": [
       "<div>\n",
       "<style scoped>\n",
       "    .dataframe tbody tr th:only-of-type {\n",
       "        vertical-align: middle;\n",
       "    }\n",
       "\n",
       "    .dataframe tbody tr th {\n",
       "        vertical-align: top;\n",
       "    }\n",
       "\n",
       "    .dataframe thead th {\n",
       "        text-align: right;\n",
       "    }\n",
       "</style>\n",
       "<table border=\"1\" class=\"dataframe\">\n",
       "  <thead>\n",
       "    <tr style=\"text-align: right;\">\n",
       "      <th></th>\n",
       "      <th>count(title)</th>\n",
       "    </tr>\n",
       "  </thead>\n",
       "  <tbody>\n",
       "    <tr>\n",
       "      <th>0</th>\n",
       "      <td>18</td>\n",
       "    </tr>\n",
       "  </tbody>\n",
       "</table>\n",
       "</div>"
      ],
      "text/plain": [
       "   count(title)\n",
       "0            18"
      ]
     },
     "execution_count": 121,
     "metadata": {},
     "output_type": "execute_result"
    }
   ],
   "source": [
    "pd.read_sql(\"SELECT count(title) FROM Movies\", con)"
   ]
  },
  {
   "cell_type": "code",
   "execution_count": 122,
   "id": "e6798172",
   "metadata": {},
   "outputs": [
    {
     "data": {
      "text/html": [
       "<div>\n",
       "<style scoped>\n",
       "    .dataframe tbody tr th:only-of-type {\n",
       "        vertical-align: middle;\n",
       "    }\n",
       "\n",
       "    .dataframe tbody tr th {\n",
       "        vertical-align: top;\n",
       "    }\n",
       "\n",
       "    .dataframe thead th {\n",
       "        text-align: right;\n",
       "    }\n",
       "</style>\n",
       "<table border=\"1\" class=\"dataframe\">\n",
       "  <thead>\n",
       "    <tr style=\"text-align: right;\">\n",
       "      <th></th>\n",
       "      <th>count(belongs_to_collection_name)</th>\n",
       "    </tr>\n",
       "  </thead>\n",
       "  <tbody>\n",
       "    <tr>\n",
       "      <th>0</th>\n",
       "      <td>15</td>\n",
       "    </tr>\n",
       "  </tbody>\n",
       "</table>\n",
       "</div>"
      ],
      "text/plain": [
       "   count(belongs_to_collection_name)\n",
       "0                                 15"
      ]
     },
     "execution_count": 122,
     "metadata": {},
     "output_type": "execute_result"
    }
   ],
   "source": [
    "pd.read_sql(\"SELECT count(belongs_to_collection_name) FROM Movies\", con)"
   ]
  },
  {
   "cell_type": "code",
   "execution_count": 123,
   "id": "f6891b33",
   "metadata": {},
   "outputs": [
    {
     "data": {
      "text/html": [
       "<div>\n",
       "<style scoped>\n",
       "    .dataframe tbody tr th:only-of-type {\n",
       "        vertical-align: middle;\n",
       "    }\n",
       "\n",
       "    .dataframe tbody tr th {\n",
       "        vertical-align: top;\n",
       "    }\n",
       "\n",
       "    .dataframe thead th {\n",
       "        text-align: right;\n",
       "    }\n",
       "</style>\n",
       "<table border=\"1\" class=\"dataframe\">\n",
       "  <thead>\n",
       "    <tr style=\"text-align: right;\">\n",
       "      <th></th>\n",
       "      <th>avg(budget)</th>\n",
       "    </tr>\n",
       "  </thead>\n",
       "  <tbody>\n",
       "    <tr>\n",
       "      <th>0</th>\n",
       "      <td>209.055556</td>\n",
       "    </tr>\n",
       "  </tbody>\n",
       "</table>\n",
       "</div>"
      ],
      "text/plain": [
       "   avg(budget)\n",
       "0   209.055556"
      ]
     },
     "execution_count": 123,
     "metadata": {},
     "output_type": "execute_result"
    }
   ],
   "source": [
    "pd.read_sql(\"SELECT avg(budget) FROM Movies\", con)"
   ]
  },
  {
   "cell_type": "code",
   "execution_count": 124,
   "id": "3e7c3f07",
   "metadata": {},
   "outputs": [
    {
     "data": {
      "text/html": [
       "<div>\n",
       "<style scoped>\n",
       "    .dataframe tbody tr th:only-of-type {\n",
       "        vertical-align: middle;\n",
       "    }\n",
       "\n",
       "    .dataframe tbody tr th {\n",
       "        vertical-align: top;\n",
       "    }\n",
       "\n",
       "    .dataframe thead th {\n",
       "        text-align: right;\n",
       "    }\n",
       "</style>\n",
       "<table border=\"1\" class=\"dataframe\">\n",
       "  <thead>\n",
       "    <tr style=\"text-align: right;\">\n",
       "      <th></th>\n",
       "      <th>id</th>\n",
       "      <th>title</th>\n",
       "      <th>revenue</th>\n",
       "      <th>budget</th>\n",
       "      <th>belongs_to_collection_name</th>\n",
       "      <th>release_date</th>\n",
       "    </tr>\n",
       "  </thead>\n",
       "  <tbody>\n",
       "    <tr>\n",
       "      <th>0</th>\n",
       "      <td>597</td>\n",
       "      <td>Titanic</td>\n",
       "      <td>1845.034188</td>\n",
       "      <td>200.0</td>\n",
       "      <td>None</td>\n",
       "      <td>1997-11-18 00:00:00</td>\n",
       "    </tr>\n",
       "  </tbody>\n",
       "</table>\n",
       "</div>"
      ],
      "text/plain": [
       "    id    title      revenue  budget belongs_to_collection_name  \\\n",
       "0  597  Titanic  1845.034188   200.0                       None   \n",
       "\n",
       "          release_date  \n",
       "0  1997-11-18 00:00:00  "
      ]
     },
     "execution_count": 124,
     "metadata": {},
     "output_type": "execute_result"
    }
   ],
   "source": [
    "pd.read_sql(\"SELECT * FROM Movies WHERE id = 597\", con)"
   ]
  },
  {
   "cell_type": "code",
   "execution_count": 125,
   "id": "47d71ca1",
   "metadata": {},
   "outputs": [
    {
     "data": {
      "text/html": [
       "<div>\n",
       "<style scoped>\n",
       "    .dataframe tbody tr th:only-of-type {\n",
       "        vertical-align: middle;\n",
       "    }\n",
       "\n",
       "    .dataframe tbody tr th {\n",
       "        vertical-align: top;\n",
       "    }\n",
       "\n",
       "    .dataframe thead th {\n",
       "        text-align: right;\n",
       "    }\n",
       "</style>\n",
       "<table border=\"1\" class=\"dataframe\">\n",
       "  <thead>\n",
       "    <tr style=\"text-align: right;\">\n",
       "      <th></th>\n",
       "      <th>id</th>\n",
       "      <th>title</th>\n",
       "      <th>revenue</th>\n",
       "      <th>budget</th>\n",
       "      <th>belongs_to_collection_name</th>\n",
       "      <th>release_date</th>\n",
       "    </tr>\n",
       "  </thead>\n",
       "  <tbody>\n",
       "    <tr>\n",
       "      <th>0</th>\n",
       "      <td>299534</td>\n",
       "      <td>Avengers: Endgame</td>\n",
       "      <td>2797.800564</td>\n",
       "      <td>356.0</td>\n",
       "      <td>The Avengers Collection</td>\n",
       "      <td>2019-04-24 00:00:00</td>\n",
       "    </tr>\n",
       "    <tr>\n",
       "      <th>1</th>\n",
       "      <td>19995</td>\n",
       "      <td>Avatar</td>\n",
       "      <td>2787.965087</td>\n",
       "      <td>237.0</td>\n",
       "      <td>Avatar Collection</td>\n",
       "      <td>2009-12-10 00:00:00</td>\n",
       "    </tr>\n",
       "    <tr>\n",
       "      <th>2</th>\n",
       "      <td>140607</td>\n",
       "      <td>Star Wars: The Force Awakens</td>\n",
       "      <td>2068.223624</td>\n",
       "      <td>245.0</td>\n",
       "      <td>Star Wars Collection</td>\n",
       "      <td>2015-12-15 00:00:00</td>\n",
       "    </tr>\n",
       "    <tr>\n",
       "      <th>3</th>\n",
       "      <td>299536</td>\n",
       "      <td>Avengers: Infinity War</td>\n",
       "      <td>2046.239637</td>\n",
       "      <td>300.0</td>\n",
       "      <td>The Avengers Collection</td>\n",
       "      <td>2018-04-25 00:00:00</td>\n",
       "    </tr>\n",
       "  </tbody>\n",
       "</table>\n",
       "</div>"
      ],
      "text/plain": [
       "       id                         title      revenue  budget  \\\n",
       "0  299534             Avengers: Endgame  2797.800564   356.0   \n",
       "1   19995                        Avatar  2787.965087   237.0   \n",
       "2  140607  Star Wars: The Force Awakens  2068.223624   245.0   \n",
       "3  299536        Avengers: Infinity War  2046.239637   300.0   \n",
       "\n",
       "  belongs_to_collection_name         release_date  \n",
       "0    The Avengers Collection  2019-04-24 00:00:00  \n",
       "1          Avatar Collection  2009-12-10 00:00:00  \n",
       "2       Star Wars Collection  2015-12-15 00:00:00  \n",
       "3    The Avengers Collection  2018-04-25 00:00:00  "
      ]
     },
     "execution_count": 125,
     "metadata": {},
     "output_type": "execute_result"
    }
   ],
   "source": [
    "pd.read_sql(\"SELECT * FROM Movies WHERE revenue > 2000\", con)"
   ]
  },
  {
   "cell_type": "code",
   "execution_count": 126,
   "id": "388e4caf",
   "metadata": {},
   "outputs": [
    {
     "data": {
      "text/html": [
       "<div>\n",
       "<style scoped>\n",
       "    .dataframe tbody tr th:only-of-type {\n",
       "        vertical-align: middle;\n",
       "    }\n",
       "\n",
       "    .dataframe tbody tr th {\n",
       "        vertical-align: top;\n",
       "    }\n",
       "\n",
       "    .dataframe thead th {\n",
       "        text-align: right;\n",
       "    }\n",
       "</style>\n",
       "<table border=\"1\" class=\"dataframe\">\n",
       "  <thead>\n",
       "    <tr style=\"text-align: right;\">\n",
       "      <th></th>\n",
       "      <th>MIN(budget)</th>\n",
       "    </tr>\n",
       "  </thead>\n",
       "  <tbody>\n",
       "    <tr>\n",
       "      <th>0</th>\n",
       "      <td>125.0</td>\n",
       "    </tr>\n",
       "  </tbody>\n",
       "</table>\n",
       "</div>"
      ],
      "text/plain": [
       "   MIN(budget)\n",
       "0        125.0"
      ]
     },
     "execution_count": 126,
     "metadata": {},
     "output_type": "execute_result"
    }
   ],
   "source": [
    "pd.read_sql(\"SELECT MIN(budget) FROM Movies WHERE revenue > 1250\", con)"
   ]
  },
  {
   "cell_type": "code",
   "execution_count": 127,
   "id": "e34d5b69",
   "metadata": {},
   "outputs": [],
   "source": [
    "#SELECT DISTINCT:Tekrarlanan değerleri sadeleştirerek farkı değerleri bulmamıza olanak sağlar."
   ]
  },
  {
   "cell_type": "code",
   "execution_count": 128,
   "id": "2cdc9db3",
   "metadata": {},
   "outputs": [
    {
     "data": {
      "text/html": [
       "<div>\n",
       "<style scoped>\n",
       "    .dataframe tbody tr th:only-of-type {\n",
       "        vertical-align: middle;\n",
       "    }\n",
       "\n",
       "    .dataframe tbody tr th {\n",
       "        vertical-align: top;\n",
       "    }\n",
       "\n",
       "    .dataframe thead th {\n",
       "        text-align: right;\n",
       "    }\n",
       "</style>\n",
       "<table border=\"1\" class=\"dataframe\">\n",
       "  <thead>\n",
       "    <tr style=\"text-align: right;\">\n",
       "      <th></th>\n",
       "      <th>belongs_to_collection_name</th>\n",
       "    </tr>\n",
       "  </thead>\n",
       "  <tbody>\n",
       "    <tr>\n",
       "      <th>0</th>\n",
       "      <td>The Avengers Collection</td>\n",
       "    </tr>\n",
       "    <tr>\n",
       "      <th>1</th>\n",
       "      <td>Avatar Collection</td>\n",
       "    </tr>\n",
       "    <tr>\n",
       "      <th>2</th>\n",
       "      <td>Star Wars Collection</td>\n",
       "    </tr>\n",
       "    <tr>\n",
       "      <th>3</th>\n",
       "      <td>None</td>\n",
       "    </tr>\n",
       "    <tr>\n",
       "      <th>4</th>\n",
       "      <td>Jurassic Park Collection</td>\n",
       "    </tr>\n",
       "    <tr>\n",
       "      <th>5</th>\n",
       "      <td>The Fast and the Furious Collection</td>\n",
       "    </tr>\n",
       "    <tr>\n",
       "      <th>6</th>\n",
       "      <td>Black Panther Collection</td>\n",
       "    </tr>\n",
       "    <tr>\n",
       "      <th>7</th>\n",
       "      <td>Harry Potter Collection</td>\n",
       "    </tr>\n",
       "    <tr>\n",
       "      <th>8</th>\n",
       "      <td>Frozen Collection</td>\n",
       "    </tr>\n",
       "    <tr>\n",
       "      <th>9</th>\n",
       "      <td>The Incredibles Collection</td>\n",
       "    </tr>\n",
       "  </tbody>\n",
       "</table>\n",
       "</div>"
      ],
      "text/plain": [
       "            belongs_to_collection_name\n",
       "0              The Avengers Collection\n",
       "1                    Avatar Collection\n",
       "2                 Star Wars Collection\n",
       "3                                 None\n",
       "4             Jurassic Park Collection\n",
       "5  The Fast and the Furious Collection\n",
       "6             Black Panther Collection\n",
       "7              Harry Potter Collection\n",
       "8                    Frozen Collection\n",
       "9           The Incredibles Collection"
      ]
     },
     "execution_count": 128,
     "metadata": {},
     "output_type": "execute_result"
    }
   ],
   "source": [
    "pd.read_sql(\"SELECT DISTINCT belongs_to_collection_name FROM Movies\", con)"
   ]
  },
  {
   "cell_type": "code",
   "execution_count": 129,
   "id": "f2233099",
   "metadata": {},
   "outputs": [],
   "source": [
    "# NULL olmayan bir değer bulunursa TRUE döndürür, aksi takdirde FALSE döndürür.\n",
    "# NaN olanları listeden kaldırdı."
   ]
  },
  {
   "cell_type": "code",
   "execution_count": 130,
   "id": "fb1c2fec",
   "metadata": {},
   "outputs": [
    {
     "data": {
      "text/html": [
       "<div>\n",
       "<style scoped>\n",
       "    .dataframe tbody tr th:only-of-type {\n",
       "        vertical-align: middle;\n",
       "    }\n",
       "\n",
       "    .dataframe tbody tr th {\n",
       "        vertical-align: top;\n",
       "    }\n",
       "\n",
       "    .dataframe thead th {\n",
       "        text-align: right;\n",
       "    }\n",
       "</style>\n",
       "<table border=\"1\" class=\"dataframe\">\n",
       "  <thead>\n",
       "    <tr style=\"text-align: right;\">\n",
       "      <th></th>\n",
       "      <th>id</th>\n",
       "      <th>title</th>\n",
       "      <th>revenue</th>\n",
       "      <th>budget</th>\n",
       "      <th>belongs_to_collection_name</th>\n",
       "      <th>release_date</th>\n",
       "    </tr>\n",
       "  </thead>\n",
       "  <tbody>\n",
       "    <tr>\n",
       "      <th>0</th>\n",
       "      <td>299534</td>\n",
       "      <td>Avengers: Endgame</td>\n",
       "      <td>2797.800564</td>\n",
       "      <td>356.0</td>\n",
       "      <td>The Avengers Collection</td>\n",
       "      <td>2019-04-24 00:00:00</td>\n",
       "    </tr>\n",
       "    <tr>\n",
       "      <th>1</th>\n",
       "      <td>19995</td>\n",
       "      <td>Avatar</td>\n",
       "      <td>2787.965087</td>\n",
       "      <td>237.0</td>\n",
       "      <td>Avatar Collection</td>\n",
       "      <td>2009-12-10 00:00:00</td>\n",
       "    </tr>\n",
       "    <tr>\n",
       "      <th>2</th>\n",
       "      <td>140607</td>\n",
       "      <td>Star Wars: The Force Awakens</td>\n",
       "      <td>2068.223624</td>\n",
       "      <td>245.0</td>\n",
       "      <td>Star Wars Collection</td>\n",
       "      <td>2015-12-15 00:00:00</td>\n",
       "    </tr>\n",
       "    <tr>\n",
       "      <th>3</th>\n",
       "      <td>299536</td>\n",
       "      <td>Avengers: Infinity War</td>\n",
       "      <td>2046.239637</td>\n",
       "      <td>300.0</td>\n",
       "      <td>The Avengers Collection</td>\n",
       "      <td>2018-04-25 00:00:00</td>\n",
       "    </tr>\n",
       "    <tr>\n",
       "      <th>4</th>\n",
       "      <td>135397</td>\n",
       "      <td>Jurassic World</td>\n",
       "      <td>1671.713208</td>\n",
       "      <td>150.0</td>\n",
       "      <td>Jurassic Park Collection</td>\n",
       "      <td>2015-06-06 00:00:00</td>\n",
       "    </tr>\n",
       "    <tr>\n",
       "      <th>5</th>\n",
       "      <td>24428</td>\n",
       "      <td>The Avengers</td>\n",
       "      <td>1519.557910</td>\n",
       "      <td>220.0</td>\n",
       "      <td>The Avengers Collection</td>\n",
       "      <td>2012-04-25 00:00:00</td>\n",
       "    </tr>\n",
       "    <tr>\n",
       "      <th>6</th>\n",
       "      <td>168259</td>\n",
       "      <td>Furious 7</td>\n",
       "      <td>1515.047671</td>\n",
       "      <td>190.0</td>\n",
       "      <td>The Fast and the Furious Collection</td>\n",
       "      <td>2015-04-01 00:00:00</td>\n",
       "    </tr>\n",
       "    <tr>\n",
       "      <th>7</th>\n",
       "      <td>99861</td>\n",
       "      <td>Avengers: Age of Ultron</td>\n",
       "      <td>1405.403694</td>\n",
       "      <td>250.0</td>\n",
       "      <td>The Avengers Collection</td>\n",
       "      <td>2015-04-22 00:00:00</td>\n",
       "    </tr>\n",
       "    <tr>\n",
       "      <th>8</th>\n",
       "      <td>284054</td>\n",
       "      <td>Black Panther</td>\n",
       "      <td>1346.739107</td>\n",
       "      <td>200.0</td>\n",
       "      <td>Black Panther Collection</td>\n",
       "      <td>2018-02-13 00:00:00</td>\n",
       "    </tr>\n",
       "    <tr>\n",
       "      <th>9</th>\n",
       "      <td>12445</td>\n",
       "      <td>Harry Potter and the Deathly Hallows: Part 2</td>\n",
       "      <td>1341.511219</td>\n",
       "      <td>125.0</td>\n",
       "      <td>Harry Potter Collection</td>\n",
       "      <td>2011-07-07 00:00:00</td>\n",
       "    </tr>\n",
       "    <tr>\n",
       "      <th>10</th>\n",
       "      <td>181808</td>\n",
       "      <td>Star Wars: The Last Jedi</td>\n",
       "      <td>1332.539889</td>\n",
       "      <td>200.0</td>\n",
       "      <td>Star Wars Collection</td>\n",
       "      <td>2017-12-13 00:00:00</td>\n",
       "    </tr>\n",
       "    <tr>\n",
       "      <th>11</th>\n",
       "      <td>330457</td>\n",
       "      <td>Frozen II</td>\n",
       "      <td>1330.764959</td>\n",
       "      <td>150.0</td>\n",
       "      <td>Frozen Collection</td>\n",
       "      <td>2019-11-20 00:00:00</td>\n",
       "    </tr>\n",
       "    <tr>\n",
       "      <th>12</th>\n",
       "      <td>351286</td>\n",
       "      <td>Jurassic World: Fallen Kingdom</td>\n",
       "      <td>1303.459585</td>\n",
       "      <td>170.0</td>\n",
       "      <td>Jurassic Park Collection</td>\n",
       "      <td>2018-06-06 00:00:00</td>\n",
       "    </tr>\n",
       "    <tr>\n",
       "      <th>13</th>\n",
       "      <td>109445</td>\n",
       "      <td>Frozen</td>\n",
       "      <td>1274.219009</td>\n",
       "      <td>150.0</td>\n",
       "      <td>Frozen Collection</td>\n",
       "      <td>2013-11-27 00:00:00</td>\n",
       "    </tr>\n",
       "    <tr>\n",
       "      <th>14</th>\n",
       "      <td>260513</td>\n",
       "      <td>Incredibles 2</td>\n",
       "      <td>1241.891456</td>\n",
       "      <td>200.0</td>\n",
       "      <td>The Incredibles Collection</td>\n",
       "      <td>2018-06-14 00:00:00</td>\n",
       "    </tr>\n",
       "  </tbody>\n",
       "</table>\n",
       "</div>"
      ],
      "text/plain": [
       "        id                                         title      revenue  budget  \\\n",
       "0   299534                             Avengers: Endgame  2797.800564   356.0   \n",
       "1    19995                                        Avatar  2787.965087   237.0   \n",
       "2   140607                  Star Wars: The Force Awakens  2068.223624   245.0   \n",
       "3   299536                        Avengers: Infinity War  2046.239637   300.0   \n",
       "4   135397                                Jurassic World  1671.713208   150.0   \n",
       "5    24428                                  The Avengers  1519.557910   220.0   \n",
       "6   168259                                     Furious 7  1515.047671   190.0   \n",
       "7    99861                       Avengers: Age of Ultron  1405.403694   250.0   \n",
       "8   284054                                 Black Panther  1346.739107   200.0   \n",
       "9    12445  Harry Potter and the Deathly Hallows: Part 2  1341.511219   125.0   \n",
       "10  181808                      Star Wars: The Last Jedi  1332.539889   200.0   \n",
       "11  330457                                     Frozen II  1330.764959   150.0   \n",
       "12  351286                Jurassic World: Fallen Kingdom  1303.459585   170.0   \n",
       "13  109445                                        Frozen  1274.219009   150.0   \n",
       "14  260513                                 Incredibles 2  1241.891456   200.0   \n",
       "\n",
       "             belongs_to_collection_name         release_date  \n",
       "0               The Avengers Collection  2019-04-24 00:00:00  \n",
       "1                     Avatar Collection  2009-12-10 00:00:00  \n",
       "2                  Star Wars Collection  2015-12-15 00:00:00  \n",
       "3               The Avengers Collection  2018-04-25 00:00:00  \n",
       "4              Jurassic Park Collection  2015-06-06 00:00:00  \n",
       "5               The Avengers Collection  2012-04-25 00:00:00  \n",
       "6   The Fast and the Furious Collection  2015-04-01 00:00:00  \n",
       "7               The Avengers Collection  2015-04-22 00:00:00  \n",
       "8              Black Panther Collection  2018-02-13 00:00:00  \n",
       "9               Harry Potter Collection  2011-07-07 00:00:00  \n",
       "10                 Star Wars Collection  2017-12-13 00:00:00  \n",
       "11                    Frozen Collection  2019-11-20 00:00:00  \n",
       "12             Jurassic Park Collection  2018-06-06 00:00:00  \n",
       "13                    Frozen Collection  2013-11-27 00:00:00  \n",
       "14           The Incredibles Collection  2018-06-14 00:00:00  "
      ]
     },
     "execution_count": 130,
     "metadata": {},
     "output_type": "execute_result"
    }
   ],
   "source": [
    "pd.read_sql(\"SELECT * FROM Movies WHERE belongs_to_collection_name IS NOT NULL\", con)"
   ]
  },
  {
   "cell_type": "code",
   "execution_count": 131,
   "id": "67bef838",
   "metadata": {},
   "outputs": [],
   "source": [
    "con.close()"
   ]
  },
  {
   "cell_type": "markdown",
   "id": "33cf6484",
   "metadata": {},
   "source": [
    "# Referans\n",
    "1. https://github.com/royalosyin/Practice-SQL-with-SQLite-and-Jupyter-Notebook\n",
    "2. https://datacarpentry.org/python-ecology-lesson/09-working-with-sql/index.html\n",
    "3. https://www.tutorialspoint.com/sqlite/sqlite_commands.htm\n",
    "4.https://gist.githubusercontent.com/FanYang715/b3e61d85ec47366d0ba0b1c7625b32c3/raw/2f86c7a64058730442281a622640056e1ad9aece/pokemon.csv\n",
    "5. https://countrycode.org/\n",
    "6. https://sparkbyexamples.com/pandas/pandas-read-sql-query-or-table/\n",
    "7. https://www.w3resource.com/sqlite-exercises/\n",
    "8. https://veriakademi.com/sql-nedir\n",
    "9. https://www.w3schools.com/sql/sql_like.asp\n",
    "10. https://www.worldometers.info/world-population/"
   ]
  },
  {
   "cell_type": "code",
   "execution_count": null,
   "id": "9d286ccf",
   "metadata": {},
   "outputs": [],
   "source": []
  }
 ],
 "metadata": {
  "kernelspec": {
   "display_name": "Python 3 (ipykernel)",
   "language": "python",
   "name": "python3"
  },
  "language_info": {
   "codemirror_mode": {
    "name": "ipython",
    "version": 3
   },
   "file_extension": ".py",
   "mimetype": "text/x-python",
   "name": "python",
   "nbconvert_exporter": "python",
   "pygments_lexer": "ipython3",
   "version": "3.9.7"
  }
 },
 "nbformat": 4,
 "nbformat_minor": 5
}
